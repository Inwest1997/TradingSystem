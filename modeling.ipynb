{
 "cells": [
  {
   "cell_type": "code",
   "execution_count": 1,
   "metadata": {},
   "outputs": [],
   "source": [
    "import pandas as pd\n",
    "import numpy as np\n",
    "from torch.utils.data import Dataset, DataLoader\n",
    "import os\n",
    "\n",
    "\n",
    "from src.data_loader import *"
   ]
  },
  {
   "cell_type": "code",
   "execution_count": 2,
   "metadata": {},
   "outputs": [],
   "source": [
    "class Transform:\n",
    "\n",
    "    def __init__(self, df, method = 'simple', window_size= 1):\n",
    "        self.method = method\n",
    "        self.df = df\n",
    "        self.signal = []\n",
    "        self.window_size = window_size\n",
    "        self.label_dict = {0:'매수', 1:'매도', 2:'유지'}\n",
    "\n",
    "    def simple_generator(self):\n",
    "\n",
    "        for idx in range(len(self.df['Adj Close'])):\n",
    "            if idx == 0 or idx+1 == len(self.df['Adj Close']):\n",
    "                self.signal.append(0)   \n",
    "            else:\n",
    "                if self.df['Adj Close'].iloc[idx-1]> self.df['Adj Close'].iloc[idx] and \\\n",
    "                        self.df['Adj Close'].iloc[idx+1]> self.df['Adj Close'].iloc[idx]:\n",
    "                    self.signal.append(0)\n",
    "                elif self.df['Adj Close'].iloc[idx-1]< self.df['Adj Close'].iloc[idx] and \\\n",
    "                        self.df['Adj Close'].iloc[idx+1]< self.df['Adj Close'].iloc[idx]:\n",
    "                    self.signal.append(1)\n",
    "                else:\n",
    "                    self.signal.append(2)\n",
    "        self.df['signal'] = self.signal\n",
    "        return self.df.drop('signal', axis = 1), self.df['signal']\n",
    "    \n",
    "\n",
    "    def time_window(self, data): \n",
    "        '''\n",
    "        df          : 변환할 데이터\n",
    "        window_size : 분할 크기  \n",
    "        '''\n",
    "\n",
    "        result = []\n",
    "        for index in range(len(self.df) - self.window_size):\n",
    "            result.append(self.df[index: index + self.window_size].values)\n",
    "\n",
    "        return np.array(result)\n",
    "\n",
    "    def execute(self):\n",
    "        if self.method == 'simple':\n",
    "            X, y = self.simple_generator()\n",
    "            return self.time_window(X), self.time_window(y)"
   ]
  },
  {
   "cell_type": "code",
   "execution_count": 3,
   "metadata": {},
   "outputs": [],
   "source": [
    "class StockDataset(Dataset):\n",
    "    def __init__(self, path, date_type, interval = 'day', ticker = None, window_size = 20,transform=None, method = 'simple'):\n",
    "        self.ticker = ticker\n",
    "        self.method = method\n",
    "        self.df = DataGenerator(date_type, interval).data_search(ticker = self.ticker)\n",
    "        self.X, self.y = Transform(df = self.df, method = self.method).execute()\n",
    "        self.X = self.X.astype(np.float32)\n",
    "        self.y = self.y.astype(np.int64)\n",
    "\n",
    "    def __len__(self):\n",
    "        return len(self.df)\n",
    "    \n",
    "    def __getitem__(self, idx):\n",
    "        # if self.transform is not None:\n",
    "        #     data = YGenerator(df = self.df, method = self.transform)\n",
    "        return self.X[idx], self.y[idx]"
   ]
  },
  {
   "cell_type": "code",
   "execution_count": 51,
   "metadata": {},
   "outputs": [
    {
     "name": "stdout",
     "output_type": "stream",
     "text": [
      "DB에서 데이터 불러오기 성공\n"
     ]
    }
   ],
   "source": [
    "dataset = StockDataset(path = './Dataset',date_type = 'db', interval='day', ticker = 'GOOG' )\n",
    "dataloader = DataLoader(dataset=dataset,\n",
    "                        batch_size=100,\n",
    "                        shuffle=False,\n",
    "                        drop_last=False)"
   ]
  },
  {
   "cell_type": "code",
   "execution_count": null,
   "metadata": {},
   "outputs": [],
   "source": []
  }
 ],
 "metadata": {
  "kernelspec": {
   "display_name": "Python 3.8.13 64-bit ('dl_env')",
   "language": "python",
   "name": "python3"
  },
  "language_info": {
   "codemirror_mode": {
    "name": "ipython",
    "version": 3
   },
   "file_extension": ".py",
   "mimetype": "text/x-python",
   "name": "python",
   "nbconvert_exporter": "python",
   "pygments_lexer": "ipython3",
   "version": "3.8.13"
  },
  "orig_nbformat": 4,
  "vscode": {
   "interpreter": {
    "hash": "3b7f90f3ffd1b2a60fee91aee39c73355e94a75c9e00035a66944cc7ed4c1221"
   }
  }
 },
 "nbformat": 4,
 "nbformat_minor": 2
}
