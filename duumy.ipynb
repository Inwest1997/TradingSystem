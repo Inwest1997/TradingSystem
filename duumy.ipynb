{
 "cells": [
  {
   "cell_type": "code",
   "execution_count": 2,
   "metadata": {},
   "outputs": [],
   "source": [
    "from data_loader import *\n",
    "from index_Trend import *\n",
    "from strategy import *"
   ]
  },
  {
   "cell_type": "code",
   "execution_count": 82,
   "metadata": {},
   "outputs": [],
   "source": [
    "df = pd.read_csv('./Dataset/stock_minute.csv')\n",
    "df = df.drop(df.columns[0], axis = 1 )"
   ]
  },
  {
   "cell_type": "code",
   "execution_count": 83,
   "metadata": {},
   "outputs": [
    {
     "data": {
      "text/html": [
       "<div>\n",
       "<style scoped>\n",
       "    .dataframe tbody tr th:only-of-type {\n",
       "        vertical-align: middle;\n",
       "    }\n",
       "\n",
       "    .dataframe tbody tr th {\n",
       "        vertical-align: top;\n",
       "    }\n",
       "\n",
       "    .dataframe thead th {\n",
       "        text-align: right;\n",
       "    }\n",
       "</style>\n",
       "<table border=\"1\" class=\"dataframe\">\n",
       "  <thead>\n",
       "    <tr style=\"text-align: right;\">\n",
       "      <th></th>\n",
       "      <th>Datetime</th>\n",
       "      <th>Open</th>\n",
       "      <th>High</th>\n",
       "      <th>Low</th>\n",
       "      <th>Close</th>\n",
       "      <th>Adj Close</th>\n",
       "      <th>Volume</th>\n",
       "      <th>Ticker</th>\n",
       "      <th>TickerName</th>\n",
       "    </tr>\n",
       "  </thead>\n",
       "  <tbody>\n",
       "    <tr>\n",
       "      <th>0</th>\n",
       "      <td>2022-10-05 09:30:00-04:00</td>\n",
       "      <td>1.7201</td>\n",
       "      <td>1.7201</td>\n",
       "      <td>1.7201</td>\n",
       "      <td>1.7201</td>\n",
       "      <td>1.7201</td>\n",
       "      <td>3187.0</td>\n",
       "      <td>AACG</td>\n",
       "      <td>ATA Creativity Global American Depositary Shares</td>\n",
       "    </tr>\n",
       "    <tr>\n",
       "      <th>1</th>\n",
       "      <td>2022-10-05 11:37:00-04:00</td>\n",
       "      <td>1.8450</td>\n",
       "      <td>1.8500</td>\n",
       "      <td>1.8400</td>\n",
       "      <td>1.8400</td>\n",
       "      <td>1.8400</td>\n",
       "      <td>501.0</td>\n",
       "      <td>AACG</td>\n",
       "      <td>ATA Creativity Global American Depositary Shares</td>\n",
       "    </tr>\n",
       "    <tr>\n",
       "      <th>2</th>\n",
       "      <td>2022-10-05 11:55:00-04:00</td>\n",
       "      <td>1.8350</td>\n",
       "      <td>1.8350</td>\n",
       "      <td>1.8350</td>\n",
       "      <td>1.8350</td>\n",
       "      <td>1.8350</td>\n",
       "      <td>301.0</td>\n",
       "      <td>AACG</td>\n",
       "      <td>ATA Creativity Global American Depositary Shares</td>\n",
       "    </tr>\n",
       "    <tr>\n",
       "      <th>3</th>\n",
       "      <td>2022-10-05 12:08:00-04:00</td>\n",
       "      <td>1.8475</td>\n",
       "      <td>1.8475</td>\n",
       "      <td>1.8475</td>\n",
       "      <td>1.8475</td>\n",
       "      <td>1.8475</td>\n",
       "      <td>201.0</td>\n",
       "      <td>AACG</td>\n",
       "      <td>ATA Creativity Global American Depositary Shares</td>\n",
       "    </tr>\n",
       "    <tr>\n",
       "      <th>4</th>\n",
       "      <td>2022-10-05 12:42:00-04:00</td>\n",
       "      <td>1.8300</td>\n",
       "      <td>1.8300</td>\n",
       "      <td>1.8300</td>\n",
       "      <td>1.8300</td>\n",
       "      <td>1.8300</td>\n",
       "      <td>151.0</td>\n",
       "      <td>AACG</td>\n",
       "      <td>ATA Creativity Global American Depositary Shares</td>\n",
       "    </tr>\n",
       "    <tr>\n",
       "      <th>...</th>\n",
       "      <td>...</td>\n",
       "      <td>...</td>\n",
       "      <td>...</td>\n",
       "      <td>...</td>\n",
       "      <td>...</td>\n",
       "      <td>...</td>\n",
       "      <td>...</td>\n",
       "      <td>...</td>\n",
       "      <td>...</td>\n",
       "    </tr>\n",
       "    <tr>\n",
       "      <th>4698090</th>\n",
       "      <td>2022-10-17 10:51:00-04:00</td>\n",
       "      <td>8.9400</td>\n",
       "      <td>8.9400</td>\n",
       "      <td>8.9000</td>\n",
       "      <td>8.9000</td>\n",
       "      <td>8.9000</td>\n",
       "      <td>1590.0</td>\n",
       "      <td>ZYXI</td>\n",
       "      <td>Zynex Inc. Common Stock</td>\n",
       "    </tr>\n",
       "    <tr>\n",
       "      <th>4698091</th>\n",
       "      <td>2022-10-17 10:52:00-04:00</td>\n",
       "      <td>8.8900</td>\n",
       "      <td>8.9300</td>\n",
       "      <td>8.8800</td>\n",
       "      <td>8.8950</td>\n",
       "      <td>8.8950</td>\n",
       "      <td>9911.0</td>\n",
       "      <td>ZYXI</td>\n",
       "      <td>Zynex Inc. Common Stock</td>\n",
       "    </tr>\n",
       "    <tr>\n",
       "      <th>4698092</th>\n",
       "      <td>2022-10-17 10:53:00-04:00</td>\n",
       "      <td>8.9500</td>\n",
       "      <td>8.9500</td>\n",
       "      <td>8.9100</td>\n",
       "      <td>8.9100</td>\n",
       "      <td>8.9100</td>\n",
       "      <td>807.0</td>\n",
       "      <td>ZYXI</td>\n",
       "      <td>Zynex Inc. Common Stock</td>\n",
       "    </tr>\n",
       "    <tr>\n",
       "      <th>4698093</th>\n",
       "      <td>2022-10-17 10:58:00-04:00</td>\n",
       "      <td>8.9473</td>\n",
       "      <td>8.9473</td>\n",
       "      <td>8.9473</td>\n",
       "      <td>8.9473</td>\n",
       "      <td>8.9473</td>\n",
       "      <td>724.0</td>\n",
       "      <td>ZYXI</td>\n",
       "      <td>Zynex Inc. Common Stock</td>\n",
       "    </tr>\n",
       "    <tr>\n",
       "      <th>4698094</th>\n",
       "      <td>2022-10-17 16:00:00-04:00</td>\n",
       "      <td>9.1200</td>\n",
       "      <td>9.1200</td>\n",
       "      <td>9.1200</td>\n",
       "      <td>9.1200</td>\n",
       "      <td>9.1200</td>\n",
       "      <td>0.0</td>\n",
       "      <td>ZYXI</td>\n",
       "      <td>Zynex Inc. Common Stock</td>\n",
       "    </tr>\n",
       "  </tbody>\n",
       "</table>\n",
       "<p>4698095 rows × 9 columns</p>\n",
       "</div>"
      ],
      "text/plain": [
       "                          Datetime    Open    High     Low   Close  Adj Close  \\\n",
       "0        2022-10-05 09:30:00-04:00  1.7201  1.7201  1.7201  1.7201     1.7201   \n",
       "1        2022-10-05 11:37:00-04:00  1.8450  1.8500  1.8400  1.8400     1.8400   \n",
       "2        2022-10-05 11:55:00-04:00  1.8350  1.8350  1.8350  1.8350     1.8350   \n",
       "3        2022-10-05 12:08:00-04:00  1.8475  1.8475  1.8475  1.8475     1.8475   \n",
       "4        2022-10-05 12:42:00-04:00  1.8300  1.8300  1.8300  1.8300     1.8300   \n",
       "...                            ...     ...     ...     ...     ...        ...   \n",
       "4698090  2022-10-17 10:51:00-04:00  8.9400  8.9400  8.9000  8.9000     8.9000   \n",
       "4698091  2022-10-17 10:52:00-04:00  8.8900  8.9300  8.8800  8.8950     8.8950   \n",
       "4698092  2022-10-17 10:53:00-04:00  8.9500  8.9500  8.9100  8.9100     8.9100   \n",
       "4698093  2022-10-17 10:58:00-04:00  8.9473  8.9473  8.9473  8.9473     8.9473   \n",
       "4698094  2022-10-17 16:00:00-04:00  9.1200  9.1200  9.1200  9.1200     9.1200   \n",
       "\n",
       "         Volume Ticker                                        TickerName  \n",
       "0        3187.0   AACG  ATA Creativity Global American Depositary Shares  \n",
       "1         501.0   AACG  ATA Creativity Global American Depositary Shares  \n",
       "2         301.0   AACG  ATA Creativity Global American Depositary Shares  \n",
       "3         201.0   AACG  ATA Creativity Global American Depositary Shares  \n",
       "4         151.0   AACG  ATA Creativity Global American Depositary Shares  \n",
       "...         ...    ...                                               ...  \n",
       "4698090  1590.0   ZYXI                           Zynex Inc. Common Stock  \n",
       "4698091  9911.0   ZYXI                           Zynex Inc. Common Stock  \n",
       "4698092   807.0   ZYXI                           Zynex Inc. Common Stock  \n",
       "4698093   724.0   ZYXI                           Zynex Inc. Common Stock  \n",
       "4698094     0.0   ZYXI                           Zynex Inc. Common Stock  \n",
       "\n",
       "[4698095 rows x 9 columns]"
      ]
     },
     "execution_count": 83,
     "metadata": {},
     "output_type": "execute_result"
    }
   ],
   "source": [
    "df"
   ]
  },
  {
   "cell_type": "code",
   "execution_count": 84,
   "metadata": {},
   "outputs": [],
   "source": [
    "df['Datetime'] = to_datetime(df['Datetime'])"
   ]
  },
  {
   "cell_type": "code",
   "execution_count": 85,
   "metadata": {},
   "outputs": [],
   "source": [
    "goog_df = df.groupby('Ticker').get_group('GOOG')"
   ]
  },
  {
   "cell_type": "code",
   "execution_count": 86,
   "metadata": {},
   "outputs": [],
   "source": [
    "goog_rsi = rsi(df.groupby('Ticker').get_group('GOOG'))"
   ]
  },
  {
   "cell_type": "code",
   "execution_count": 92,
   "metadata": {},
   "outputs": [
    {
     "data": {
      "text/plain": [
       "(3309, 3)"
      ]
     },
     "execution_count": 92,
     "metadata": {},
     "output_type": "execute_result"
    }
   ],
   "source": [
    "goog_rsi.shape"
   ]
  },
  {
   "cell_type": "code",
   "execution_count": 107,
   "metadata": {},
   "outputs": [],
   "source": [
    "behavior1 = goog_rsi['RSI'].apply(lambda x : rsi_strategy(x, 70, 30))"
   ]
  },
  {
   "cell_type": "code",
   "execution_count": 98,
   "metadata": {},
   "outputs": [],
   "source": [
    "money = 30000\n",
    "stock = 0\n",
    "m_list = []\n",
    "s_list = []\n",
    "for idx, trade in enumerate(behavior):\n",
    "    if trade == 1 and money > goog_df.iloc[idx]['Adj Close']:\n",
    "        money -= goog_df.iloc[idx]['Adj Close']\n",
    "        stock +=1\n",
    "    elif trade == -1 and stock >0:\n",
    "        money += goog_df.iloc[idx]['Adj Close']\n",
    "        stock -=1\n",
    "    else:\n",
    "        pass\n",
    "\n",
    "    m_list.append(money)\n",
    "    s_list.append(stock)\n",
    "\n"
   ]
  },
  {
   "cell_type": "code",
   "execution_count": 99,
   "metadata": {},
   "outputs": [
    {
     "data": {
      "text/plain": [
       "0.008237623850504557"
      ]
     },
     "execution_count": 99,
     "metadata": {},
     "output_type": "execute_result"
    }
   ],
   "source": [
    "(s_list[-1]* goog_df.iloc[-1]['Adj Close'] + m_list[-1] - m_list[0])/m_list[0]"
   ]
  },
  {
   "cell_type": "code",
   "execution_count": 100,
   "metadata": {},
   "outputs": [],
   "source": [
    "goog_boll = bollinger(goog_df,k=2 , w = 2)"
   ]
  },
  {
   "cell_type": "code",
   "execution_count": 101,
   "metadata": {},
   "outputs": [
    {
     "data": {
      "text/html": [
       "<div>\n",
       "<style scoped>\n",
       "    .dataframe tbody tr th:only-of-type {\n",
       "        vertical-align: middle;\n",
       "    }\n",
       "\n",
       "    .dataframe tbody tr th {\n",
       "        vertical-align: top;\n",
       "    }\n",
       "\n",
       "    .dataframe thead th {\n",
       "        text-align: right;\n",
       "    }\n",
       "</style>\n",
       "<table border=\"1\" class=\"dataframe\">\n",
       "  <thead>\n",
       "    <tr style=\"text-align: right;\">\n",
       "      <th></th>\n",
       "      <th>Datetime</th>\n",
       "      <th>Ticker</th>\n",
       "      <th>center</th>\n",
       "      <th>ub</th>\n",
       "      <th>lb</th>\n",
       "    </tr>\n",
       "  </thead>\n",
       "  <tbody>\n",
       "    <tr>\n",
       "      <th>1043725</th>\n",
       "      <td>2022-10-05 09:30:00</td>\n",
       "      <td>GOOG</td>\n",
       "      <td>NaN</td>\n",
       "      <td>NaN</td>\n",
       "      <td>NaN</td>\n",
       "    </tr>\n",
       "    <tr>\n",
       "      <th>1043726</th>\n",
       "      <td>2022-10-05 09:31:00</td>\n",
       "      <td>GOOG</td>\n",
       "      <td>100.847500</td>\n",
       "      <td>100.896992</td>\n",
       "      <td>100.798008</td>\n",
       "    </tr>\n",
       "    <tr>\n",
       "      <th>1043727</th>\n",
       "      <td>2022-10-05 09:32:00</td>\n",
       "      <td>GOOG</td>\n",
       "      <td>100.892101</td>\n",
       "      <td>101.067745</td>\n",
       "      <td>100.716457</td>\n",
       "    </tr>\n",
       "    <tr>\n",
       "      <th>1043728</th>\n",
       "      <td>2022-10-05 09:33:00</td>\n",
       "      <td>GOOG</td>\n",
       "      <td>101.067101</td>\n",
       "      <td>101.386429</td>\n",
       "      <td>100.747772</td>\n",
       "    </tr>\n",
       "    <tr>\n",
       "      <th>1043729</th>\n",
       "      <td>2022-10-05 09:34:00</td>\n",
       "      <td>GOOG</td>\n",
       "      <td>101.215000</td>\n",
       "      <td>101.313995</td>\n",
       "      <td>101.116006</td>\n",
       "    </tr>\n",
       "    <tr>\n",
       "      <th>...</th>\n",
       "      <td>...</td>\n",
       "      <td>...</td>\n",
       "      <td>...</td>\n",
       "      <td>...</td>\n",
       "      <td>...</td>\n",
       "    </tr>\n",
       "    <tr>\n",
       "      <th>3488168</th>\n",
       "      <td>2022-10-17 10:55:00</td>\n",
       "      <td>GOOG</td>\n",
       "      <td>100.831150</td>\n",
       "      <td>100.912752</td>\n",
       "      <td>100.749548</td>\n",
       "    </tr>\n",
       "    <tr>\n",
       "      <th>3488169</th>\n",
       "      <td>2022-10-17 10:56:00</td>\n",
       "      <td>GOOG</td>\n",
       "      <td>100.825001</td>\n",
       "      <td>100.923995</td>\n",
       "      <td>100.726006</td>\n",
       "    </tr>\n",
       "    <tr>\n",
       "      <th>3488170</th>\n",
       "      <td>2022-10-17 10:57:00</td>\n",
       "      <td>GOOG</td>\n",
       "      <td>100.810001</td>\n",
       "      <td>100.866571</td>\n",
       "      <td>100.753432</td>\n",
       "    </tr>\n",
       "    <tr>\n",
       "      <th>3488171</th>\n",
       "      <td>2022-10-17 10:59:00</td>\n",
       "      <td>GOOG</td>\n",
       "      <td>100.895000</td>\n",
       "      <td>101.078844</td>\n",
       "      <td>100.711157</td>\n",
       "    </tr>\n",
       "    <tr>\n",
       "      <th>3488172</th>\n",
       "      <td>2022-10-17 16:00:00</td>\n",
       "      <td>GOOG</td>\n",
       "      <td>100.869999</td>\n",
       "      <td>101.124558</td>\n",
       "      <td>100.615440</td>\n",
       "    </tr>\n",
       "  </tbody>\n",
       "</table>\n",
       "<p>3309 rows × 5 columns</p>\n",
       "</div>"
      ],
      "text/plain": [
       "                   Datetime Ticker      center          ub          lb\n",
       "1043725 2022-10-05 09:30:00   GOOG         NaN         NaN         NaN\n",
       "1043726 2022-10-05 09:31:00   GOOG  100.847500  100.896992  100.798008\n",
       "1043727 2022-10-05 09:32:00   GOOG  100.892101  101.067745  100.716457\n",
       "1043728 2022-10-05 09:33:00   GOOG  101.067101  101.386429  100.747772\n",
       "1043729 2022-10-05 09:34:00   GOOG  101.215000  101.313995  101.116006\n",
       "...                     ...    ...         ...         ...         ...\n",
       "3488168 2022-10-17 10:55:00   GOOG  100.831150  100.912752  100.749548\n",
       "3488169 2022-10-17 10:56:00   GOOG  100.825001  100.923995  100.726006\n",
       "3488170 2022-10-17 10:57:00   GOOG  100.810001  100.866571  100.753432\n",
       "3488171 2022-10-17 10:59:00   GOOG  100.895000  101.078844  100.711157\n",
       "3488172 2022-10-17 16:00:00   GOOG  100.869999  101.124558  100.615440\n",
       "\n",
       "[3309 rows x 5 columns]"
      ]
     },
     "execution_count": 101,
     "metadata": {},
     "output_type": "execute_result"
    }
   ],
   "source": [
    "goog_boll"
   ]
  },
  {
   "cell_type": "code",
   "execution_count": 102,
   "metadata": {},
   "outputs": [
    {
     "data": {
      "text/html": [
       "<div>\n",
       "<style scoped>\n",
       "    .dataframe tbody tr th:only-of-type {\n",
       "        vertical-align: middle;\n",
       "    }\n",
       "\n",
       "    .dataframe tbody tr th {\n",
       "        vertical-align: top;\n",
       "    }\n",
       "\n",
       "    .dataframe thead th {\n",
       "        text-align: right;\n",
       "    }\n",
       "</style>\n",
       "<table border=\"1\" class=\"dataframe\">\n",
       "  <thead>\n",
       "    <tr style=\"text-align: right;\">\n",
       "      <th></th>\n",
       "      <th>ub</th>\n",
       "      <th>lb</th>\n",
       "    </tr>\n",
       "  </thead>\n",
       "  <tbody>\n",
       "    <tr>\n",
       "      <th>1043725</th>\n",
       "      <td>NaN</td>\n",
       "      <td>NaN</td>\n",
       "    </tr>\n",
       "    <tr>\n",
       "      <th>1043726</th>\n",
       "      <td>100.896992</td>\n",
       "      <td>100.798008</td>\n",
       "    </tr>\n",
       "    <tr>\n",
       "      <th>1043727</th>\n",
       "      <td>101.067745</td>\n",
       "      <td>100.716457</td>\n",
       "    </tr>\n",
       "    <tr>\n",
       "      <th>1043728</th>\n",
       "      <td>101.386429</td>\n",
       "      <td>100.747772</td>\n",
       "    </tr>\n",
       "    <tr>\n",
       "      <th>1043729</th>\n",
       "      <td>101.313995</td>\n",
       "      <td>101.116006</td>\n",
       "    </tr>\n",
       "    <tr>\n",
       "      <th>...</th>\n",
       "      <td>...</td>\n",
       "      <td>...</td>\n",
       "    </tr>\n",
       "    <tr>\n",
       "      <th>3488168</th>\n",
       "      <td>100.912752</td>\n",
       "      <td>100.749548</td>\n",
       "    </tr>\n",
       "    <tr>\n",
       "      <th>3488169</th>\n",
       "      <td>100.923995</td>\n",
       "      <td>100.726006</td>\n",
       "    </tr>\n",
       "    <tr>\n",
       "      <th>3488170</th>\n",
       "      <td>100.866571</td>\n",
       "      <td>100.753432</td>\n",
       "    </tr>\n",
       "    <tr>\n",
       "      <th>3488171</th>\n",
       "      <td>101.078844</td>\n",
       "      <td>100.711157</td>\n",
       "    </tr>\n",
       "    <tr>\n",
       "      <th>3488172</th>\n",
       "      <td>101.124558</td>\n",
       "      <td>100.615440</td>\n",
       "    </tr>\n",
       "  </tbody>\n",
       "</table>\n",
       "<p>3309 rows × 2 columns</p>\n",
       "</div>"
      ],
      "text/plain": [
       "                 ub          lb\n",
       "1043725         NaN         NaN\n",
       "1043726  100.896992  100.798008\n",
       "1043727  101.067745  100.716457\n",
       "1043728  101.386429  100.747772\n",
       "1043729  101.313995  101.116006\n",
       "...             ...         ...\n",
       "3488168  100.912752  100.749548\n",
       "3488169  100.923995  100.726006\n",
       "3488170  100.866571  100.753432\n",
       "3488171  101.078844  100.711157\n",
       "3488172  101.124558  100.615440\n",
       "\n",
       "[3309 rows x 2 columns]"
      ]
     },
     "execution_count": 102,
     "metadata": {},
     "output_type": "execute_result"
    }
   ],
   "source": [
    "goog_boll[['ub', 'lb']]"
   ]
  },
  {
   "cell_type": "code",
   "execution_count": 108,
   "metadata": {},
   "outputs": [],
   "source": [
    "behavior2 = []\n",
    "for i in range(len(goog_df)):\n",
    "    behavior2.append(bollinger_strategy(goog_df.iloc[idx]['Adj Close'], goog_boll.iloc[idx]['ub'], goog_boll.iloc[idx]['lb']))"
   ]
  },
  {
   "cell_type": "code",
   "execution_count": 104,
   "metadata": {},
   "outputs": [
    {
     "data": {
      "text/plain": [
       "0    3309\n",
       "dtype: int64"
      ]
     },
     "execution_count": 104,
     "metadata": {},
     "output_type": "execute_result"
    }
   ],
   "source": [
    "pd.DataFrame(behavior).value_counts()"
   ]
  },
  {
   "cell_type": "code",
   "execution_count": 105,
   "metadata": {},
   "outputs": [],
   "source": [
    "money = 30000\n",
    "stock = 0\n",
    "m_list = []\n",
    "s_list = []\n",
    "for idx, trade in enumerate(behavior):\n",
    "    if trade == 1 and money > goog_df.iloc[idx]['Adj Close']:\n",
    "        money -= goog_df.iloc[idx]['Adj Close']\n",
    "        stock +=1\n",
    "    elif trade == -1 and stock >0:\n",
    "        money += goog_df.iloc[idx]['Adj Close']\n",
    "        stock -=1\n",
    "    else:\n",
    "        pass\n",
    "    m_list.append(money)\n",
    "    s_list.append(stock)"
   ]
  },
  {
   "cell_type": "code",
   "execution_count": 106,
   "metadata": {},
   "outputs": [
    {
     "data": {
      "text/plain": [
       "30000.0"
      ]
     },
     "execution_count": 106,
     "metadata": {},
     "output_type": "execute_result"
    }
   ],
   "source": [
    "s_list[-1]* goog_df.iloc[-1]['Adj Close'] + m_list[-1]"
   ]
  },
  {
   "cell_type": "code",
   "execution_count": 109,
   "metadata": {},
   "outputs": [],
   "source": [
    "behavior3 = (np.array(behavior1)+ np.array(behavior2)).tolist()"
   ]
  },
  {
   "cell_type": "code",
   "execution_count": 114,
   "metadata": {},
   "outputs": [
    {
     "data": {
      "text/plain": [
       "array([0, 0, 0, ..., 0, 0, 0])"
      ]
     },
     "execution_count": 114,
     "metadata": {},
     "output_type": "execute_result"
    }
   ],
   "source": []
  },
  {
   "cell_type": "code",
   "execution_count": null,
   "metadata": {},
   "outputs": [],
   "source": [
    "money = 30000\n",
    "stock = 0\n",
    "m_list = []\n",
    "s_list = []\n",
    "for idx, trade in enumerate(behavior):\n",
    "    if trade == 1 and money > goog_df.iloc[idx]['Adj Close']:\n",
    "        money -= goog_df.iloc[idx]['Adj Close']\n",
    "        stock +=1\n",
    "    elif trade == -1 and stock >0:\n",
    "        money += goog_df.iloc[idx]['Adj Close']\n",
    "        stock -=1\n",
    "    else:\n",
    "        pass\n",
    "    m_list.append(money)\n",
    "    s_list.append(stock)"
   ]
  }
 ],
 "metadata": {
  "kernelspec": {
   "display_name": "Python 3.8.13 64-bit ('dl_env')",
   "language": "python",
   "name": "python3"
  },
  "language_info": {
   "codemirror_mode": {
    "name": "ipython",
    "version": 3
   },
   "file_extension": ".py",
   "mimetype": "text/x-python",
   "name": "python",
   "nbconvert_exporter": "python",
   "pygments_lexer": "ipython3",
   "version": "3.8.13"
  },
  "orig_nbformat": 4,
  "vscode": {
   "interpreter": {
    "hash": "3b7f90f3ffd1b2a60fee91aee39c73355e94a75c9e00035a66944cc7ed4c1221"
   }
  }
 },
 "nbformat": 4,
 "nbformat_minor": 2
}
