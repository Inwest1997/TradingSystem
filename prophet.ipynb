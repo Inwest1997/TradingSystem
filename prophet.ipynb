{
 "cells": [
  {
   "cell_type": "code",
   "execution_count": 1,
   "metadata": {},
   "outputs": [],
   "source": [
    "import pandas as pd\n",
    "import yfinance as yf\n",
    "from fbprophet import Prophet\n",
    "import numpy as np\n",
    "\n",
    "from src.data_loader import DataGenerator"
   ]
  },
  {
   "cell_type": "code",
   "execution_count": 2,
   "metadata": {},
   "outputs": [
    {
     "name": "stdout",
     "output_type": "stream",
     "text": [
      "기존 데이터 불러오기 성공\n"
     ]
    }
   ],
   "source": [
    "aapl = DataGenerator('db').data_search('AAPL')\n",
    "aapl.sort_index(inplace = True)\n",
    "aapl.reset_index(inplace=True)"
   ]
  },
  {
   "cell_type": "code",
   "execution_count": 30,
   "metadata": {},
   "outputs": [],
   "source": [
    "size = 0.99\n",
    "train = aapl.iloc[:int(len(aapl) * size)]\n",
    "test = aapl.iloc[int(len(aapl) * size):]"
   ]
  },
  {
   "cell_type": "code",
   "execution_count": 31,
   "metadata": {},
   "outputs": [
    {
     "name": "stderr",
     "output_type": "stream",
     "text": [
      "/Users/junginseo/opt/anaconda3/envs/dl_env/lib/python3.8/site-packages/fbprophet/forecaster.py:891: FutureWarning: The frame.append method is deprecated and will be removed from pandas in a future version. Use pandas.concat instead.\n",
      "  components = components.append(new_comp)\n"
     ]
    },
    {
     "name": "stdout",
     "output_type": "stream",
     "text": [
      "Initial log joint probability = -459.148\n",
      "    Iter      log prob        ||dx||      ||grad||       alpha      alpha0  # evals  Notes \n",
      "      99       17948.9     0.0588172       5056.27           1           1      120   \n",
      "    Iter      log prob        ||dx||      ||grad||       alpha      alpha0  # evals  Notes \n",
      "     199       18583.3    0.00566401       3143.74           1           1      231   \n",
      "    Iter      log prob        ||dx||      ||grad||       alpha      alpha0  # evals  Notes \n",
      "     299       18840.3     0.0132638       2461.46           1           1      343   \n",
      "    Iter      log prob        ||dx||      ||grad||       alpha      alpha0  # evals  Notes \n",
      "     399       19077.5     0.0790909       3361.43           1           1      458   \n",
      "    Iter      log prob        ||dx||      ||grad||       alpha      alpha0  # evals  Notes \n",
      "     499       19149.2    0.00651177       567.011           1           1      574   \n",
      "    Iter      log prob        ||dx||      ||grad||       alpha      alpha0  # evals  Notes \n",
      "     599       19190.2    0.00524645        620.48      0.5061           1      692   \n",
      "    Iter      log prob        ||dx||      ||grad||       alpha      alpha0  # evals  Notes \n",
      "     699       19211.2    0.00562222       552.333      0.6242      0.6242      814   \n",
      "    Iter      log prob        ||dx||      ||grad||       alpha      alpha0  # evals  Notes \n",
      "     799       19225.9    0.00135335       997.577      0.4944      0.4944      929   \n",
      "    Iter      log prob        ||dx||      ||grad||       alpha      alpha0  # evals  Notes \n",
      "     899         19245    0.00331904       322.906      0.6593      0.6593     1047   \n",
      "    Iter      log prob        ||dx||      ||grad||       alpha      alpha0  # evals  Notes \n",
      "     999       19263.5   0.000608928       947.277      0.5187      0.5187     1163   \n",
      "    Iter      log prob        ||dx||      ||grad||       alpha      alpha0  # evals  Notes \n",
      "    1099       19273.5     0.0156185       840.702      0.2216           1     1276   \n",
      "    Iter      log prob        ||dx||      ||grad||       alpha      alpha0  # evals  Notes \n",
      "    1199       19279.7    0.00195561       885.566       1.461      0.1461     1400   \n",
      "    Iter      log prob        ||dx||      ||grad||       alpha      alpha0  # evals  Notes \n",
      "    1299       19282.4    0.00117306       430.685           1           1     1518   \n",
      "    Iter      log prob        ||dx||      ||grad||       alpha      alpha0  # evals  Notes \n",
      "    1399       19286.3    0.00776364       445.847           1           1     1632   \n",
      "    Iter      log prob        ||dx||      ||grad||       alpha      alpha0  # evals  Notes \n",
      "    1469       19293.7   2.11954e-05       284.196   7.998e-08       0.001     1757  LS failed, Hessian reset \n",
      "    1499         19296    0.00475119       912.377      0.3952           1     1791   \n",
      "    Iter      log prob        ||dx||      ||grad||       alpha      alpha0  # evals  Notes \n",
      "    1599       19297.8   0.000348037       125.406           1           1     1907   \n",
      "    Iter      log prob        ||dx||      ||grad||       alpha      alpha0  # evals  Notes \n",
      "    1614       19297.9   1.15081e-05       145.814   5.355e-08       0.001     1966  LS failed, Hessian reset \n",
      "    1699       19299.4   0.000137735       107.118      0.9396      0.9396     2068   \n",
      "    Iter      log prob        ||dx||      ||grad||       alpha      alpha0  # evals  Notes \n",
      "    1764       19300.1   1.59737e-05       171.528   1.617e-07       0.001     2200  LS failed, Hessian reset \n",
      "    1799       19300.2   8.25363e-05       69.6044           1           1     2241   \n",
      "    Iter      log prob        ||dx||      ||grad||       alpha      alpha0  # evals  Notes \n",
      "    1899       19302.7    0.00122204       359.465           1           1     2353   \n",
      "    Iter      log prob        ||dx||      ||grad||       alpha      alpha0  # evals  Notes \n",
      "    1999       19303.7   0.000489161       260.363      0.7482      0.7482     2478   \n",
      "    Iter      log prob        ||dx||      ||grad||       alpha      alpha0  # evals  Notes \n",
      "    2085       19304.4   6.68635e-06       90.9346   6.904e-08       0.001     2622  LS failed, Hessian reset \n",
      "    2099       19304.4   1.85707e-05       91.5527      0.4418      0.4418     2640   \n",
      "    Iter      log prob        ||dx||      ||grad||       alpha      alpha0  # evals  Notes \n",
      "    2199         19306   0.000865158       380.369           1           1     2762   \n",
      "    Iter      log prob        ||dx||      ||grad||       alpha      alpha0  # evals  Notes \n",
      "    2299       19307.4   0.000144122       345.019       0.303       0.303     2890   \n",
      "    Iter      log prob        ||dx||      ||grad||       alpha      alpha0  # evals  Notes \n",
      "    2333       19307.6   9.14099e-06       119.002   1.044e-07       0.001     2972  LS failed, Hessian reset \n",
      "    2383       19307.7   1.23042e-05       156.145   6.084e-08       0.001     3081  LS failed, Hessian reset \n",
      "    2399       19307.7   2.48191e-05        75.939      0.7554     0.07554     3103   \n",
      "    Iter      log prob        ||dx||      ||grad||       alpha      alpha0  # evals  Notes \n",
      "    2499         19308     0.0047073       104.081           1           1     3221   \n",
      "    Iter      log prob        ||dx||      ||grad||       alpha      alpha0  # evals  Notes \n",
      "    2507       19308.1   8.91787e-06       92.3187   4.331e-08       0.001     3269  LS failed, Hessian reset \n",
      "    2599       19308.4   4.93109e-06       79.8197      0.1577           1     3378   \n",
      "    Iter      log prob        ||dx||      ||grad||       alpha      alpha0  # evals  Notes \n",
      "    2699       19308.5   4.40391e-05       124.852      0.9233      0.9233     3492   \n",
      "    Iter      log prob        ||dx||      ||grad||       alpha      alpha0  # evals  Notes \n",
      "    2799       19308.9    0.00295793       264.191           1           1     3612   \n",
      "    Iter      log prob        ||dx||      ||grad||       alpha      alpha0  # evals  Notes \n",
      "    2899       19309.6   0.000237301       406.676           1           1     3737   \n",
      "    Iter      log prob        ||dx||      ||grad||       alpha      alpha0  # evals  Notes \n",
      "    2913       19309.8   0.000132333       214.443   4.288e-07       0.001     3822  LS failed, Hessian reset \n",
      "    2999       19310.4   0.000271087       162.816      0.5037      0.5037     3930   \n",
      "    Iter      log prob        ||dx||      ||grad||       alpha      alpha0  # evals  Notes \n",
      "    3099       19310.7   4.87443e-05       71.9945      0.3307           1     4055   \n",
      "    Iter      log prob        ||dx||      ||grad||       alpha      alpha0  # evals  Notes \n",
      "    3125       19310.8    1.2653e-05       131.118   1.884e-07       0.001     4152  LS failed, Hessian reset \n",
      "    3192       19310.8   1.51671e-06       63.1007      0.2373           1     4249   \n",
      "Optimization terminated normally: \n",
      "  Convergence detected: relative gradient magnitude is below tolerance\n"
     ]
    },
    {
     "name": "stderr",
     "output_type": "stream",
     "text": [
      "/Users/junginseo/opt/anaconda3/envs/dl_env/lib/python3.8/site-packages/fbprophet/forecaster.py:891: FutureWarning: The frame.append method is deprecated and will be removed from pandas in a future version. Use pandas.concat instead.\n",
      "  components = components.append(new_comp)\n",
      "/Users/junginseo/opt/anaconda3/envs/dl_env/lib/python3.8/site-packages/fbprophet/forecaster.py:891: FutureWarning: The frame.append method is deprecated and will be removed from pandas in a future version. Use pandas.concat instead.\n",
      "  components = components.append(new_comp)\n"
     ]
    },
    {
     "name": "stdout",
     "output_type": "stream",
     "text": [
      "           ds       trend  yhat_lower  yhat_upper  trend_lower  trend_upper  \\\n",
      "74 2022-11-02  158.920146  149.223269  169.568055   158.904467   158.933740   \n",
      "75 2022-11-03  158.987243  149.653423  169.609542   158.967709   159.002089   \n",
      "\n",
      "    additive_terms  additive_terms_lower  additive_terms_upper     daily  \\\n",
      "74        0.144251              0.144251              0.144251 -0.153692   \n",
      "75        0.081986              0.081986              0.081986 -0.153692   \n",
      "\n",
      "    daily_lower  daily_upper    weekly  weekly_lower  weekly_upper    yearly  \\\n",
      "74    -0.153692    -0.153692  0.059762      0.059762      0.059762  0.238181   \n",
      "75    -0.153692    -0.153692  0.007087      0.007087      0.007087  0.228591   \n",
      "\n",
      "    yearly_lower  yearly_upper  multiplicative_terms  \\\n",
      "74      0.238181      0.238181                   0.0   \n",
      "75      0.228591      0.228591                   0.0   \n",
      "\n",
      "    multiplicative_terms_lower  multiplicative_terms_upper        yhat  \n",
      "74                         0.0                         0.0  159.064397  \n",
      "75                         0.0                         0.0  159.069229  \n"
     ]
    }
   ],
   "source": [
    "train = train[['Datetime','Adj Close']]\n",
    "test = test[['Datetime','Adj Close']]\n",
    "\n",
    "train = train.rename({'Datetime': 'ds', 'Adj Close': 'y'}, axis='columns')\n",
    "test = test.rename({'Datetime': 'ds', 'Adj Close': 'y'}, axis='columns')\n",
    "\n",
    "m = Prophet(daily_seasonality = True, weekly_seasonality = True, yearly_seasonality = True)\n",
    "m.fit(train)\n",
    "# future = m.make_future_dataframe(periods=365)\n",
    "forecast = m.predict(test)\n",
    "pd.options.display.max_columns = None\n",
    "print(forecast.tail(2))"
   ]
  },
  {
   "cell_type": "code",
   "execution_count": 32,
   "metadata": {},
   "outputs": [
    {
     "data": {
      "text/html": [
       "<div>\n",
       "<style scoped>\n",
       "    .dataframe tbody tr th:only-of-type {\n",
       "        vertical-align: middle;\n",
       "    }\n",
       "\n",
       "    .dataframe tbody tr th {\n",
       "        vertical-align: top;\n",
       "    }\n",
       "\n",
       "    .dataframe thead th {\n",
       "        text-align: right;\n",
       "    }\n",
       "</style>\n",
       "<table border=\"1\" class=\"dataframe\">\n",
       "  <thead>\n",
       "    <tr style=\"text-align: right;\">\n",
       "      <th></th>\n",
       "      <th>ds</th>\n",
       "      <th>yhat</th>\n",
       "      <th>yhat_lower</th>\n",
       "      <th>yhat_upper</th>\n",
       "    </tr>\n",
       "  </thead>\n",
       "  <tbody>\n",
       "    <tr>\n",
       "      <th>0</th>\n",
       "      <td>2022-07-20</td>\n",
       "      <td>151.614445</td>\n",
       "      <td>141.367549</td>\n",
       "      <td>161.981025</td>\n",
       "    </tr>\n",
       "    <tr>\n",
       "      <th>1</th>\n",
       "      <td>2022-07-21</td>\n",
       "      <td>151.647091</td>\n",
       "      <td>141.805651</td>\n",
       "      <td>162.323835</td>\n",
       "    </tr>\n",
       "    <tr>\n",
       "      <th>2</th>\n",
       "      <td>2022-07-22</td>\n",
       "      <td>151.644487</td>\n",
       "      <td>142.100243</td>\n",
       "      <td>161.830773</td>\n",
       "    </tr>\n",
       "    <tr>\n",
       "      <th>3</th>\n",
       "      <td>2022-07-25</td>\n",
       "      <td>151.912444</td>\n",
       "      <td>141.787189</td>\n",
       "      <td>162.170359</td>\n",
       "    </tr>\n",
       "    <tr>\n",
       "      <th>4</th>\n",
       "      <td>2022-07-26</td>\n",
       "      <td>152.077270</td>\n",
       "      <td>141.909291</td>\n",
       "      <td>162.771297</td>\n",
       "    </tr>\n",
       "    <tr>\n",
       "      <th>...</th>\n",
       "      <td>...</td>\n",
       "      <td>...</td>\n",
       "      <td>...</td>\n",
       "      <td>...</td>\n",
       "    </tr>\n",
       "    <tr>\n",
       "      <th>71</th>\n",
       "      <td>2022-10-28</td>\n",
       "      <td>158.636039</td>\n",
       "      <td>148.334840</td>\n",
       "      <td>168.842112</td>\n",
       "    </tr>\n",
       "    <tr>\n",
       "      <th>72</th>\n",
       "      <td>2022-10-31</td>\n",
       "      <td>158.835000</td>\n",
       "      <td>148.548465</td>\n",
       "      <td>169.306893</td>\n",
       "    </tr>\n",
       "    <tr>\n",
       "      <th>73</th>\n",
       "      <td>2022-11-01</td>\n",
       "      <td>158.976302</td>\n",
       "      <td>148.583292</td>\n",
       "      <td>168.960728</td>\n",
       "    </tr>\n",
       "    <tr>\n",
       "      <th>74</th>\n",
       "      <td>2022-11-02</td>\n",
       "      <td>159.064397</td>\n",
       "      <td>149.223269</td>\n",
       "      <td>169.568055</td>\n",
       "    </tr>\n",
       "    <tr>\n",
       "      <th>75</th>\n",
       "      <td>2022-11-03</td>\n",
       "      <td>159.069229</td>\n",
       "      <td>149.653423</td>\n",
       "      <td>169.609542</td>\n",
       "    </tr>\n",
       "  </tbody>\n",
       "</table>\n",
       "<p>76 rows × 4 columns</p>\n",
       "</div>"
      ],
      "text/plain": [
       "           ds        yhat  yhat_lower  yhat_upper\n",
       "0  2022-07-20  151.614445  141.367549  161.981025\n",
       "1  2022-07-21  151.647091  141.805651  162.323835\n",
       "2  2022-07-22  151.644487  142.100243  161.830773\n",
       "3  2022-07-25  151.912444  141.787189  162.170359\n",
       "4  2022-07-26  152.077270  141.909291  162.771297\n",
       "..        ...         ...         ...         ...\n",
       "71 2022-10-28  158.636039  148.334840  168.842112\n",
       "72 2022-10-31  158.835000  148.548465  169.306893\n",
       "73 2022-11-01  158.976302  148.583292  168.960728\n",
       "74 2022-11-02  159.064397  149.223269  169.568055\n",
       "75 2022-11-03  159.069229  149.653423  169.609542\n",
       "\n",
       "[76 rows x 4 columns]"
      ]
     },
     "execution_count": 32,
     "metadata": {},
     "output_type": "execute_result"
    }
   ],
   "source": [
    "forecast[['ds', 'yhat', 'yhat_lower', 'yhat_upper']].sort_values('ds')"
   ]
  },
  {
   "cell_type": "code",
   "execution_count": 33,
   "metadata": {},
   "outputs": [
    {
     "name": "stdout",
     "output_type": "stream",
     "text": [
      "           ds        yhat  yhat_lower  yhat_upper\n",
      "71 2022-10-28  158.636039  148.334840  168.842112\n",
      "72 2022-10-31  158.835000  148.548465  169.306893\n",
      "73 2022-11-01  158.976302  148.583292  168.960728\n",
      "74 2022-11-02  159.064397  149.223269  169.568055\n",
      "75 2022-11-03  159.069229  149.653423  169.609542\n"
     ]
    }
   ],
   "source": [
    "print(forecast[['ds', 'yhat', 'yhat_lower', 'yhat_upper']].tail())"
   ]
  },
  {
   "cell_type": "code",
   "execution_count": 34,
   "metadata": {},
   "outputs": [
    {
     "data": {
      "text/plain": [
       "[<matplotlib.lines.Line2D at 0x17fb9c700>]"
      ]
     },
     "execution_count": 34,
     "metadata": {},
     "output_type": "execute_result"
    },
    {
     "data": {
      "image/png": "[encoded data removed]",
      "text/plain": [
       "<Figure size 1000x600 with 1 Axes>"
      ]
     },
     "metadata": {},
     "output_type": "display_data"
    }
   ],
   "source": [
    "import matplotlib.pyplot as plt\n",
    "figsize=(10, 6)\n",
    "xlabel='ds'\n",
    "ylabel='y'\n",
    "fig = plt.figure(facecolor='w', figsize=figsize)\n",
    "ax = fig.add_subplot(111)\n",
    "fcst_t = forecast['ds'].dt.to_pydatetime()\n",
    "ax.plot(forecast['ds'].dt.to_pydatetime(), forecast['yhat'], 'k.')\n",
    "ax.plot(test['ds'].dt.to_pydatetime(), test['y'], 'y.')"
   ]
  },
  {
   "cell_type": "code",
   "execution_count": 35,
   "metadata": {},
   "outputs": [],
   "source": [
    "fore_trend = [1 if forecast['yhat'].diff().iloc[i]>0 else 0 for i in range(len(forecast))]\n",
    "true_trend = [1 if test['y'].diff().iloc[i]>0 else 0 for i in range(len(test))]"
   ]
  },
  {
   "cell_type": "code",
   "execution_count": 36,
   "metadata": {},
   "outputs": [
    {
     "data": {
      "text/plain": [
       "0.5131578947368421"
      ]
     },
     "execution_count": 36,
     "metadata": {},
     "output_type": "execute_result"
    }
   ],
   "source": [
    "np.sum([1 if fore_trend[i] == true_trend[i] else 0 for i in range(len(true_trend))])/len(true_trend)"
   ]
  },
  {
   "cell_type": "code",
   "execution_count": null,
   "metadata": {},
   "outputs": [],
   "source": []
  }
 ],
 "metadata": {
  "kernelspec": {
   "display_name": "Python 3.8.13 64-bit ('dl_env')",
   "language": "python",
   "name": "python3"
  },
  "language_info": {
   "codemirror_mode": {
    "name": "ipython",
    "version": 3
   },
   "file_extension": ".py",
   "mimetype": "text/x-python",
   "name": "python",
   "nbconvert_exporter": "python",
   "pygments_lexer": "ipython3",
   "version": "3.8.13"
  },
  "orig_nbformat": 4,
  "vscode": {
   "interpreter": {
    "hash": "3b7f90f3ffd1b2a60fee91aee39c73355e94a75c9e00035a66944cc7ed4c1221"
   }
  }
 },
 "nbformat": 4,
 "nbformat_minor": 2
}
