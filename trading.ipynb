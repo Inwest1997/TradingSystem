{
 "cells": [
  {
   "cell_type": "code",
   "execution_count": 1,
   "metadata": {},
   "outputs": [],
   "source": [
    "import numpy as np\n",
    "import pandas as pd\n",
    "\n",
    "from src.data_loader import *\n",
    "from src.strategy import *\n",
    "from src.index import *\n",
    "import src.ticker_selection as ticker_selection"
   ]
  },
  {
   "cell_type": "code",
   "execution_count": 2,
   "metadata": {},
   "outputs": [],
   "source": [
    "aa = DataGenerator('db', 'day').data_search(ticker = 'AACG')"
   ]
  },
  {
   "cell_type": "code",
   "execution_count": 3,
   "metadata": {},
   "outputs": [
    {
     "data": {
      "text/plain": [
       "Open            1.83\n",
       "High            1.83\n",
       "Low             1.76\n",
       "Close           1.81\n",
       "Adj Close       1.81\n",
       "Volume       2500.00\n",
       "Name: 2022-10-27 00:00:00, dtype: float64"
      ]
     },
     "execution_count": 3,
     "metadata": {},
     "output_type": "execute_result"
    }
   ],
   "source": [
    "aa.iloc[-1]"
   ]
  },
  {
   "cell_type": "code",
   "execution_count": null,
   "metadata": {},
   "outputs": [],
   "source": [
    "account_info = ['Datetime','SN','Ticker', 'Unit', 'Price', 'Amount', 'Position' , 'Days']\n",
    "\n",
    "pd.DataFrame(columns = account_info)"
   ]
  },
  {
   "cell_type": "code",
   "execution_count": null,
   "metadata": {},
   "outputs": [],
   "source": [
    "performance_info = ['Datetime','Ticker', 'SN', 'B_price', 'S_price', 'Unit']\n",
    "\n",
    "pd.DataFrame(columns = performance_info)"
   ]
  },
  {
   "cell_type": "code",
   "execution_count": null,
   "metadata": {},
   "outputs": [],
   "source": [
    "class trading:\n",
    "    def __init__(self, amount, trade, unit = 1, ticker = 'AACG'):\n",
    "        self.trade_dict = {}\n",
    "        self.amount_list = []\n",
    "        self.initial_amount = amount\n",
    "        self.trade = trade\n",
    "        self.unit = unit\n",
    "        self.ticker = ticker\n",
    "        self.data =  DataGenerator('db', 'day').data_search(ticker = self.ticker)\n",
    "    \n",
    "    def get_price(self):\n",
    "        '''\n",
    "        해당 종목의 현재가를 API에서 불러올 수 있는 코드\n",
    "        '''\n",
    "        self.buy_date, self.price = '''API에서 불러오는 현재가'''\n",
    "\n",
    "    def place_buy_order(self, bar, units=None, amount=None):\n",
    "        ''' Place a buy order.\n",
    "        '''\n",
    "        if units is None:\n",
    "            units = int(amount / price)\n",
    "        self.amount -= (units * price) * (1 + self.ptc) + self.ftc\n",
    "        self.units += units\n",
    "        self.trades += 1\n",
    "        self.buy_date = dt.datetime.now()\n",
    "\n",
    "    def place_sell_order(self, bar, units=None, amount=None):\n",
    "        ''' Place a sell order.\n",
    "        '''\n",
    "        date, price = self.get_date_price(bar)\n",
    "        if units is None:\n",
    "            units = int(amount / price)\n",
    "        self.amount += (units * price) # * (1 - self.ptc) - self.ftc\n",
    "        self.units -= units\n",
    "        self.trades += 1\n",
    "\n",
    "    def close_out(self):\n",
    "        ''' Closing out a long or short position.\n",
    "        '''\n",
    "        self.amount += self.units * price\n",
    "        self.units = 0\n",
    "        self.trades += 1\n",
    "\n",
    "        print('Final balance   [$] {:.2f}'.format(self.amount))\n",
    "        perf = ((self.amount - self.initial_amount) /\n",
    "                self.initial_amount * 100)\n",
    "        print('Net Performance [%] {:.2f}'.format(perf))\n",
    "        print('Trades Executed [#] {}'.format(self.trades))\n",
    "        print('=' * 55)\n",
    "\n",
    "    def stop(self):\n",
    "        if (dt.datetime.now()- self.buy_date).days() >14:\n",
    "            self.close_out()\n"
   ]
  },
  {
   "cell_type": "code",
   "execution_count": null,
   "metadata": {},
   "outputs": [],
   "source": [
    "_"
   ]
  },
  {
   "cell_type": "code",
   "execution_count": null,
   "metadata": {},
   "outputs": [],
   "source": [
    "ticker = 'AAPL'"
   ]
  },
  {
   "cell_type": "code",
   "execution_count": 9,
   "metadata": {},
   "outputs": [],
   "source": [
    "from src.strategy import *\n",
    "from src.index import *"
   ]
  },
  {
   "cell_type": "code",
   "execution_count": 11,
   "metadata": {},
   "outputs": [],
   "source": [
    "aa['Rsi'] = rsi(aa)"
   ]
  },
  {
   "cell_type": "code",
   "execution_count": 23,
   "metadata": {},
   "outputs": [
    {
     "ename": "ValueError",
     "evalue": "The truth value of a Series is ambiguous. Use a.empty, a.bool(), a.item(), a.any() or a.all().",
     "output_type": "error",
     "traceback": [
      "\u001b[0;31m---------------------------------------------------------------------------\u001b[0m",
      "\u001b[0;31mValueError\u001b[0m                                Traceback (most recent call last)",
      "Cell \u001b[0;32mIn [23], line 1\u001b[0m\n\u001b[0;32m----> 1\u001b[0m rsi(aa)\u001b[39m.\u001b[39;49mapply(\u001b[39mlambda\u001b[39;49;00m x : rsi_strategy(x, \u001b[39m60\u001b[39;49m, \u001b[39m40\u001b[39;49m)\u001b[39m.\u001b[39;49many())\n",
      "File \u001b[0;32m~/opt/anaconda3/envs/dl_env/lib/python3.8/site-packages/pandas/core/frame.py:8845\u001b[0m, in \u001b[0;36mDataFrame.apply\u001b[0;34m(self, func, axis, raw, result_type, args, **kwargs)\u001b[0m\n\u001b[1;32m   8834\u001b[0m \u001b[39mfrom\u001b[39;00m \u001b[39mpandas\u001b[39;00m\u001b[39m.\u001b[39;00m\u001b[39mcore\u001b[39;00m\u001b[39m.\u001b[39;00m\u001b[39mapply\u001b[39;00m \u001b[39mimport\u001b[39;00m frame_apply\n\u001b[1;32m   8836\u001b[0m op \u001b[39m=\u001b[39m frame_apply(\n\u001b[1;32m   8837\u001b[0m     \u001b[39mself\u001b[39m,\n\u001b[1;32m   8838\u001b[0m     func\u001b[39m=\u001b[39mfunc,\n\u001b[0;32m   (...)\u001b[0m\n\u001b[1;32m   8843\u001b[0m     kwargs\u001b[39m=\u001b[39mkwargs,\n\u001b[1;32m   8844\u001b[0m )\n\u001b[0;32m-> 8845\u001b[0m \u001b[39mreturn\u001b[39;00m op\u001b[39m.\u001b[39;49mapply()\u001b[39m.\u001b[39m__finalize__(\u001b[39mself\u001b[39m, method\u001b[39m=\u001b[39m\u001b[39m\"\u001b[39m\u001b[39mapply\u001b[39m\u001b[39m\"\u001b[39m)\n",
      "File \u001b[0;32m~/opt/anaconda3/envs/dl_env/lib/python3.8/site-packages/pandas/core/apply.py:733\u001b[0m, in \u001b[0;36mFrameApply.apply\u001b[0;34m(self)\u001b[0m\n\u001b[1;32m    730\u001b[0m \u001b[39melif\u001b[39;00m \u001b[39mself\u001b[39m\u001b[39m.\u001b[39mraw:\n\u001b[1;32m    731\u001b[0m     \u001b[39mreturn\u001b[39;00m \u001b[39mself\u001b[39m\u001b[39m.\u001b[39mapply_raw()\n\u001b[0;32m--> 733\u001b[0m \u001b[39mreturn\u001b[39;00m \u001b[39mself\u001b[39;49m\u001b[39m.\u001b[39;49mapply_standard()\n",
      "File \u001b[0;32m~/opt/anaconda3/envs/dl_env/lib/python3.8/site-packages/pandas/core/apply.py:857\u001b[0m, in \u001b[0;36mFrameApply.apply_standard\u001b[0;34m(self)\u001b[0m\n\u001b[1;32m    856\u001b[0m \u001b[39mdef\u001b[39;00m \u001b[39mapply_standard\u001b[39m(\u001b[39mself\u001b[39m):\n\u001b[0;32m--> 857\u001b[0m     results, res_index \u001b[39m=\u001b[39m \u001b[39mself\u001b[39;49m\u001b[39m.\u001b[39;49mapply_series_generator()\n\u001b[1;32m    859\u001b[0m     \u001b[39m# wrap results\u001b[39;00m\n\u001b[1;32m    860\u001b[0m     \u001b[39mreturn\u001b[39;00m \u001b[39mself\u001b[39m\u001b[39m.\u001b[39mwrap_results(results, res_index)\n",
      "File \u001b[0;32m~/opt/anaconda3/envs/dl_env/lib/python3.8/site-packages/pandas/core/apply.py:873\u001b[0m, in \u001b[0;36mFrameApply.apply_series_generator\u001b[0;34m(self)\u001b[0m\n\u001b[1;32m    870\u001b[0m \u001b[39mwith\u001b[39;00m option_context(\u001b[39m\"\u001b[39m\u001b[39mmode.chained_assignment\u001b[39m\u001b[39m\"\u001b[39m, \u001b[39mNone\u001b[39;00m):\n\u001b[1;32m    871\u001b[0m     \u001b[39mfor\u001b[39;00m i, v \u001b[39min\u001b[39;00m \u001b[39menumerate\u001b[39m(series_gen):\n\u001b[1;32m    872\u001b[0m         \u001b[39m# ignore SettingWithCopy here in case the user mutates\u001b[39;00m\n\u001b[0;32m--> 873\u001b[0m         results[i] \u001b[39m=\u001b[39m \u001b[39mself\u001b[39;49m\u001b[39m.\u001b[39;49mf(v)\n\u001b[1;32m    874\u001b[0m         \u001b[39mif\u001b[39;00m \u001b[39misinstance\u001b[39m(results[i], ABCSeries):\n\u001b[1;32m    875\u001b[0m             \u001b[39m# If we have a view on v, we need to make a copy because\u001b[39;00m\n\u001b[1;32m    876\u001b[0m             \u001b[39m#  series_generator will swap out the underlying data\u001b[39;00m\n\u001b[1;32m    877\u001b[0m             results[i] \u001b[39m=\u001b[39m results[i]\u001b[39m.\u001b[39mcopy(deep\u001b[39m=\u001b[39m\u001b[39mFalse\u001b[39;00m)\n",
      "Cell \u001b[0;32mIn [23], line 1\u001b[0m, in \u001b[0;36m<lambda>\u001b[0;34m(x)\u001b[0m\n\u001b[0;32m----> 1\u001b[0m rsi(aa)\u001b[39m.\u001b[39mapply(\u001b[39mlambda\u001b[39;00m x : rsi_strategy(x, \u001b[39m60\u001b[39;49m, \u001b[39m40\u001b[39;49m)\u001b[39m.\u001b[39many())\n",
      "File \u001b[0;32m~/Documents/vs_workspace/fintech/TradingSystem/src/strategy.py:12\u001b[0m, in \u001b[0;36mrsi_strategy\u001b[0;34m(rsi, up, down)\u001b[0m\n\u001b[1;32m     11\u001b[0m \u001b[39mdef\u001b[39;00m \u001b[39mrsi_strategy\u001b[39m(rsi, up, down):\n\u001b[0;32m---> 12\u001b[0m     \u001b[39mif\u001b[39;00m rsi \u001b[39m>\u001b[39m up :\n\u001b[1;32m     13\u001b[0m         \u001b[39mreturn\u001b[39;00m \u001b[39m-\u001b[39m\u001b[39m1\u001b[39m\n\u001b[1;32m     14\u001b[0m     \u001b[39melif\u001b[39;00m rsi \u001b[39m<\u001b[39m down:\n",
      "File \u001b[0;32m~/opt/anaconda3/envs/dl_env/lib/python3.8/site-packages/pandas/core/generic.py:1527\u001b[0m, in \u001b[0;36mNDFrame.__nonzero__\u001b[0;34m(self)\u001b[0m\n\u001b[1;32m   1525\u001b[0m \u001b[39m@final\u001b[39m\n\u001b[1;32m   1526\u001b[0m \u001b[39mdef\u001b[39;00m \u001b[39m__nonzero__\u001b[39m(\u001b[39mself\u001b[39m):\n\u001b[0;32m-> 1527\u001b[0m     \u001b[39mraise\u001b[39;00m \u001b[39mValueError\u001b[39;00m(\n\u001b[1;32m   1528\u001b[0m         \u001b[39mf\u001b[39m\u001b[39m\"\u001b[39m\u001b[39mThe truth value of a \u001b[39m\u001b[39m{\u001b[39;00m\u001b[39mtype\u001b[39m(\u001b[39mself\u001b[39m)\u001b[39m.\u001b[39m\u001b[39m__name__\u001b[39m\u001b[39m}\u001b[39;00m\u001b[39m is ambiguous. \u001b[39m\u001b[39m\"\u001b[39m\n\u001b[1;32m   1529\u001b[0m         \u001b[39m\"\u001b[39m\u001b[39mUse a.empty, a.bool(), a.item(), a.any() or a.all().\u001b[39m\u001b[39m\"\u001b[39m\n\u001b[1;32m   1530\u001b[0m     )\n",
      "\u001b[0;31mValueError\u001b[0m: The truth value of a Series is ambiguous. Use a.empty, a.bool(), a.item(), a.any() or a.all()."
     ]
    }
   ],
   "source": []
  },
  {
   "cell_type": "code",
   "execution_count": 18,
   "metadata": {},
   "outputs": [
    {
     "data": {
      "text/plain": [
       " 0    2346\n",
       " 1     768\n",
       "-1     602\n",
       "Name: signal, dtype: int64"
      ]
     },
     "execution_count": 18,
     "metadata": {},
     "output_type": "execute_result"
    }
   ],
   "source": [
    "aa['signal'].value_counts()"
   ]
  },
  {
   "cell_type": "code",
   "execution_count": null,
   "metadata": {},
   "outputs": [],
   "source": [
    "d"
   ]
  },
  {
   "cell_type": "code",
   "execution_count": 6,
   "metadata": {},
   "outputs": [],
   "source": [
    "class trading:\n",
    "    def __init__(self, stategy , ticker='AAPL', amount = 10000, data = aa): \n",
    "        self.ticker = ticker\n",
    "        self.amount = amount\n",
    "        self.data = data\n",
    "        self.staragy = stategy(data)\n",
    "        .apply(lambda x : rsi_strategy(x, 60, 40))\n",
    "    def buy_signal(self): \n",
    "        \n",
    "        pass\n",
    "\n",
    "    def sell_signal(self):\n",
    "        \n",
    "        pass\n",
    "    def buy_order(self):\n",
    "        \n",
    "        pass\n",
    "    \n",
    "    def sell_order(self):\n",
    "        \n",
    "        pass\n",
    "\n"
   ]
  },
  {
   "cell_type": "code",
   "execution_count": null,
   "metadata": {},
   "outputs": [],
   "source": []
  }
 ],
 "metadata": {
  "kernelspec": {
   "display_name": "Python 3.8.13 64-bit ('dl_env')",
   "language": "python",
   "name": "python3"
  },
  "language_info": {
   "codemirror_mode": {
    "name": "ipython",
    "version": 3
   },
   "file_extension": ".py",
   "mimetype": "text/x-python",
   "name": "python",
   "nbconvert_exporter": "python",
   "pygments_lexer": "ipython3",
   "version": "3.8.13"
  },
  "orig_nbformat": 4,
  "vscode": {
   "interpreter": {
    "hash": "3b7f90f3ffd1b2a60fee91aee39c73355e94a75c9e00035a66944cc7ed4c1221"
   }
  }
 },
 "nbformat": 4,
 "nbformat_minor": 2
}
