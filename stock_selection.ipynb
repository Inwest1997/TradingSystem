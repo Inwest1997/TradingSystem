{
 "cells": [
  {
   "cell_type": "code",
   "execution_count": 1,
   "metadata": {},
   "outputs": [],
   "source": [
    "from src.data_loader import *\n",
    "from src.ticker_selection import *\n",
    "from src.big_strategy import *\n",
    "from src.backtesting import *\n",
    "from datetime import datetime as dt"
   ]
  },
  {
   "cell_type": "code",
   "execution_count": 2,
   "metadata": {},
   "outputs": [
    {
     "name": "stdout",
     "output_type": "stream",
     "text": [
      "기존 데이터 불러오기 성공\n"
     ]
    }
   ],
   "source": [
    "aapl = DataGenerator('db').data_search('AAPL')"
   ]
  },
  {
   "cell_type": "code",
   "execution_count": 3,
   "metadata": {},
   "outputs": [],
   "source": [
    "aapl = aapl.reset_index()[aapl.reset_index()['rdatetime']>'2022-11-01'].set_index('rdatetime')"
   ]
  },
  {
   "cell_type": "code",
   "execution_count": 4,
   "metadata": {},
   "outputs": [],
   "source": [
    "aapl['ticker'] = 'AAPL'"
   ]
  },
  {
   "cell_type": "code",
   "execution_count": 5,
   "metadata": {},
   "outputs": [
    {
     "name": "stdout",
     "output_type": "stream",
     "text": [
      "Index(['open', 'high', 'low', 'close', 'adjClose', 'volume', 'ticker',\n",
      "       'rsi_position', 'rtn', 'daily_rtn', 'acc_rtn', 'acc_rtn_dp', 'mdd',\n",
      "       'bm_mdd', 'exs_rtn_daily'],\n",
      "      dtype='object')\n",
      "백테스팅 성공\n",
      "Index(['open', 'high', 'low', 'close', 'adjClose', 'volume', 'ticker',\n",
      "       'rsi_position', 'rtn', 'daily_rtn', 'acc_rtn', 'acc_rtn_dp', 'mdd',\n",
      "       'bm_mdd', 'exs_rtn_daily', 'macd_position'],\n",
      "      dtype='object')\n",
      "백테스팅 성공\n",
      "Index(['open', 'high', 'low', 'close', 'adjClose', 'volume', 'ticker',\n",
      "       'rsi_position', 'rtn', 'daily_rtn', 'acc_rtn', 'acc_rtn_dp', 'mdd',\n",
      "       'bm_mdd', 'exs_rtn_daily', 'macd_position', 'envelope_position'],\n",
      "      dtype='object')\n",
      "백테스팅 성공\n",
      "Index(['open', 'high', 'low', 'close', 'adjClose', 'volume', 'ticker',\n",
      "       'rsi_position', 'rtn', 'daily_rtn', 'acc_rtn', 'acc_rtn_dp', 'mdd',\n",
      "       'bm_mdd', 'exs_rtn_daily', 'macd_position', 'envelope_position',\n",
      "       'bollinger_position'],\n",
      "      dtype='object')\n",
      "백테스팅 성공\n",
      "Index(['open', 'high', 'low', 'close', 'adjClose', 'volume', 'ticker',\n",
      "       'rsi_position', 'rtn', 'daily_rtn', 'acc_rtn', 'acc_rtn_dp', 'mdd',\n",
      "       'bm_mdd', 'exs_rtn_daily', 'macd_position', 'envelope_position',\n",
      "       'bollinger_position', 'stochastic_position'],\n",
      "      dtype='object')\n",
      "백테스팅 성공\n",
      "Index(['open', 'high', 'low', 'close', 'adjClose', 'volume', 'ticker',\n",
      "       'rsi_position', 'rtn', 'daily_rtn', 'acc_rtn', 'acc_rtn_dp', 'mdd',\n",
      "       'bm_mdd', 'exs_rtn_daily', 'macd_position', 'envelope_position',\n",
      "       'bollinger_position', 'stochastic_position', 'cci_position'],\n",
      "      dtype='object')\n",
      "백테스팅 성공\n",
      "[['macd', 1.21], ['envelope', 0.0], ['bollinger', 0.0], ['stochastic', 0.0], ['cci', 0.0], ['rsi', -0.9299999999999975]]\n",
      "CAGR:  0.0\n",
      "Accumulated return: 0\n",
      "Average return:  nan\n",
      "Benchmark return : -0.31\n",
      "Number of trades:  0\n",
      "Number of win: 0\n",
      "Hit ratio: 0\n",
      "Investment period: 0.038356164383561646 yrs\n",
      "Sharpe ratio: 0\n",
      "MDD: 0.0\n",
      "Benchmark MDD: -6.8500000000000005\n",
      "Index(['open', 'high', 'low', 'close', 'adjClose', 'volume', 'ticker',\n",
      "       'rsi_position', 'rtn', 'daily_rtn', 'acc_rtn', 'acc_rtn_dp', 'mdd',\n",
      "       'bm_mdd', 'exs_rtn_daily', 'macd_position', 'envelope_position',\n",
      "       'bollinger_position', 'stochastic_position', 'cci_position',\n",
      "       'position'],\n",
      "      dtype='object')\n",
      "백테스팅 성공\n"
     ]
    }
   ],
   "source": [
    "aa = big_strategy(aapl)"
   ]
  },
  {
   "cell_type": "code",
   "execution_count": 6,
   "metadata": {},
   "outputs": [
    {
     "data": {
      "text/plain": [
       "{'Symbol': 'AAPL',\n",
       " 'CAGR': 0.0,\n",
       " 'Accumulated_return': 0,\n",
       " 'Average_return': nan,\n",
       " 'MDD': 0.0,\n",
       " 'Benchmark_return': -0.31,\n",
       " 'Number_of_trades': 0,\n",
       " 'Number_of_win': 0,\n",
       " 'Hit_ratio': 0,\n",
       " 'Investment_period(Year)': 0.038356164383561646,\n",
       " 'Sharpe_ratio': 0,\n",
       " 'Benchmark_MDD': -6.8500000000000005}"
      ]
     },
     "execution_count": 6,
     "metadata": {},
     "output_type": "execute_result"
    }
   ],
   "source": [
    "aa"
   ]
  },
  {
   "cell_type": "code",
   "execution_count": null,
   "metadata": {},
   "outputs": [],
   "source": []
  },
  {
   "cell_type": "code",
   "execution_count": null,
   "metadata": {},
   "outputs": [],
   "source": []
  },
  {
   "cell_type": "code",
   "execution_count": null,
   "metadata": {},
   "outputs": [],
   "source": []
  },
  {
   "cell_type": "code",
   "execution_count": null,
   "metadata": {},
   "outputs": [],
   "source": []
  },
  {
   "cell_type": "code",
   "execution_count": null,
   "metadata": {},
   "outputs": [],
   "source": []
  },
  {
   "cell_type": "code",
   "execution_count": null,
   "metadata": {},
   "outputs": [],
   "source": []
  },
  {
   "cell_type": "code",
   "execution_count": null,
   "metadata": {},
   "outputs": [],
   "source": []
  },
  {
   "cell_type": "code",
   "execution_count": null,
   "metadata": {},
   "outputs": [],
   "source": [
    "df = yf.Ticker('AAPL').history(period=\"max\",auto_adjust = False)[['Open','High','Low','Adj Close','Volume']]"
   ]
  },
  {
   "cell_type": "code",
   "execution_count": 18,
   "metadata": {},
   "outputs": [
    {
     "ename": "AttributeError",
     "evalue": "module 'yfinance' has no attribute 'history'",
     "output_type": "error",
     "traceback": [
      "\u001b[0;31m---------------------------------------------------------------------------\u001b[0m",
      "\u001b[0;31mAttributeError\u001b[0m                            Traceback (most recent call last)",
      "Cell \u001b[0;32mIn [18], line 1\u001b[0m\n\u001b[0;32m----> 1\u001b[0m yf\u001b[39m.\u001b[39;49mhistory(tickers \u001b[39m=\u001b[39m \u001b[39m'\u001b[39m\u001b[39mTSLA\u001b[39m\u001b[39m'\u001b[39m, start \u001b[39m=\u001b[39m \u001b[39m'\u001b[39m\u001b[39m2022-11-18\u001b[39m\u001b[39m'\u001b[39m, interval \u001b[39m=\u001b[39m \u001b[39m'\u001b[39m\u001b[39m1m\u001b[39m\u001b[39m'\u001b[39m, progress\u001b[39m=\u001b[39m\u001b[39mFalse\u001b[39;00m, show_errors\u001b[39m=\u001b[39m\u001b[39mFalse\u001b[39;00m)\u001b[39m.\u001b[39miloc[:]\n",
      "\u001b[0;31mAttributeError\u001b[0m: module 'yfinance' has no attribute 'history'"
     ]
    }
   ],
   "source": [
    "yf.history(tickers = 'TSLA', start = '2022-11-18', interval = '1m', progress=False, show_errors=False).iloc[:]"
   ]
  },
  {
   "cell_type": "code",
   "execution_count": 19,
   "metadata": {},
   "outputs": [
    {
     "data": {
      "text/html": [
       "<div>\n",
       "<style scoped>\n",
       "    .dataframe tbody tr th:only-of-type {\n",
       "        vertical-align: middle;\n",
       "    }\n",
       "\n",
       "    .dataframe tbody tr th {\n",
       "        vertical-align: top;\n",
       "    }\n",
       "\n",
       "    .dataframe thead th {\n",
       "        text-align: right;\n",
       "    }\n",
       "</style>\n",
       "<table border=\"1\" class=\"dataframe\">\n",
       "  <thead>\n",
       "    <tr style=\"text-align: right;\">\n",
       "      <th></th>\n",
       "      <th>Open</th>\n",
       "      <th>High</th>\n",
       "      <th>Low</th>\n",
       "      <th>Close</th>\n",
       "      <th>Volume</th>\n",
       "      <th>Dividends</th>\n",
       "      <th>Stock Splits</th>\n",
       "    </tr>\n",
       "    <tr>\n",
       "      <th>Date</th>\n",
       "      <th></th>\n",
       "      <th></th>\n",
       "      <th></th>\n",
       "      <th></th>\n",
       "      <th></th>\n",
       "      <th></th>\n",
       "      <th></th>\n",
       "    </tr>\n",
       "  </thead>\n",
       "  <tbody>\n",
       "    <tr>\n",
       "      <th>2022-10-17</th>\n",
       "      <td>99.519997</td>\n",
       "      <td>101.769997</td>\n",
       "      <td>99.510002</td>\n",
       "      <td>100.779999</td>\n",
       "      <td>23311600</td>\n",
       "      <td>0</td>\n",
       "      <td>0</td>\n",
       "    </tr>\n",
       "    <tr>\n",
       "      <th>2022-10-18</th>\n",
       "      <td>103.940002</td>\n",
       "      <td>104.220001</td>\n",
       "      <td>100.650002</td>\n",
       "      <td>101.389999</td>\n",
       "      <td>21610500</td>\n",
       "      <td>0</td>\n",
       "      <td>0</td>\n",
       "    </tr>\n",
       "    <tr>\n",
       "      <th>2022-10-19</th>\n",
       "      <td>100.699997</td>\n",
       "      <td>101.658997</td>\n",
       "      <td>99.635002</td>\n",
       "      <td>100.290001</td>\n",
       "      <td>21573700</td>\n",
       "      <td>0</td>\n",
       "      <td>0</td>\n",
       "    </tr>\n",
       "    <tr>\n",
       "      <th>2022-10-20</th>\n",
       "      <td>100.820000</td>\n",
       "      <td>103.000000</td>\n",
       "      <td>99.970001</td>\n",
       "      <td>100.529999</td>\n",
       "      <td>25125100</td>\n",
       "      <td>0</td>\n",
       "      <td>0</td>\n",
       "    </tr>\n",
       "    <tr>\n",
       "      <th>2022-10-21</th>\n",
       "      <td>98.459999</td>\n",
       "      <td>101.620003</td>\n",
       "      <td>98.230003</td>\n",
       "      <td>101.480003</td>\n",
       "      <td>28988700</td>\n",
       "      <td>0</td>\n",
       "      <td>0</td>\n",
       "    </tr>\n",
       "  </tbody>\n",
       "</table>\n",
       "</div>"
      ],
      "text/plain": [
       "                  Open        High         Low       Close    Volume  \\\n",
       "Date                                                                   \n",
       "2022-10-17   99.519997  101.769997   99.510002  100.779999  23311600   \n",
       "2022-10-18  103.940002  104.220001  100.650002  101.389999  21610500   \n",
       "2022-10-19  100.699997  101.658997   99.635002  100.290001  21573700   \n",
       "2022-10-20  100.820000  103.000000   99.970001  100.529999  25125100   \n",
       "2022-10-21   98.459999  101.620003   98.230003  101.480003  28988700   \n",
       "\n",
       "            Dividends  Stock Splits  \n",
       "Date                                 \n",
       "2022-10-17          0             0  \n",
       "2022-10-18          0             0  \n",
       "2022-10-19          0             0  \n",
       "2022-10-20          0             0  \n",
       "2022-10-21          0             0  "
      ]
     },
     "execution_count": 19,
     "metadata": {},
     "output_type": "execute_result"
    }
   ],
   "source": [
    "goog = yf.Ticker('goog')\n",
    "data = goog.history(period=\"1da\", interval=\"1d\",)\n",
    "data.head()"
   ]
  },
  {
   "cell_type": "code",
   "execution_count": 22,
   "metadata": {},
   "outputs": [
    {
     "data": {
      "text/html": [
       "<div>\n",
       "<style scoped>\n",
       "    .dataframe tbody tr th:only-of-type {\n",
       "        vertical-align: middle;\n",
       "    }\n",
       "\n",
       "    .dataframe tbody tr th {\n",
       "        vertical-align: top;\n",
       "    }\n",
       "\n",
       "    .dataframe thead th {\n",
       "        text-align: right;\n",
       "    }\n",
       "</style>\n",
       "<table border=\"1\" class=\"dataframe\">\n",
       "  <thead>\n",
       "    <tr style=\"text-align: right;\">\n",
       "      <th></th>\n",
       "      <th>Open</th>\n",
       "      <th>High</th>\n",
       "      <th>Low</th>\n",
       "      <th>Close</th>\n",
       "      <th>Volume</th>\n",
       "      <th>Dividends</th>\n",
       "      <th>Stock Splits</th>\n",
       "    </tr>\n",
       "    <tr>\n",
       "      <th>Datetime</th>\n",
       "      <th></th>\n",
       "      <th></th>\n",
       "      <th></th>\n",
       "      <th></th>\n",
       "      <th></th>\n",
       "      <th></th>\n",
       "      <th></th>\n",
       "    </tr>\n",
       "  </thead>\n",
       "  <tbody>\n",
       "    <tr>\n",
       "      <th>2022-11-17 10:00:00-05:00</th>\n",
       "      <td>97.320000</td>\n",
       "      <td>97.320000</td>\n",
       "      <td>97.110001</td>\n",
       "      <td>97.120003</td>\n",
       "      <td>0</td>\n",
       "      <td>0</td>\n",
       "      <td>0</td>\n",
       "    </tr>\n",
       "    <tr>\n",
       "      <th>2022-11-17 10:01:00-05:00</th>\n",
       "      <td>97.120003</td>\n",
       "      <td>97.309998</td>\n",
       "      <td>97.099998</td>\n",
       "      <td>97.300003</td>\n",
       "      <td>47299</td>\n",
       "      <td>0</td>\n",
       "      <td>0</td>\n",
       "    </tr>\n",
       "    <tr>\n",
       "      <th>2022-11-17 10:02:00-05:00</th>\n",
       "      <td>97.300003</td>\n",
       "      <td>97.379997</td>\n",
       "      <td>97.269997</td>\n",
       "      <td>97.290001</td>\n",
       "      <td>67140</td>\n",
       "      <td>0</td>\n",
       "      <td>0</td>\n",
       "    </tr>\n",
       "    <tr>\n",
       "      <th>2022-11-17 10:03:00-05:00</th>\n",
       "      <td>97.289902</td>\n",
       "      <td>97.400002</td>\n",
       "      <td>97.250000</td>\n",
       "      <td>97.370003</td>\n",
       "      <td>61784</td>\n",
       "      <td>0</td>\n",
       "      <td>0</td>\n",
       "    </tr>\n",
       "    <tr>\n",
       "      <th>2022-11-17 10:04:00-05:00</th>\n",
       "      <td>97.370003</td>\n",
       "      <td>97.620003</td>\n",
       "      <td>97.360100</td>\n",
       "      <td>97.620003</td>\n",
       "      <td>55575</td>\n",
       "      <td>0</td>\n",
       "      <td>0</td>\n",
       "    </tr>\n",
       "    <tr>\n",
       "      <th>...</th>\n",
       "      <td>...</td>\n",
       "      <td>...</td>\n",
       "      <td>...</td>\n",
       "      <td>...</td>\n",
       "      <td>...</td>\n",
       "      <td>...</td>\n",
       "      <td>...</td>\n",
       "    </tr>\n",
       "    <tr>\n",
       "      <th>2022-11-17 13:51:00-05:00</th>\n",
       "      <td>99.099998</td>\n",
       "      <td>99.110001</td>\n",
       "      <td>99.019997</td>\n",
       "      <td>99.059998</td>\n",
       "      <td>70089</td>\n",
       "      <td>0</td>\n",
       "      <td>0</td>\n",
       "    </tr>\n",
       "    <tr>\n",
       "      <th>2022-11-17 13:52:00-05:00</th>\n",
       "      <td>99.059998</td>\n",
       "      <td>99.081802</td>\n",
       "      <td>98.970001</td>\n",
       "      <td>98.970001</td>\n",
       "      <td>31795</td>\n",
       "      <td>0</td>\n",
       "      <td>0</td>\n",
       "    </tr>\n",
       "    <tr>\n",
       "      <th>2022-11-17 13:53:00-05:00</th>\n",
       "      <td>98.949997</td>\n",
       "      <td>99.035004</td>\n",
       "      <td>98.949997</td>\n",
       "      <td>99.000000</td>\n",
       "      <td>22331</td>\n",
       "      <td>0</td>\n",
       "      <td>0</td>\n",
       "    </tr>\n",
       "    <tr>\n",
       "      <th>2022-11-17 13:54:00-05:00</th>\n",
       "      <td>99.007599</td>\n",
       "      <td>99.059998</td>\n",
       "      <td>99.000000</td>\n",
       "      <td>99.035004</td>\n",
       "      <td>16793</td>\n",
       "      <td>0</td>\n",
       "      <td>0</td>\n",
       "    </tr>\n",
       "    <tr>\n",
       "      <th>2022-11-17 13:55:08-05:00</th>\n",
       "      <td>99.030098</td>\n",
       "      <td>99.030098</td>\n",
       "      <td>99.030098</td>\n",
       "      <td>99.030098</td>\n",
       "      <td>0</td>\n",
       "      <td>0</td>\n",
       "      <td>0</td>\n",
       "    </tr>\n",
       "  </tbody>\n",
       "</table>\n",
       "<p>235 rows × 7 columns</p>\n",
       "</div>"
      ],
      "text/plain": [
       "                                Open       High        Low      Close  Volume  \\\n",
       "Datetime                                                                        \n",
       "2022-11-17 10:00:00-05:00  97.320000  97.320000  97.110001  97.120003       0   \n",
       "2022-11-17 10:01:00-05:00  97.120003  97.309998  97.099998  97.300003   47299   \n",
       "2022-11-17 10:02:00-05:00  97.300003  97.379997  97.269997  97.290001   67140   \n",
       "2022-11-17 10:03:00-05:00  97.289902  97.400002  97.250000  97.370003   61784   \n",
       "2022-11-17 10:04:00-05:00  97.370003  97.620003  97.360100  97.620003   55575   \n",
       "...                              ...        ...        ...        ...     ...   \n",
       "2022-11-17 13:51:00-05:00  99.099998  99.110001  99.019997  99.059998   70089   \n",
       "2022-11-17 13:52:00-05:00  99.059998  99.081802  98.970001  98.970001   31795   \n",
       "2022-11-17 13:53:00-05:00  98.949997  99.035004  98.949997  99.000000   22331   \n",
       "2022-11-17 13:54:00-05:00  99.007599  99.059998  99.000000  99.035004   16793   \n",
       "2022-11-17 13:55:08-05:00  99.030098  99.030098  99.030098  99.030098       0   \n",
       "\n",
       "                           Dividends  Stock Splits  \n",
       "Datetime                                            \n",
       "2022-11-17 10:00:00-05:00          0             0  \n",
       "2022-11-17 10:01:00-05:00          0             0  \n",
       "2022-11-17 10:02:00-05:00          0             0  \n",
       "2022-11-17 10:03:00-05:00          0             0  \n",
       "2022-11-17 10:04:00-05:00          0             0  \n",
       "...                              ...           ...  \n",
       "2022-11-17 13:51:00-05:00          0             0  \n",
       "2022-11-17 13:52:00-05:00          0             0  \n",
       "2022-11-17 13:53:00-05:00          0             0  \n",
       "2022-11-17 13:54:00-05:00          0             0  \n",
       "2022-11-17 13:55:08-05:00          0             0  \n",
       "\n",
       "[235 rows x 7 columns]"
      ]
     },
     "execution_count": 22,
     "metadata": {},
     "output_type": "execute_result"
    }
   ],
   "source": [
    "data = goog.history(interval='1m', start='2022-11-18')\n",
    "data"
   ]
  },
  {
   "cell_type": "code",
   "execution_count": null,
   "metadata": {},
   "outputs": [],
   "source": []
  }
 ],
 "metadata": {
  "kernelspec": {
   "display_name": "Python 3.8.13",
   "language": "python",
   "name": "python3"
  },
  "language_info": {
   "codemirror_mode": {
    "name": "ipython",
    "version": 3
   },
   "file_extension": ".py",
   "mimetype": "text/x-python",
   "name": "python",
   "nbconvert_exporter": "python",
   "pygments_lexer": "ipython3",
   "version": "3.8.13"
  },
  "orig_nbformat": 4,
  "vscode": {
   "interpreter": {
    "hash": "3b7f90f3ffd1b2a60fee91aee39c73355e94a75c9e00035a66944cc7ed4c1221"
   }
  }
 },
 "nbformat": 4,
 "nbformat_minor": 2
}
