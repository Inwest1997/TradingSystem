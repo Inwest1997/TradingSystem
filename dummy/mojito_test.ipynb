{
 "cells": [
  {
   "cell_type": "code",
   "execution_count": 1,
   "metadata": {},
   "outputs": [],
   "source": [
    "import mojito\n",
    "\n",
    "APP_KEY = \"PSt0P9Vjk3Int85pcYtDuDYlMqaUA8POkyd4\"\n",
    "APP_SECRET = \"fag3QsAyviHhJ70anG44/HBjsBecgHEpLmkE+3AR9o8glN8eUeFQYTVblEd+/6LFo5zv9BFT2i6PD/TFLD0iYnnVzncmZqRKLZBw/GSdsE6/R+6sBKAnpUyox60MOXC9gEWKQj9mkwG1QZaI4ORp6PXwz2D2oNbQ7u0ooLjkXXfk0eE7Fh4=\"\n",
    "\n",
    "broker = mojito.KoreaInvestment(api_key=APP_KEY, api_secret=APP_SECRET)"
   ]
  },
  {
   "cell_type": "code",
   "execution_count": 2,
   "metadata": {},
   "outputs": [],
   "source": [
    "import pprint"
   ]
  },
  {
   "cell_type": "code",
   "execution_count": 3,
   "metadata": {},
   "outputs": [],
   "source": [
    "samsung_stock = broker.fetch_price(\"005930\")"
   ]
  },
  {
   "cell_type": "code",
   "execution_count": 4,
   "metadata": {},
   "outputs": [
    {
     "name": "stdout",
     "output_type": "stream",
     "text": [
      "Open:   55400\n",
      "High :  56100\n",
      "Low  :  55200\n",
      "Close:  55200\n"
     ]
    }
   ],
   "source": [
    "print(\"Open:  \", samsung_stock['output']['stck_oprc'])   # 시가\n",
    "print(\"High : \", samsung_stock['output']['stck_hgpr'])    # 고가\n",
    "print(\"Low  : \", samsung_stock['output']['stck_lwpr'])     # 저가\n",
    "print(\"Close: \", samsung_stock['output']['stck_prpr'])    # 종가"
   ]
  },
  {
   "cell_type": "code",
   "execution_count": 5,
   "metadata": {},
   "outputs": [
    {
     "data": {
      "text/plain": [
       "dict_keys(['iscd_stat_cls_code', 'marg_rate', 'rprs_mrkt_kor_name', 'bstp_kor_isnm', 'temp_stop_yn', 'oprc_rang_cont_yn', 'clpr_rang_cont_yn', 'crdt_able_yn', 'grmn_rate_cls_code', 'elw_pblc_yn', 'stck_prpr', 'prdy_vrss', 'prdy_vrss_sign', 'prdy_ctrt', 'acml_tr_pbmn', 'acml_vol', 'prdy_vrss_vol_rate', 'stck_oprc', 'stck_hgpr', 'stck_lwpr', 'stck_mxpr', 'stck_llam', 'stck_sdpr', 'wghn_avrg_stck_prc', 'hts_frgn_ehrt', 'frgn_ntby_qty', 'pgtr_ntby_qty', 'pvt_scnd_dmrs_prc', 'pvt_frst_dmrs_prc', 'pvt_pont_val', 'pvt_frst_dmsp_prc', 'pvt_scnd_dmsp_prc', 'dmrs_val', 'dmsp_val', 'cpfn', 'rstc_wdth_prc', 'stck_fcam', 'stck_sspr', 'aspr_unit', 'hts_deal_qty_unit_val', 'lstn_stcn', 'hts_avls', 'per', 'pbr', 'stac_month', 'vol_tnrt', 'eps', 'bps', 'd250_hgpr', 'd250_hgpr_date', 'd250_hgpr_vrss_prpr_rate', 'd250_lwpr', 'd250_lwpr_date', 'd250_lwpr_vrss_prpr_rate', 'stck_dryy_hgpr', 'dryy_hgpr_vrss_prpr_rate', 'dryy_hgpr_date', 'stck_dryy_lwpr', 'dryy_lwpr_vrss_prpr_rate', 'dryy_lwpr_date', 'w52_hgpr', 'w52_hgpr_vrss_prpr_ctrt', 'w52_hgpr_date', 'w52_lwpr', 'w52_lwpr_vrss_prpr_ctrt', 'w52_lwpr_date', 'whol_loan_rmnd_rate', 'ssts_yn', 'stck_shrn_iscd', 'fcam_cnnm', 'cpfn_cnnm', 'frgn_hldn_qty', 'vi_cls_code', 'ovtm_vi_cls_code', 'last_ssts_cntg_qty', 'invt_caful_yn', 'mrkt_warn_cls_code', 'short_over_yn', 'sltr_yn'])"
      ]
     },
     "execution_count": 5,
     "metadata": {},
     "output_type": "execute_result"
    }
   ],
   "source": [
    "samsung_stock['output'].keys()"
   ]
  },
  {
   "cell_type": "code",
   "execution_count": 3,
   "metadata": {},
   "outputs": [],
   "source": [
    "broker = mojito.KoreaInvestment(APP_KEY, APP_SECRET, exchange=\"나스닥\")"
   ]
  },
  {
   "cell_type": "code",
   "execution_count": 4,
   "metadata": {},
   "outputs": [],
   "source": [
    "import pandas as pd\n",
    "nasdaq = pd.read_csv('../Dataset/nasdqp_list.csv')"
   ]
  },
  {
   "cell_type": "code",
   "execution_count": 5,
   "metadata": {},
   "outputs": [],
   "source": [
    "from tqdm import tqdm"
   ]
  },
  {
   "cell_type": "code",
   "execution_count": 10,
   "metadata": {},
   "outputs": [
    {
     "name": "stderr",
     "output_type": "stream",
     "text": [
      " 43%|████▎     | 3646/8391 [04:13<03:03, 25.83it/s]"
     ]
    },
    {
     "name": "stdout",
     "output_type": "stream",
     "text": [
      "ERROR!\n",
      "ERROR!\n",
      "ERROR!\n",
      "ERROR!\n",
      "ERROR!\n"
     ]
    },
    {
     "name": "stderr",
     "output_type": "stream",
     "text": [
      " 44%|████▎     | 3670/8391 [04:14<03:00, 26.18it/s]"
     ]
    },
    {
     "name": "stdout",
     "output_type": "stream",
     "text": [
      "ERROR!\n",
      "ERROR!\n",
      "ERROR!\n",
      "ERROR!\n",
      "ERROR!\n",
      "ERROR!\n"
     ]
    },
    {
     "name": "stderr",
     "output_type": "stream",
     "text": [
      " 44%|████▍     | 3697/8391 [04:15<02:58, 26.36it/s]"
     ]
    },
    {
     "name": "stdout",
     "output_type": "stream",
     "text": [
      "ERROR!\n",
      "ERROR!\n",
      "ERROR!\n",
      "ERROR!\n",
      "ERROR!\n",
      "ERROR!\n"
     ]
    },
    {
     "name": "stderr",
     "output_type": "stream",
     "text": [
      " 44%|████▍     | 3721/8391 [04:16<03:06, 25.00it/s]"
     ]
    },
    {
     "name": "stdout",
     "output_type": "stream",
     "text": [
      "ERROR!\n",
      "ERROR!\n",
      "ERROR!\n",
      "ERROR!\n",
      "ERROR!\n"
     ]
    },
    {
     "name": "stderr",
     "output_type": "stream",
     "text": [
      " 45%|████▍     | 3745/8391 [04:17<04:10, 18.53it/s]"
     ]
    },
    {
     "name": "stdout",
     "output_type": "stream",
     "text": [
      "ERROR!\n"
     ]
    },
    {
     "name": "stderr",
     "output_type": "stream",
     "text": [
      " 45%|████▍     | 3768/8391 [04:18<03:09, 24.38it/s]"
     ]
    },
    {
     "name": "stdout",
     "output_type": "stream",
     "text": [
      "ERROR!\n",
      "ERROR!\n"
     ]
    },
    {
     "name": "stderr",
     "output_type": "stream",
     "text": [
      " 45%|████▌     | 3789/8391 [04:19<03:01, 25.29it/s]"
     ]
    },
    {
     "name": "stdout",
     "output_type": "stream",
     "text": [
      "ERROR!\n",
      "ERROR!\n",
      "ERROR!\n",
      "ERROR!\n"
     ]
    },
    {
     "name": "stderr",
     "output_type": "stream",
     "text": [
      " 45%|████▌     | 3813/8391 [04:20<02:58, 25.68it/s]"
     ]
    },
    {
     "name": "stdout",
     "output_type": "stream",
     "text": [
      "ERROR!\n",
      "ERROR!\n",
      "ERROR!\n",
      "ERROR!\n",
      "ERROR!\n",
      "ERROR!\n"
     ]
    },
    {
     "name": "stderr",
     "output_type": "stream",
     "text": [
      " 46%|████▌     | 3837/8391 [04:21<03:22, 22.50it/s]"
     ]
    },
    {
     "name": "stdout",
     "output_type": "stream",
     "text": [
      "ERROR!\n",
      "ERROR!\n"
     ]
    },
    {
     "name": "stderr",
     "output_type": "stream",
     "text": [
      " 46%|████▌     | 3861/8391 [04:22<03:08, 23.99it/s]"
     ]
    },
    {
     "name": "stdout",
     "output_type": "stream",
     "text": [
      "ERROR!\n",
      "ERROR!\n",
      "ERROR!\n",
      "ERROR!\n"
     ]
    },
    {
     "name": "stderr",
     "output_type": "stream",
     "text": [
      " 46%|████▋     | 3885/8391 [04:23<02:59, 25.13it/s]"
     ]
    },
    {
     "name": "stdout",
     "output_type": "stream",
     "text": [
      "ERROR!\n",
      "ERROR!\n",
      "ERROR!\n",
      "ERROR!\n",
      "ERROR!\n"
     ]
    },
    {
     "name": "stderr",
     "output_type": "stream",
     "text": [
      " 47%|████▋     | 3912/8391 [04:24<03:06, 24.05it/s]"
     ]
    },
    {
     "name": "stdout",
     "output_type": "stream",
     "text": [
      "ERROR!\n",
      "ERROR!\n",
      "ERROR!\n",
      "ERROR!\n"
     ]
    },
    {
     "name": "stderr",
     "output_type": "stream",
     "text": [
      " 47%|████▋     | 3933/8391 [04:25<03:00, 24.76it/s]"
     ]
    },
    {
     "name": "stdout",
     "output_type": "stream",
     "text": [
      "ERROR!\n",
      "ERROR!\n",
      "ERROR!\n",
      "ERROR!\n",
      "ERROR!\n"
     ]
    },
    {
     "name": "stderr",
     "output_type": "stream",
     "text": [
      " 47%|████▋     | 3960/8391 [04:26<02:48, 26.33it/s]"
     ]
    },
    {
     "name": "stdout",
     "output_type": "stream",
     "text": [
      "ERROR!\n",
      "ERROR!\n",
      "ERROR!\n",
      "ERROR!\n",
      "ERROR!\n",
      "ERROR!\n"
     ]
    },
    {
     "name": "stderr",
     "output_type": "stream",
     "text": [
      " 48%|████▊     | 3987/8391 [04:27<02:48, 26.08it/s]"
     ]
    },
    {
     "name": "stdout",
     "output_type": "stream",
     "text": [
      "ERROR!\n",
      "ERROR!\n",
      "ERROR!\n",
      "ERROR!\n",
      "ERROR!\n",
      "ERROR!\n"
     ]
    },
    {
     "name": "stderr",
     "output_type": "stream",
     "text": [
      " 48%|████▊     | 4011/8391 [04:28<02:55, 24.99it/s]"
     ]
    },
    {
     "name": "stdout",
     "output_type": "stream",
     "text": [
      "ERROR!\n",
      "ERROR!\n",
      "ERROR!\n",
      "ERROR!\n"
     ]
    },
    {
     "name": "stderr",
     "output_type": "stream",
     "text": [
      " 48%|████▊     | 4035/8391 [04:29<02:58, 24.44it/s]"
     ]
    },
    {
     "name": "stdout",
     "output_type": "stream",
     "text": [
      "ERROR!\n",
      "ERROR!\n",
      "ERROR!\n",
      "ERROR!\n",
      "ERROR!\n"
     ]
    },
    {
     "name": "stderr",
     "output_type": "stream",
     "text": [
      " 48%|████▊     | 4059/8391 [04:30<02:49, 25.60it/s]"
     ]
    },
    {
     "name": "stdout",
     "output_type": "stream",
     "text": [
      "ERROR!\n",
      "ERROR!\n",
      "ERROR!\n",
      "ERROR!\n",
      "ERROR!\n"
     ]
    },
    {
     "name": "stderr",
     "output_type": "stream",
     "text": [
      "100%|██████████| 8391/8391 [09:43<00:00, 14.38it/s]\n"
     ]
    }
   ],
   "source": [
    "non_list = []\n",
    "for stock in tqdm(nasdaq['Symbol']):\n",
    "    try:\n",
    "        _ = broker.fetch_price(stock)\n",
    "        if _['output']['rsym']=='':\n",
    "            non_list.append(stock)\n",
    "        else:\n",
    "            continue\n",
    "    except:\n",
    "        print('ERROR!')"
   ]
  },
  {
   "cell_type": "code",
   "execution_count": 14,
   "metadata": {},
   "outputs": [
    {
     "data": {
      "text/plain": [
       "8391"
      ]
     },
     "execution_count": 14,
     "metadata": {},
     "output_type": "execute_result"
    }
   ],
   "source": [
    "len(nasdaq['Symbol'])"
   ]
  },
  {
   "cell_type": "code",
   "execution_count": 20,
   "metadata": {},
   "outputs": [
    {
     "data": {
      "text/plain": [
       "8391"
      ]
     },
     "execution_count": 20,
     "metadata": {},
     "output_type": "execute_result"
    }
   ],
   "source": [
    "len(nasdaq['Symbol']) "
   ]
  },
  {
   "cell_type": "code",
   "execution_count": 17,
   "metadata": {},
   "outputs": [],
   "source": [
    "exit_df = nasdaq[~nasdaq['Symbol'].isin(non_list)]\n",
    "exit_df.to_csv('../Dataset/exist_kis_nasdaq_list.csv')"
   ]
  },
  {
   "cell_type": "code",
   "execution_count": 18,
   "metadata": {},
   "outputs": [
    {
     "data": {
      "text/html": [
       "<div>\n",
       "<style scoped>\n",
       "    .dataframe tbody tr th:only-of-type {\n",
       "        vertical-align: middle;\n",
       "    }\n",
       "\n",
       "    .dataframe tbody tr th {\n",
       "        vertical-align: top;\n",
       "    }\n",
       "\n",
       "    .dataframe thead th {\n",
       "        text-align: right;\n",
       "    }\n",
       "</style>\n",
       "<table border=\"1\" class=\"dataframe\">\n",
       "  <thead>\n",
       "    <tr style=\"text-align: right;\">\n",
       "      <th></th>\n",
       "      <th>Symbol</th>\n",
       "      <th>Name</th>\n",
       "      <th>Last Sale</th>\n",
       "      <th>Net Change</th>\n",
       "      <th>% Change</th>\n",
       "      <th>Market Cap</th>\n",
       "      <th>Country</th>\n",
       "      <th>IPO Year</th>\n",
       "      <th>Volume</th>\n",
       "      <th>Sector</th>\n",
       "      <th>Industry</th>\n",
       "    </tr>\n",
       "  </thead>\n",
       "  <tbody>\n",
       "    <tr>\n",
       "      <th>3</th>\n",
       "      <td>AACG</td>\n",
       "      <td>ATA Creativity Global American Depositary Shares</td>\n",
       "      <td>$1.89</td>\n",
       "      <td>-0.0700</td>\n",
       "      <td>-3.571%</td>\n",
       "      <td>5.972133e+07</td>\n",
       "      <td>China</td>\n",
       "      <td>2008.0</td>\n",
       "      <td>11290</td>\n",
       "      <td>Consumer Discretionary</td>\n",
       "      <td>Service to the Health Industry</td>\n",
       "    </tr>\n",
       "    <tr>\n",
       "      <th>4</th>\n",
       "      <td>AACI</td>\n",
       "      <td>Armada Acquisition Corp. I Common Stock</td>\n",
       "      <td>$9.925</td>\n",
       "      <td>-0.0050</td>\n",
       "      <td>-0.05%</td>\n",
       "      <td>2.055418e+08</td>\n",
       "      <td>United States</td>\n",
       "      <td>2021.0</td>\n",
       "      <td>4059</td>\n",
       "      <td>Industrials</td>\n",
       "      <td>Consumer Electronics/Appliances</td>\n",
       "    </tr>\n",
       "    <tr>\n",
       "      <th>5</th>\n",
       "      <td>AACIU</td>\n",
       "      <td>Armada Acquisition Corp. I Unit</td>\n",
       "      <td>$10.035</td>\n",
       "      <td>0.0000</td>\n",
       "      <td>0.00%</td>\n",
       "      <td>0.000000e+00</td>\n",
       "      <td>United States</td>\n",
       "      <td>2021.0</td>\n",
       "      <td>3</td>\n",
       "      <td>Industrials</td>\n",
       "      <td>Consumer Electronics/Appliances</td>\n",
       "    </tr>\n",
       "    <tr>\n",
       "      <th>7</th>\n",
       "      <td>AADI</td>\n",
       "      <td>Aadi Bioscience Inc. Common Stock</td>\n",
       "      <td>$13.61</td>\n",
       "      <td>-0.6900</td>\n",
       "      <td>-4.825%</td>\n",
       "      <td>2.860391e+08</td>\n",
       "      <td>United States</td>\n",
       "      <td>NaN</td>\n",
       "      <td>50390</td>\n",
       "      <td>Health Care</td>\n",
       "      <td>Biotechnology: Pharmaceutical Preparations</td>\n",
       "    </tr>\n",
       "    <tr>\n",
       "      <th>12</th>\n",
       "      <td>AAL</td>\n",
       "      <td>American Airlines Group Inc. Common Stock</td>\n",
       "      <td>$12.18</td>\n",
       "      <td>-0.5500</td>\n",
       "      <td>-4.321%</td>\n",
       "      <td>7.915123e+09</td>\n",
       "      <td>United States</td>\n",
       "      <td>NaN</td>\n",
       "      <td>37268741</td>\n",
       "      <td>Consumer Discretionary</td>\n",
       "      <td>Air Freight/Delivery Services</td>\n",
       "    </tr>\n",
       "    <tr>\n",
       "      <th>...</th>\n",
       "      <td>...</td>\n",
       "      <td>...</td>\n",
       "      <td>...</td>\n",
       "      <td>...</td>\n",
       "      <td>...</td>\n",
       "      <td>...</td>\n",
       "      <td>...</td>\n",
       "      <td>...</td>\n",
       "      <td>...</td>\n",
       "      <td>...</td>\n",
       "      <td>...</td>\n",
       "    </tr>\n",
       "    <tr>\n",
       "      <th>8383</th>\n",
       "      <td>ZVO</td>\n",
       "      <td>Zovio Inc. Common Stock</td>\n",
       "      <td>$0.1535</td>\n",
       "      <td>-0.0135</td>\n",
       "      <td>-8.084%</td>\n",
       "      <td>5.252936e+06</td>\n",
       "      <td>United States</td>\n",
       "      <td>NaN</td>\n",
       "      <td>2479350</td>\n",
       "      <td>Consumer Discretionary</td>\n",
       "      <td>Other Consumer Services</td>\n",
       "    </tr>\n",
       "    <tr>\n",
       "      <th>8384</th>\n",
       "      <td>ZWRK</td>\n",
       "      <td>Z-Work Acquisition Corp. Class A Common Stock</td>\n",
       "      <td>$9.87</td>\n",
       "      <td>-0.0100</td>\n",
       "      <td>-0.101%</td>\n",
       "      <td>2.837625e+08</td>\n",
       "      <td>United States</td>\n",
       "      <td>2021.0</td>\n",
       "      <td>652</td>\n",
       "      <td>Industrials</td>\n",
       "      <td>Consumer Electronics/Appliances</td>\n",
       "    </tr>\n",
       "    <tr>\n",
       "      <th>8387</th>\n",
       "      <td>ZY</td>\n",
       "      <td>Zymergen Inc. Common Stock</td>\n",
       "      <td>$2.78</td>\n",
       "      <td>-0.1200</td>\n",
       "      <td>-4.138%</td>\n",
       "      <td>2.901078e+08</td>\n",
       "      <td>United States</td>\n",
       "      <td>2021.0</td>\n",
       "      <td>755183</td>\n",
       "      <td>Industrials</td>\n",
       "      <td>Industrial Specialties</td>\n",
       "    </tr>\n",
       "    <tr>\n",
       "      <th>8389</th>\n",
       "      <td>ZYNE</td>\n",
       "      <td>Zynerba Pharmaceuticals Inc. Common Stock</td>\n",
       "      <td>$0.7411</td>\n",
       "      <td>-0.0835</td>\n",
       "      <td>-10.126%</td>\n",
       "      <td>3.390761e+07</td>\n",
       "      <td>United States</td>\n",
       "      <td>2015.0</td>\n",
       "      <td>242308</td>\n",
       "      <td>Health Care</td>\n",
       "      <td>Biotechnology: Pharmaceutical Preparations</td>\n",
       "    </tr>\n",
       "    <tr>\n",
       "      <th>8390</th>\n",
       "      <td>ZYXI</td>\n",
       "      <td>Zynex Inc. Common Stock</td>\n",
       "      <td>$8.80</td>\n",
       "      <td>-0.5000</td>\n",
       "      <td>-5.376%</td>\n",
       "      <td>3.379786e+08</td>\n",
       "      <td>United States</td>\n",
       "      <td>NaN</td>\n",
       "      <td>141338</td>\n",
       "      <td>Health Care</td>\n",
       "      <td>Other Pharmaceuticals</td>\n",
       "    </tr>\n",
       "  </tbody>\n",
       "</table>\n",
       "<p>4440 rows × 11 columns</p>\n",
       "</div>"
      ],
      "text/plain": [
       "     Symbol                                              Name Last Sale  \\\n",
       "3      AACG  ATA Creativity Global American Depositary Shares     $1.89   \n",
       "4      AACI           Armada Acquisition Corp. I Common Stock    $9.925   \n",
       "5     AACIU                   Armada Acquisition Corp. I Unit   $10.035   \n",
       "7      AADI                 Aadi Bioscience Inc. Common Stock    $13.61   \n",
       "12      AAL         American Airlines Group Inc. Common Stock    $12.18   \n",
       "...     ...                                               ...       ...   \n",
       "8383    ZVO                           Zovio Inc. Common Stock   $0.1535   \n",
       "8384   ZWRK     Z-Work Acquisition Corp. Class A Common Stock     $9.87   \n",
       "8387     ZY                        Zymergen Inc. Common Stock     $2.78   \n",
       "8389   ZYNE         Zynerba Pharmaceuticals Inc. Common Stock   $0.7411   \n",
       "8390   ZYXI                           Zynex Inc. Common Stock     $8.80   \n",
       "\n",
       "      Net Change  % Change    Market Cap        Country  IPO Year    Volume  \\\n",
       "3        -0.0700   -3.571%  5.972133e+07          China    2008.0     11290   \n",
       "4        -0.0050    -0.05%  2.055418e+08  United States    2021.0      4059   \n",
       "5         0.0000     0.00%  0.000000e+00  United States    2021.0         3   \n",
       "7        -0.6900   -4.825%  2.860391e+08  United States       NaN     50390   \n",
       "12       -0.5500   -4.321%  7.915123e+09  United States       NaN  37268741   \n",
       "...          ...       ...           ...            ...       ...       ...   \n",
       "8383     -0.0135   -8.084%  5.252936e+06  United States       NaN   2479350   \n",
       "8384     -0.0100   -0.101%  2.837625e+08  United States    2021.0       652   \n",
       "8387     -0.1200   -4.138%  2.901078e+08  United States    2021.0    755183   \n",
       "8389     -0.0835  -10.126%  3.390761e+07  United States    2015.0    242308   \n",
       "8390     -0.5000   -5.376%  3.379786e+08  United States       NaN    141338   \n",
       "\n",
       "                      Sector                                    Industry  \n",
       "3     Consumer Discretionary              Service to the Health Industry  \n",
       "4                Industrials             Consumer Electronics/Appliances  \n",
       "5                Industrials             Consumer Electronics/Appliances  \n",
       "7                Health Care  Biotechnology: Pharmaceutical Preparations  \n",
       "12    Consumer Discretionary               Air Freight/Delivery Services  \n",
       "...                      ...                                         ...  \n",
       "8383  Consumer Discretionary                     Other Consumer Services  \n",
       "8384             Industrials             Consumer Electronics/Appliances  \n",
       "8387             Industrials                      Industrial Specialties  \n",
       "8389             Health Care  Biotechnology: Pharmaceutical Preparations  \n",
       "8390             Health Care                       Other Pharmaceuticals  \n",
       "\n",
       "[4440 rows x 11 columns]"
      ]
     },
     "execution_count": 18,
     "metadata": {},
     "output_type": "execute_result"
    }
   ],
   "source": [
    "exit_df"
   ]
  },
  {
   "cell_type": "code",
   "execution_count": 11,
   "metadata": {},
   "outputs": [
    {
     "data": {
      "text/plain": [
       "3951"
      ]
     },
     "execution_count": 11,
     "metadata": {},
     "output_type": "execute_result"
    }
   ],
   "source": [
    "len(non_list)"
   ]
  },
  {
   "cell_type": "code",
   "execution_count": 19,
   "metadata": {},
   "outputs": [
    {
     "name": "stdout",
     "output_type": "stream",
     "text": [
      "{'ctx_area_fk100': '63283967^01^N^N^01^01^N^                                                                            ',\n",
      " 'ctx_area_nk100': '                                                                                                    ',\n",
      " 'msg1': '조회가 '\n",
      "         '완료되었습니다                                                           ',\n",
      " 'msg_cd': 'KIOK0510',\n",
      " 'output1': [{'bfdy_buy_qty': '0',\n",
      "              'bfdy_cprs_icdc': '0',\n",
      "              'bfdy_sll_qty': '0',\n",
      "              'evlu_amt': '556',\n",
      "              'evlu_erng_rt': '0.00000000',\n",
      "              'evlu_pfls_amt': '-66',\n",
      "              'evlu_pfls_rt': '-10.61',\n",
      "              'expd_dt': '',\n",
      "              'fltt_rt': '0.00000000',\n",
      "              'grta_rt_name': '불가',\n",
      "              'hldg_qty': '2',\n",
      "              'item_mgna_rt_name': '100%',\n",
      "              'loan_amt': '0',\n",
      "              'loan_dt': '',\n",
      "              'ord_psbl_qty': '2',\n",
      "              'pchs_amt': '622',\n",
      "              'pchs_avg_pric': '311.0000',\n",
      "              'pdno': '096350',\n",
      "              'prdt_name': '대창솔루션',\n",
      "              'prpr': '278',\n",
      "              'sbst_pric': '190',\n",
      "              'stck_loan_unpr': '0.0000',\n",
      "              'stln_slng_chgs': '0',\n",
      "              'thdt_buyqty': '0',\n",
      "              'thdt_sll_qty': '0',\n",
      "              'trad_dvsn_name': '현금'}],\n",
      " 'output2': [{'asst_icdc_amt': '0',\n",
      "              'asst_icdc_erng_rt': '0.00000000',\n",
      "              'bfdy_buy_amt': '0',\n",
      "              'bfdy_sll_amt': '0',\n",
      "              'bfdy_tlex_amt': '0',\n",
      "              'bfdy_tot_asst_evlu_amt': '9938',\n",
      "              'cma_evlu_amt': '0',\n",
      "              'd2_auto_rdpt_amt': '0',\n",
      "              'dnca_tot_amt': '9382',\n",
      "              'evlu_amt_smtl_amt': '556',\n",
      "              'evlu_pfls_smtl_amt': '-66',\n",
      "              'fncg_gld_auto_rdpt_yn': '',\n",
      "              'nass_amt': '9938',\n",
      "              'nxdy_auto_rdpt_amt': '0',\n",
      "              'nxdy_excc_amt': '9382',\n",
      "              'pchs_amt_smtl_amt': '622',\n",
      "              'prvs_rcdl_excc_amt': '9382',\n",
      "              'scts_evlu_amt': '556',\n",
      "              'thdt_buy_amt': '0',\n",
      "              'thdt_sll_amt': '0',\n",
      "              'thdt_tlex_amt': '0',\n",
      "              'tot_evlu_amt': '9938',\n",
      "              'tot_loan_amt': '0',\n",
      "              'tot_stln_slng_chgs': '0'}],\n",
      " 'rt_cd': '0'}\n"
     ]
    }
   ],
   "source": [
    "resp = broker.fetch_balance(\"63283967\")\n",
    "pprint.pprint(resp)"
   ]
  },
  {
   "cell_type": "code",
   "execution_count": 15,
   "metadata": {},
   "outputs": [
    {
     "data": {
      "text/plain": [
       "{'output': {'rsym': 'DNASGOOG',\n",
       "  'zdiv': '4',\n",
       "  'base': '98.3000',\n",
       "  'pvol': '17343431',\n",
       "  'last': '99.7450',\n",
       "  'sign': '2',\n",
       "  'diff': '1.4450',\n",
       "  'rate': '+1.47',\n",
       "  'tvol': '8994742',\n",
       "  'tamt': '878673051',\n",
       "  'ordy': '매도불가'},\n",
       " 'rt_cd': '0',\n",
       " 'msg_cd': 'MCA00000',\n",
       " 'msg1': '정상처리 되었습니다.'}"
      ]
     },
     "execution_count": 15,
     "metadata": {},
     "output_type": "execute_result"
    }
   ],
   "source": [
    "broker.fetch_price(\"GOOG\")"
   ]
  },
  {
   "cell_type": "code",
   "execution_count": 6,
   "metadata": {},
   "outputs": [
    {
     "data": {
      "text/html": [
       "<div>\n",
       "<style scoped>\n",
       "    .dataframe tbody tr th:only-of-type {\n",
       "        vertical-align: middle;\n",
       "    }\n",
       "\n",
       "    .dataframe tbody tr th {\n",
       "        vertical-align: top;\n",
       "    }\n",
       "\n",
       "    .dataframe thead th {\n",
       "        text-align: right;\n",
       "    }\n",
       "</style>\n",
       "<table border=\"1\" class=\"dataframe\">\n",
       "  <thead>\n",
       "    <tr style=\"text-align: right;\">\n",
       "      <th></th>\n",
       "      <th>open</th>\n",
       "      <th>high</th>\n",
       "      <th>low</th>\n",
       "      <th>close</th>\n",
       "    </tr>\n",
       "    <tr>\n",
       "      <th>date</th>\n",
       "      <th></th>\n",
       "      <th></th>\n",
       "      <th></th>\n",
       "      <th></th>\n",
       "    </tr>\n",
       "  </thead>\n",
       "  <tbody>\n",
       "    <tr>\n",
       "      <th>2022-10-13</th>\n",
       "      <td>295</td>\n",
       "      <td>295</td>\n",
       "      <td>277</td>\n",
       "      <td>278</td>\n",
       "    </tr>\n",
       "    <tr>\n",
       "      <th>2022-10-12</th>\n",
       "      <td>294</td>\n",
       "      <td>295</td>\n",
       "      <td>284</td>\n",
       "      <td>293</td>\n",
       "    </tr>\n",
       "    <tr>\n",
       "      <th>2022-10-11</th>\n",
       "      <td>311</td>\n",
       "      <td>316</td>\n",
       "      <td>288</td>\n",
       "      <td>294</td>\n",
       "    </tr>\n",
       "    <tr>\n",
       "      <th>2022-10-07</th>\n",
       "      <td>306</td>\n",
       "      <td>314</td>\n",
       "      <td>303</td>\n",
       "      <td>311</td>\n",
       "    </tr>\n",
       "    <tr>\n",
       "      <th>2022-10-06</th>\n",
       "      <td>300</td>\n",
       "      <td>307</td>\n",
       "      <td>297</td>\n",
       "      <td>307</td>\n",
       "    </tr>\n",
       "    <tr>\n",
       "      <th>2022-10-05</th>\n",
       "      <td>308</td>\n",
       "      <td>308</td>\n",
       "      <td>295</td>\n",
       "      <td>300</td>\n",
       "    </tr>\n",
       "    <tr>\n",
       "      <th>2022-10-04</th>\n",
       "      <td>295</td>\n",
       "      <td>304</td>\n",
       "      <td>295</td>\n",
       "      <td>301</td>\n",
       "    </tr>\n",
       "    <tr>\n",
       "      <th>2022-09-30</th>\n",
       "      <td>288</td>\n",
       "      <td>293</td>\n",
       "      <td>273</td>\n",
       "      <td>293</td>\n",
       "    </tr>\n",
       "    <tr>\n",
       "      <th>2022-09-29</th>\n",
       "      <td>294</td>\n",
       "      <td>305</td>\n",
       "      <td>286</td>\n",
       "      <td>290</td>\n",
       "    </tr>\n",
       "    <tr>\n",
       "      <th>2022-09-28</th>\n",
       "      <td>310</td>\n",
       "      <td>310</td>\n",
       "      <td>284</td>\n",
       "      <td>286</td>\n",
       "    </tr>\n",
       "    <tr>\n",
       "      <th>2022-09-27</th>\n",
       "      <td>303</td>\n",
       "      <td>314</td>\n",
       "      <td>303</td>\n",
       "      <td>309</td>\n",
       "    </tr>\n",
       "    <tr>\n",
       "      <th>2022-09-26</th>\n",
       "      <td>322</td>\n",
       "      <td>322</td>\n",
       "      <td>301</td>\n",
       "      <td>308</td>\n",
       "    </tr>\n",
       "    <tr>\n",
       "      <th>2022-09-23</th>\n",
       "      <td>344</td>\n",
       "      <td>345</td>\n",
       "      <td>323</td>\n",
       "      <td>327</td>\n",
       "    </tr>\n",
       "    <tr>\n",
       "      <th>2022-09-22</th>\n",
       "      <td>343</td>\n",
       "      <td>350</td>\n",
       "      <td>330</td>\n",
       "      <td>341</td>\n",
       "    </tr>\n",
       "    <tr>\n",
       "      <th>2022-09-21</th>\n",
       "      <td>360</td>\n",
       "      <td>361</td>\n",
       "      <td>346</td>\n",
       "      <td>350</td>\n",
       "    </tr>\n",
       "    <tr>\n",
       "      <th>2022-09-20</th>\n",
       "      <td>369</td>\n",
       "      <td>372</td>\n",
       "      <td>351</td>\n",
       "      <td>361</td>\n",
       "    </tr>\n",
       "    <tr>\n",
       "      <th>2022-09-19</th>\n",
       "      <td>384</td>\n",
       "      <td>384</td>\n",
       "      <td>364</td>\n",
       "      <td>369</td>\n",
       "    </tr>\n",
       "    <tr>\n",
       "      <th>2022-09-16</th>\n",
       "      <td>386</td>\n",
       "      <td>387</td>\n",
       "      <td>378</td>\n",
       "      <td>380</td>\n",
       "    </tr>\n",
       "    <tr>\n",
       "      <th>2022-09-15</th>\n",
       "      <td>383</td>\n",
       "      <td>399</td>\n",
       "      <td>382</td>\n",
       "      <td>386</td>\n",
       "    </tr>\n",
       "    <tr>\n",
       "      <th>2022-09-14</th>\n",
       "      <td>377</td>\n",
       "      <td>385</td>\n",
       "      <td>373</td>\n",
       "      <td>383</td>\n",
       "    </tr>\n",
       "    <tr>\n",
       "      <th>2022-09-13</th>\n",
       "      <td>380</td>\n",
       "      <td>390</td>\n",
       "      <td>380</td>\n",
       "      <td>388</td>\n",
       "    </tr>\n",
       "    <tr>\n",
       "      <th>2022-09-08</th>\n",
       "      <td>377</td>\n",
       "      <td>383</td>\n",
       "      <td>375</td>\n",
       "      <td>380</td>\n",
       "    </tr>\n",
       "    <tr>\n",
       "      <th>2022-09-07</th>\n",
       "      <td>390</td>\n",
       "      <td>390</td>\n",
       "      <td>372</td>\n",
       "      <td>375</td>\n",
       "    </tr>\n",
       "    <tr>\n",
       "      <th>2022-09-06</th>\n",
       "      <td>388</td>\n",
       "      <td>392</td>\n",
       "      <td>386</td>\n",
       "      <td>389</td>\n",
       "    </tr>\n",
       "    <tr>\n",
       "      <th>2022-09-05</th>\n",
       "      <td>388</td>\n",
       "      <td>393</td>\n",
       "      <td>385</td>\n",
       "      <td>386</td>\n",
       "    </tr>\n",
       "    <tr>\n",
       "      <th>2022-09-02</th>\n",
       "      <td>389</td>\n",
       "      <td>392</td>\n",
       "      <td>387</td>\n",
       "      <td>390</td>\n",
       "    </tr>\n",
       "    <tr>\n",
       "      <th>2022-09-01</th>\n",
       "      <td>397</td>\n",
       "      <td>403</td>\n",
       "      <td>387</td>\n",
       "      <td>388</td>\n",
       "    </tr>\n",
       "    <tr>\n",
       "      <th>2022-08-31</th>\n",
       "      <td>400</td>\n",
       "      <td>407</td>\n",
       "      <td>396</td>\n",
       "      <td>399</td>\n",
       "    </tr>\n",
       "    <tr>\n",
       "      <th>2022-08-30</th>\n",
       "      <td>400</td>\n",
       "      <td>412</td>\n",
       "      <td>396</td>\n",
       "      <td>400</td>\n",
       "    </tr>\n",
       "    <tr>\n",
       "      <th>2022-08-29</th>\n",
       "      <td>408</td>\n",
       "      <td>408</td>\n",
       "      <td>392</td>\n",
       "      <td>400</td>\n",
       "    </tr>\n",
       "  </tbody>\n",
       "</table>\n",
       "</div>"
      ],
      "text/plain": [
       "           open high  low close\n",
       "date                           \n",
       "2022-10-13  295  295  277   278\n",
       "2022-10-12  294  295  284   293\n",
       "2022-10-11  311  316  288   294\n",
       "2022-10-07  306  314  303   311\n",
       "2022-10-06  300  307  297   307\n",
       "2022-10-05  308  308  295   300\n",
       "2022-10-04  295  304  295   301\n",
       "2022-09-30  288  293  273   293\n",
       "2022-09-29  294  305  286   290\n",
       "2022-09-28  310  310  284   286\n",
       "2022-09-27  303  314  303   309\n",
       "2022-09-26  322  322  301   308\n",
       "2022-09-23  344  345  323   327\n",
       "2022-09-22  343  350  330   341\n",
       "2022-09-21  360  361  346   350\n",
       "2022-09-20  369  372  351   361\n",
       "2022-09-19  384  384  364   369\n",
       "2022-09-16  386  387  378   380\n",
       "2022-09-15  383  399  382   386\n",
       "2022-09-14  377  385  373   383\n",
       "2022-09-13  380  390  380   388\n",
       "2022-09-08  377  383  375   380\n",
       "2022-09-07  390  390  372   375\n",
       "2022-09-06  388  392  386   389\n",
       "2022-09-05  388  393  385   386\n",
       "2022-09-02  389  392  387   390\n",
       "2022-09-01  397  403  387   388\n",
       "2022-08-31  400  407  396   399\n",
       "2022-08-30  400  412  396   400\n",
       "2022-08-29  408  408  392   400"
      ]
     },
     "execution_count": 6,
     "metadata": {},
     "output_type": "execute_result"
    }
   ],
   "source": [
    "import pandas as pd\n",
    "\n",
    "df = pd.DataFrame(broker.fetch_daily_price(\"096350\")['output']) # 대창 솔루션\n",
    "dt = pd.to_datetime(df['stck_bsop_date'], format=\"%Y%m%d\")\n",
    "df.set_index(dt, inplace=True)\n",
    "df = df[['stck_oprc', 'stck_hgpr', 'stck_lwpr', 'stck_clpr']]\n",
    "df.columns = ['open', 'high', 'low', 'close']\n",
    "df.index.name = \"date\"\n",
    "df"
   ]
  },
  {
   "cell_type": "code",
   "execution_count": 7,
   "metadata": {},
   "outputs": [
    {
     "name": "stdout",
     "output_type": "stream",
     "text": [
      "{'ctx_area_fk100': '63283967^01^N^N^01^01^N^                                                                            ',\n",
      " 'ctx_area_nk100': '                                                                                                    ',\n",
      " 'msg1': '조회가 '\n",
      "         '완료되었습니다                                                           ',\n",
      " 'msg_cd': 'KIOK0510',\n",
      " 'output1': [{'bfdy_buy_qty': '0',\n",
      "              'bfdy_cprs_icdc': '0',\n",
      "              'bfdy_sll_qty': '0',\n",
      "              'evlu_amt': '622',\n",
      "              'evlu_erng_rt': '0.00000000',\n",
      "              'evlu_pfls_amt': '0',\n",
      "              'evlu_pfls_rt': '0.00',\n",
      "              'expd_dt': '',\n",
      "              'fltt_rt': '0.00000000',\n",
      "              'grta_rt_name': '',\n",
      "              'hldg_qty': '2',\n",
      "              'item_mgna_rt_name': '',\n",
      "              'loan_amt': '0',\n",
      "              'loan_dt': '',\n",
      "              'ord_psbl_qty': '2',\n",
      "              'pchs_amt': '622',\n",
      "              'pchs_avg_pric': '311.0000',\n",
      "              'pdno': '096350',\n",
      "              'prdt_name': '대창솔루션',\n",
      "              'prpr': '311',\n",
      "              'sbst_pric': '210',\n",
      "              'stck_loan_unpr': '0.0000',\n",
      "              'stln_slng_chgs': '0',\n",
      "              'thdt_buyqty': '2',\n",
      "              'thdt_sll_qty': '0',\n",
      "              'trad_dvsn_name': '현금'}],\n",
      " 'output2': [{'asst_icdc_amt': '0',\n",
      "              'asst_icdc_erng_rt': '0.00000000',\n",
      "              'bfdy_buy_amt': '0',\n",
      "              'bfdy_sll_amt': '0',\n",
      "              'bfdy_tlex_amt': '0',\n",
      "              'bfdy_tot_asst_evlu_amt': '10004',\n",
      "              'cma_evlu_amt': '0',\n",
      "              'd2_auto_rdpt_amt': '0',\n",
      "              'dnca_tot_amt': '10004',\n",
      "              'evlu_amt_smtl_amt': '622',\n",
      "              'evlu_pfls_smtl_amt': '0',\n",
      "              'fncg_gld_auto_rdpt_yn': '',\n",
      "              'nass_amt': '10004',\n",
      "              'nxdy_auto_rdpt_amt': '0',\n",
      "              'nxdy_excc_amt': '10004',\n",
      "              'pchs_amt_smtl_amt': '622',\n",
      "              'prvs_rcdl_excc_amt': '9382',\n",
      "              'scts_evlu_amt': '622',\n",
      "              'thdt_buy_amt': '622',\n",
      "              'thdt_sll_amt': '0',\n",
      "              'thdt_tlex_amt': '0',\n",
      "              'tot_evlu_amt': '10004',\n",
      "              'tot_loan_amt': '0',\n",
      "              'tot_stln_slng_chgs': '0'}],\n",
      " 'rt_cd': '0'}\n"
     ]
    }
   ],
   "source": [
    "account = broker.fetch_balance(\"63283967\")\n",
    "pprint.pprint(account)"
   ]
  },
  {
   "cell_type": "code",
   "execution_count": 8,
   "metadata": {},
   "outputs": [
    {
     "name": "stdout",
     "output_type": "stream",
     "text": [
      "{'rt_cd': '7', 'msg_cd': 'APBK0919', 'msg1': '장운영일자가 주문일과 상이합니다'}\n"
     ]
    }
   ],
   "source": [
    "resp = broker.create_market_buy_order(\n",
    "    acc_no=\"63283967\",\n",
    "    ticker=\"096350\",\n",
    "    quantity=1\n",
    ")\n",
    "print(resp)"
   ]
  },
  {
   "cell_type": "code",
   "execution_count": 9,
   "metadata": {},
   "outputs": [
    {
     "name": "stdout",
     "output_type": "stream",
     "text": [
      "{'ctx_area_fk100': '63283967^01^N^N^01^01^N^                                                                            ',\n",
      " 'ctx_area_nk100': '                                                                                                    ',\n",
      " 'msg1': '조회가 '\n",
      "         '완료되었습니다                                                           ',\n",
      " 'msg_cd': 'KIOK0510',\n",
      " 'output1': [{'bfdy_buy_qty': '0',\n",
      "              'bfdy_cprs_icdc': '0',\n",
      "              'bfdy_sll_qty': '0',\n",
      "              'evlu_amt': '622',\n",
      "              'evlu_erng_rt': '0.00000000',\n",
      "              'evlu_pfls_amt': '0',\n",
      "              'evlu_pfls_rt': '0.00',\n",
      "              'expd_dt': '',\n",
      "              'fltt_rt': '0.00000000',\n",
      "              'grta_rt_name': '',\n",
      "              'hldg_qty': '2',\n",
      "              'item_mgna_rt_name': '',\n",
      "              'loan_amt': '0',\n",
      "              'loan_dt': '',\n",
      "              'ord_psbl_qty': '2',\n",
      "              'pchs_amt': '622',\n",
      "              'pchs_avg_pric': '311.0000',\n",
      "              'pdno': '096350',\n",
      "              'prdt_name': '대창솔루션',\n",
      "              'prpr': '311',\n",
      "              'sbst_pric': '210',\n",
      "              'stck_loan_unpr': '0.0000',\n",
      "              'stln_slng_chgs': '0',\n",
      "              'thdt_buyqty': '2',\n",
      "              'thdt_sll_qty': '0',\n",
      "              'trad_dvsn_name': '현금'}],\n",
      " 'output2': [{'asst_icdc_amt': '0',\n",
      "              'asst_icdc_erng_rt': '0.00000000',\n",
      "              'bfdy_buy_amt': '0',\n",
      "              'bfdy_sll_amt': '0',\n",
      "              'bfdy_tlex_amt': '0',\n",
      "              'bfdy_tot_asst_evlu_amt': '10004',\n",
      "              'cma_evlu_amt': '0',\n",
      "              'd2_auto_rdpt_amt': '0',\n",
      "              'dnca_tot_amt': '10004',\n",
      "              'evlu_amt_smtl_amt': '622',\n",
      "              'evlu_pfls_smtl_amt': '0',\n",
      "              'fncg_gld_auto_rdpt_yn': '',\n",
      "              'nass_amt': '10004',\n",
      "              'nxdy_auto_rdpt_amt': '0',\n",
      "              'nxdy_excc_amt': '10004',\n",
      "              'pchs_amt_smtl_amt': '622',\n",
      "              'prvs_rcdl_excc_amt': '9382',\n",
      "              'scts_evlu_amt': '622',\n",
      "              'thdt_buy_amt': '622',\n",
      "              'thdt_sll_amt': '0',\n",
      "              'thdt_tlex_amt': '0',\n",
      "              'tot_evlu_amt': '10004',\n",
      "              'tot_loan_amt': '0',\n",
      "              'tot_stln_slng_chgs': '0'}],\n",
      " 'rt_cd': '0'}\n"
     ]
    }
   ],
   "source": [
    "account = broker.fetch_balance(\"63283967\")\n",
    "pprint.pprint(account)"
   ]
  },
  {
   "cell_type": "code",
   "execution_count": null,
   "metadata": {},
   "outputs": [],
   "source": []
  }
 ],
 "metadata": {
  "kernelspec": {
   "display_name": "Python 3.8.13 64-bit ('dl_env')",
   "language": "python",
   "name": "python3"
  },
  "language_info": {
   "codemirror_mode": {
    "name": "ipython",
    "version": 3
   },
   "file_extension": ".py",
   "mimetype": "text/x-python",
   "name": "python",
   "nbconvert_exporter": "python",
   "pygments_lexer": "ipython3",
   "version": "3.8.13"
  },
  "orig_nbformat": 4,
  "vscode": {
   "interpreter": {
    "hash": "3b7f90f3ffd1b2a60fee91aee39c73355e94a75c9e00035a66944cc7ed4c1221"
   }
  }
 },
 "nbformat": 4,
 "nbformat_minor": 2
}
