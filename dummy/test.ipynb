{
 "cells": [
  {
   "cell_type": "code",
   "execution_count": 1,
   "metadata": {},
   "outputs": [],
   "source": [
    "import requests\n",
    "import json"
   ]
  },
  {
   "cell_type": "code",
   "execution_count": 16,
   "metadata": {},
   "outputs": [],
   "source": [
    "APP_KEY = \"PSt0P9Vjk3Int85pcYtDuDYlMqaUA8POkyd4\"\n",
    "APP_SECRET = \"fag3QsAyviHhJ70anG44/HBjsBecgHEpLmkE+3AR9o8glN8eUeFQYTVblEd+/6LFo5zv9BFT2i6PD/TFLD0iYnnVzncmZqRKLZBw/GSdsE6/R+6sBKAnpUyox60MOXC9gEWKQj9mkwG1QZaI4ORp6PXwz2D2oNbQ7u0ooLjkXXfk0eE7Fh4=\"\n",
    "URL_BASE = \"https://openapi.koreainvestment.com:9443\" #모의투자서비스: https://openapivts.koreainvestment.com:29443\n"
   ]
  },
  {
   "cell_type": "code",
   "execution_count": 5,
   "metadata": {},
   "outputs": [],
   "source": [
    "headers = {\"content-type\":\"application/json\"}\n",
    "body = {\"grant_type\":\"client_credentials\",\n",
    "        \"appkey\":APP_KEY, \n",
    "        \"appsecret\":APP_SECRET}"
   ]
  },
  {
   "cell_type": "code",
   "execution_count": 6,
   "metadata": {},
   "outputs": [],
   "source": [
    "PATH = \"oauth2/tokenP\""
   ]
  },
  {
   "cell_type": "code",
   "execution_count": 7,
   "metadata": {},
   "outputs": [],
   "source": [
    "URL = f\"{URL_BASE}/{PATH}\""
   ]
  },
  {
   "cell_type": "code",
   "execution_count": 8,
   "metadata": {},
   "outputs": [],
   "source": [
    "res = requests.post(URL, headers=headers, data=json.dumps(body))"
   ]
  },
  {
   "cell_type": "code",
   "execution_count": 9,
   "metadata": {},
   "outputs": [],
   "source": [
    "ACCESS_TOKEN = res.json()[\"access_token\"]"
   ]
  },
  {
   "cell_type": "code",
   "execution_count": 4,
   "metadata": {},
   "outputs": [],
   "source": [
    "def hashkey(datas):\n",
    "  PATH = \"uapi/hashkey\"\n",
    "  URL = f\"{URL_BASE}/{PATH}\"\n",
    "  headers = {\n",
    "    'content-Type' : 'application/json',\n",
    "    'appKey' : APP_KEY,\n",
    "    'appSecret' : APP_SECRET,\n",
    "    }\n",
    "  res = requests.post(URL, headers=headers, data=json.dumps(datas))\n",
    "  hashkey = res.json()[\"HASH\"]\n",
    "\n",
    "  return hashkey"
   ]
  },
  {
   "cell_type": "code",
   "execution_count": 10,
   "metadata": {},
   "outputs": [],
   "source": [
    "headers = {\"Content-Type\":\"application/json\", \n",
    "          \"authorization\":f\"Bearer {ACCESS_TOKEN}\",\n",
    "          \"appKey\":APP_KEY,\n",
    "          \"appSecret\":APP_SECRET,\n",
    "          \"tr_id\":\"TTTC8434R\",\n",
    "          \"custtype\":\"P\"\n",
    "          }"
   ]
  },
  {
   "cell_type": "code",
   "execution_count": 14,
   "metadata": {},
   "outputs": [],
   "source": [
    "data = {\n",
    "    \"CANO\": \"63283967\",\n",
    "    \"ACNT_PRDT_CD\": \"01\",\n",
    "    \"PDNO\": \"005930\",\n",
    "    \"ORD_DVSN\": \"01\",\n",
    "    \"ORD_QTY\": \"10\",\n",
    "    \"ORD_UNPR\": \"0\",\n",
    "}"
   ]
  },
  {
   "cell_type": "code",
   "execution_count": 15,
   "metadata": {},
   "outputs": [
    {
     "data": {
      "text/plain": [
       "{'error_description': '권한부여 타입(grant_type)은 필수입니다.', 'error_code': 'EGW00115'}"
      ]
     },
     "execution_count": 15,
     "metadata": {},
     "output_type": "execute_result"
    }
   ],
   "source": [
    "res = requests.post(URL, headers=headers, data=json.dumps(data))\n",
    "res.json()"
   ]
  },
  {
   "cell_type": "code",
   "execution_count": null,
   "metadata": {},
   "outputs": [],
   "source": []
  }
 ],
 "metadata": {
  "kernelspec": {
   "display_name": "Python 3.8.13 64-bit ('dl_env')",
   "language": "python",
   "name": "python3"
  },
  "language_info": {
   "codemirror_mode": {
    "name": "ipython",
    "version": 3
   },
   "file_extension": ".py",
   "mimetype": "text/x-python",
   "name": "python",
   "nbconvert_exporter": "python",
   "pygments_lexer": "ipython3",
   "version": "3.8.13"
  },
  "orig_nbformat": 4,
  "vscode": {
   "interpreter": {
    "hash": "3b7f90f3ffd1b2a60fee91aee39c73355e94a75c9e00035a66944cc7ed4c1221"
   }
  }
 },
 "nbformat": 4,
 "nbformat_minor": 2
}
