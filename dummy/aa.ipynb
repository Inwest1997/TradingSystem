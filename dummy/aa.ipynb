{
 "cells": [
  {
   "cell_type": "code",
   "execution_count": 19,
   "metadata": {},
   "outputs": [],
   "source": [
    "import pandas as pd\n",
    "import datetime as dt\n",
    "import yfinance as yf"
   ]
  },
  {
   "cell_type": "code",
   "execution_count": 20,
   "metadata": {},
   "outputs": [],
   "source": [
    "nasdaq = pd.read_csv('./nasdqp_list.csv')"
   ]
  },
  {
   "cell_type": "code",
   "execution_count": 21,
   "metadata": {},
   "outputs": [],
   "source": [
    "import datetime as dt\n",
    "from pandas.tseries.offsets import BDay"
   ]
  },
  {
   "cell_type": "code",
   "execution_count": 22,
   "metadata": {},
   "outputs": [],
   "source": [
    "def stock_data_reader(stock_list, st_date, end_date, itv):\n",
    "    '''\n",
    "    stock_list : 다운로드드 받을 주식종목목 리스트\n",
    "    st_date : start date, YYYY-MM-DD 형식\n",
    "    end_date : end date, YYYY-MM-DD 형식\n",
    "    itv : interval, 수집할 데이터 단위\n",
    "    '''\n",
    "    stock_dict = {}\n",
    "    error_list = []\n",
    "    exist_list = []\n",
    "    for idx, i in enumerate(stock_list):\n",
    "        try:\n",
    "            stock_dict[i] = yf.download(tickers=i, start=st_date, end=end_date, interval=itv)\n",
    "            if len(stock_dict[i])==0:\n",
    "                error_list.append(i)\n",
    "            else:\n",
    "                exist_list.append(i) \n",
    "        except:\n",
    "            continue\n",
    "        if idx % 100 == 0:\n",
    "            print(f'\\n------------------------{idx}------------------------\\n')\n",
    "    return stock_dict, error_list, exist_list"
   ]
  },
  {
   "cell_type": "code",
   "execution_count": 23,
   "metadata": {},
   "outputs": [],
   "source": [
    "def read_stock(stock_list, stock_dict):\n",
    "    df_list = []\n",
    "    for stock in stock_list:\n",
    "        df = stock_dict[stock]\n",
    "        df['Ticker'] = stock\n",
    "        df_list.append(df)  \n",
    "    return pd.concat(df_list)\n",
    "        "
   ]
  },
  {
   "cell_type": "code",
   "execution_count": 24,
   "metadata": {},
   "outputs": [],
   "source": [
    "stock_list = pd.read_csv('./nasdqp_list.csv')\n",
    "end_date = dt.datetime.strftime(dt.datetime.today(), '%Y-%m-%d')\n",
    "st_date = dt.datetime.strftime(dt.datetime.today() - dt.timedelta(days=1), '%Y-%m-%d')"
   ]
  },
  {
   "cell_type": "code",
   "execution_count": null,
   "metadata": {},
   "outputs": [],
   "source": [
    "stock_dict, error_list, exist_list = stock_data_reader(stock_list['Symbol'], st_date, end_date, '1m')\n",
    "concat_df = read_stock(exist_list, stock_dict)"
   ]
  }
 ],
 "metadata": {
  "kernelspec": {
   "display_name": "Python 3.8.13 64-bit ('dl_env')",
   "language": "python",
   "name": "python3"
  },
  "language_info": {
   "codemirror_mode": {
    "name": "ipython",
    "version": 3
   },
   "file_extension": ".py",
   "mimetype": "text/x-python",
   "name": "python",
   "nbconvert_exporter": "python",
   "pygments_lexer": "ipython3",
   "version": "3.8.13"
  },
  "orig_nbformat": 4,
  "vscode": {
   "interpreter": {
    "hash": "3b7f90f3ffd1b2a60fee91aee39c73355e94a75c9e00035a66944cc7ed4c1221"
   }
  }
 },
 "nbformat": 4,
 "nbformat_minor": 2
}
