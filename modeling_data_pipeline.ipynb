{
 "cells": [
  {
   "cell_type": "code",
   "execution_count": 1,
   "metadata": {},
   "outputs": [],
   "source": [
    "import yfinance as yf"
   ]
  },
  {
   "cell_type": "code",
   "execution_count": 2,
   "metadata": {},
   "outputs": [],
   "source": [
    "from src.index import *"
   ]
  },
  {
   "cell_type": "code",
   "execution_count": 3,
   "metadata": {},
   "outputs": [],
   "source": [
    "import numpy as np\n",
    "import torch\n",
    "from torch.utils.data import Dataset\n",
    "from torch.utils import data\n",
    "\n",
    "from sklearn.preprocessing import MinMaxScaler"
   ]
  },
  {
   "cell_type": "code",
   "execution_count": 42,
   "metadata": {},
   "outputs": [],
   "source": [
    "from torch.utils.data import Dataset\n",
    "class CustomDataset(Dataset):\n",
    "    '''\n",
    "    데이터 셋에서는 Adj Close만 가져오는 걸로\n",
    "    stock_name\n",
    "    target -> position or price\n",
    "    window size\n",
    "    scaling -> each features and target\n",
    "    indicators(technical and economic)\n",
    "\n",
    "    '''\n",
    "    def __init__(self, \n",
    "                    ticker, \n",
    "                    window= 20, \n",
    "                    target = 'Adj Close', \n",
    "                    scaling = False, \n",
    "                    target_gen = None, \n",
    "                    drop_feature = None, \n",
    "                    mode = 'train', \n",
    "                    split = 0.7) :\n",
    "                    \n",
    "        super(CustomDataset).__init__()\n",
    "        self.ticker = ticker\n",
    "        df = yf.Ticker(self.ticker).history(period=\"max\",auto_adjust = False)\n",
    "        self.target = target\n",
    "        self.df = read_all(df)\n",
    "        if drop_feature != None:\n",
    "            self.df.drop(drop_feature, axis = 1)\n",
    "        self.target_generator(target_gen)\n",
    "        if scaling == True:\n",
    "            self.scaler()\n",
    "        self.df = self.df.dropna(axis = 0)\n",
    "        self.columns = self.df.columns\n",
    "        self.period = (self.df.index.max()-self.df.index.min()).days\n",
    "        if mode == 'train':\n",
    "            self.df = self.df.iloc[:int(split*len(self.df))]\n",
    "        else:\n",
    "            self.df = self.df.iloc[:int(split*len(self.df))]\n",
    "        self.X, self.y = self.my_window_data(window)\n",
    "\n",
    "        self.X = torch.tensor([self.X], dtype = torch.float32)\n",
    "        self.y = torch.tensor([self.y], dtype = torch.float32)\n",
    "    def my_window_data(self, window_size):\n",
    "        X_list = [self.df.iloc[i:i+window_size] for i in range(len(self.df) - window_size-1)]\n",
    "        y_list = [self.df.iloc[i+window_size][self.target] for i in range(len(self.df) - window_size-1)]\n",
    "        return  np.array(X_list), np.array(y_list).reshape(-1)\n",
    "\n",
    "    def scaler(self):\n",
    "        scaler = MinMaxScaler()\n",
    "        self.df = pd.DataFrame(columns = self.df.columns, data = scaler.fit_transform(self.df))\n",
    "\n",
    "    def target_generator(self, target_gen):\n",
    "        if target_gen == None:\n",
    "            pass\n",
    "        elif target_gen == 'trend':\n",
    "            self.df[self.target] = [1 if self.df[self.target].diff().iloc[i]>0 else 0 for i in range(len(self.df))]\n",
    "        else:\n",
    "            self.df[self.target] = [  1 if self.df[self.target].diff(1).iloc[i]>0 and self.df[self.target].diff(-1).iloc[i]>0\n",
    "                                else -1 if self.df[self.target].diff(1).iloc[i]<0 and self.df[self.target].diff(-1).iloc[i]<0\n",
    "                                else 0 for i in range(len(self.df))]\n",
    "\n",
    "    def __len__(self):\n",
    "        return self.X.shape[0]\n",
    "\n",
    "    def __getitem__(self, i): \n",
    "        return self.X[i], self.y[i]\n",
    "    "
   ]
  },
  {
   "cell_type": "code",
   "execution_count": 43,
   "metadata": {},
   "outputs": [],
   "source": [
    "train_dataset = CustomDataset('AAPL', drop_feature=['Open', 'Close', 'High'], mode = 'train')\n",
    "# train_dataloader = data.DataLoader(train_dataset, batch_size=20)\n",
    "test_dataset = CustomDataset('AAPL', drop_feature=['Open', 'Close', 'High'], mode = 'test')\n",
    "# test_dataloader = data.DataLoader(test_dataset, batch_size=20)\n"
   ]
  },
  {
   "cell_type": "code",
   "execution_count": 36,
   "metadata": {},
   "outputs": [],
   "source": [
    "from torch import nn\n",
    "\n",
    "class StockPredictor(nn.Module):\n",
    "\n",
    "    def __init__(self, in_channel=3, out_channel=1):\n",
    "        super(StockPredictor, self).__init__()\n",
    "        self.conv1d_1 = nn.Conv1d(in_channels=in_channel,\n",
    "                                out_channels=16,\n",
    "                                kernel_size=3,\n",
    "                                stride=1,\n",
    "                                padding=1)\n",
    "        self.conv1d_2 = nn.Conv1d(in_channels=16,\n",
    "                                out_channels=32,\n",
    "                                kernel_size=3,\n",
    "                                stride=1,\n",
    "                                padding=1)\n",
    "        \n",
    "        self.lstm = nn.LSTM(input_size=32,\n",
    "                            hidden_size=50,\n",
    "                            num_layers=1,\n",
    "                            bias=True,\n",
    "                            bidirectional=False,\n",
    "                            batch_first=True)\n",
    "        \n",
    "        self.dropout = nn.Dropout(0.5)\n",
    "\n",
    "        self.dense1 = nn.Linear(50, 32)\n",
    "        self.dense2 = nn.Linear(32, out_channel)\n",
    "\n",
    "    def forward(self, x):\n",
    "\t# Raw x shape : (B, S, F) => (B, 10, 3)\n",
    "        \n",
    "        # Shape : (B, F, S) => (B, 3, 10)\n",
    "        x = x.transpose(1, 2)\n",
    "        # Shape : (B, F, S) == (B, C, S) // C = channel => (B, 16, 10)\n",
    "        x = self.conv1d_1(x)\n",
    "        # Shape : (B, C, S) => (B, 32, 10)\n",
    "        x = self.conv1d_2(x)\n",
    "        # Shape : (B, S, C) == (B, S, F) => (B, 10, 32)\n",
    "        x = x.transpose(1, 2)\n",
    "        \n",
    "        self.lstm.flatten_parameters()\n",
    "        # Shape : (B, S, H) // H = hidden_size => (B, 10, 50)\n",
    "        _, (hidden, _) = self.lstm(x)\n",
    "        # Shape : (B, H) // -1 means the last sequence => (B, 50)\n",
    "        x = hidden[-1]\n",
    "        \n",
    "        # Shape : (B, H) => (B, 50)\n",
    "        x = self.dropout(x)\n",
    "        \n",
    "        # Shape : (B, 32)\n",
    "        x = self.fc_layer1(x)\n",
    "        # Shape : (B, O) // O = output => (B, 1)\n",
    "        x = self.fc_layer2(x)\n",
    "\n",
    "        return x"
   ]
  },
  {
   "cell_type": "code",
   "execution_count": 29,
   "metadata": {},
   "outputs": [],
   "source": [
    "model = StockPredictor(\n",
    "    n_features=len(train_dataset.columns),\n",
    "    n_hidden=4,\n",
    "    seq_len=20,\n",
    "    n_layers=1\n",
    ")"
   ]
  },
  {
   "cell_type": "code",
   "execution_count": 32,
   "metadata": {},
   "outputs": [],
   "source": [
    "loss_fn = torch.nn.L1Loss() #\n",
    "optimizer = torch.optim.Adam(model.parameters(), lr=0.001)\n",
    "device = 'cpu'"
   ]
  },
  {
   "cell_type": "code",
   "execution_count": 33,
   "metadata": {},
   "outputs": [],
   "source": [
    "def training(epoch, model, train_loader ):\n",
    "    running_loss = 0\n",
    "\n",
    "    model.train()\n",
    "    for idx, (X, y) in enumerate(train_loader):\n",
    "        X, y = X.to(device), y.to(device)\n",
    "        y_pred = model(X)\n",
    "        loss = loss_fn(y_pred, y)\n",
    "        optimizer.zero_grad()\n",
    "        loss.backward()\n",
    "        optimizer.step()\n",
    "        with torch.no_grad():\n",
    "            running_loss += loss.item()\n",
    "\n",
    "    epoch_loss = running_loss / len(train_loader. dataset)\n",
    "    return epoch_loss\n",
    "    \n",
    "def testing(epoch, model,valid_loader):\n",
    "    valid_running_loss = 0\n",
    "    model.eval()\n",
    "    with torch.no_grad():\n",
    "        for idx, (X, y) in enumerate(valid_loader):\n",
    "             X, y = X.to(device), y.to(device)\n",
    "             y_pred = model(X)\n",
    "             loss = loss_fn(y_pred, y)\n",
    "             valid_running_loss += loss.item()\n",
    "    epoch_valid_loss = valid_running_loss / len(valid_loader.dataset)\n",
    "    # print(f'epoch:{epoch},\\nloss:{round(epoch_loss, 3)},valid_loss:{round(epoch_valid_loss, 3)}')\n",
    "    return epoch_valid_loss"
   ]
  },
  {
   "cell_type": "code",
   "execution_count": 34,
   "metadata": {},
   "outputs": [],
   "source": [
    "from tqdm import tqdm"
   ]
  },
  {
   "cell_type": "code",
   "execution_count": 35,
   "metadata": {},
   "outputs": [
    {
     "name": "stderr",
     "output_type": "stream",
     "text": [
      "  0%|          | 0/10 [00:00<?, ?it/s]\n"
     ]
    },
    {
     "ename": "RuntimeError",
     "evalue": "shape '[1, 19, -1]' is invalid for input of size 3233999",
     "output_type": "error",
     "traceback": [
      "\u001b[0;31m---------------------------------------------------------------------------\u001b[0m",
      "\u001b[0;31mRuntimeError\u001b[0m                              Traceback (most recent call last)",
      "Cell \u001b[0;32mIn [35], line 8\u001b[0m\n\u001b[1;32m      6\u001b[0m loss_list \u001b[39m=\u001b[39m []\n\u001b[1;32m      7\u001b[0m val_loss_list \u001b[39m=\u001b[39m []\n\u001b[0;32m----> 8\u001b[0m loss \u001b[39m=\u001b[39m training(epoch, model, train_dataloader)\n\u001b[1;32m      9\u001b[0m valid_loss \u001b[39m=\u001b[39m testing(epoch, model, test_dataloader)\n\u001b[1;32m     10\u001b[0m loss_list\u001b[39m.\u001b[39mappend(loss)\n",
      "Cell \u001b[0;32mIn [33], line 7\u001b[0m, in \u001b[0;36mtraining\u001b[0;34m(epoch, model, train_loader)\u001b[0m\n\u001b[1;32m      5\u001b[0m \u001b[39mfor\u001b[39;00m idx, (X, y) \u001b[39min\u001b[39;00m \u001b[39menumerate\u001b[39m(train_loader):\n\u001b[1;32m      6\u001b[0m     X, y \u001b[39m=\u001b[39m X\u001b[39m.\u001b[39mto(device), y\u001b[39m.\u001b[39mto(device)\n\u001b[0;32m----> 7\u001b[0m     y_pred \u001b[39m=\u001b[39m model(X)\n\u001b[1;32m      8\u001b[0m     loss \u001b[39m=\u001b[39m loss_fn(y_pred, y)\n\u001b[1;32m      9\u001b[0m     optimizer\u001b[39m.\u001b[39mzero_grad()\n",
      "File \u001b[0;32m~/opt/anaconda3/envs/dl_env/lib/python3.8/site-packages/torch/nn/modules/module.py:1190\u001b[0m, in \u001b[0;36mModule._call_impl\u001b[0;34m(self, *input, **kwargs)\u001b[0m\n\u001b[1;32m   1186\u001b[0m \u001b[39m# If we don't have any hooks, we want to skip the rest of the logic in\u001b[39;00m\n\u001b[1;32m   1187\u001b[0m \u001b[39m# this function, and just call forward.\u001b[39;00m\n\u001b[1;32m   1188\u001b[0m \u001b[39mif\u001b[39;00m \u001b[39mnot\u001b[39;00m (\u001b[39mself\u001b[39m\u001b[39m.\u001b[39m_backward_hooks \u001b[39mor\u001b[39;00m \u001b[39mself\u001b[39m\u001b[39m.\u001b[39m_forward_hooks \u001b[39mor\u001b[39;00m \u001b[39mself\u001b[39m\u001b[39m.\u001b[39m_forward_pre_hooks \u001b[39mor\u001b[39;00m _global_backward_hooks\n\u001b[1;32m   1189\u001b[0m         \u001b[39mor\u001b[39;00m _global_forward_hooks \u001b[39mor\u001b[39;00m _global_forward_pre_hooks):\n\u001b[0;32m-> 1190\u001b[0m     \u001b[39mreturn\u001b[39;00m forward_call(\u001b[39m*\u001b[39;49m\u001b[39minput\u001b[39;49m, \u001b[39m*\u001b[39;49m\u001b[39m*\u001b[39;49mkwargs)\n\u001b[1;32m   1191\u001b[0m \u001b[39m# Do not call functions when jit is used\u001b[39;00m\n\u001b[1;32m   1192\u001b[0m full_backward_hooks, non_full_backward_hooks \u001b[39m=\u001b[39m [], []\n",
      "Cell \u001b[0;32mIn [26], line 24\u001b[0m, in \u001b[0;36mStockPredictor.forward\u001b[0;34m(self, sequences)\u001b[0m\n\u001b[1;32m     21\u001b[0m \u001b[39mdef\u001b[39;00m \u001b[39mforward\u001b[39m(\u001b[39mself\u001b[39m, sequences):\n\u001b[1;32m     22\u001b[0m     sequences \u001b[39m=\u001b[39m \u001b[39mself\u001b[39m\u001b[39m.\u001b[39mc1(sequences\u001b[39m.\u001b[39mview(\u001b[39mlen\u001b[39m(sequences), \u001b[39m1\u001b[39m, \u001b[39m-\u001b[39m\u001b[39m1\u001b[39m))\n\u001b[1;32m     23\u001b[0m     lstm_out, \u001b[39mself\u001b[39m\u001b[39m.\u001b[39mhidden \u001b[39m=\u001b[39m \u001b[39mself\u001b[39m\u001b[39m.\u001b[39mlstm(\n\u001b[0;32m---> 24\u001b[0m         sequences\u001b[39m.\u001b[39;49mview(\u001b[39mlen\u001b[39;49m(sequences), \u001b[39mself\u001b[39;49m\u001b[39m.\u001b[39;49mseq_len\u001b[39m-\u001b[39;49m\u001b[39m1\u001b[39;49m, \u001b[39m-\u001b[39;49m\u001b[39m1\u001b[39;49m),\n\u001b[1;32m     25\u001b[0m         \u001b[39mself\u001b[39m\u001b[39m.\u001b[39mhidden\n\u001b[1;32m     26\u001b[0m     )\n\u001b[1;32m     27\u001b[0m     last_time_step \u001b[39m=\u001b[39m lstm_out\u001b[39m.\u001b[39mview(\u001b[39mself\u001b[39m\u001b[39m.\u001b[39mseq_len\u001b[39m-\u001b[39m\u001b[39m1\u001b[39m, \u001b[39mlen\u001b[39m(sequences), \u001b[39mself\u001b[39m\u001b[39m.\u001b[39mn_hidden)[\u001b[39m-\u001b[39m\u001b[39m1\u001b[39m]\n\u001b[1;32m     28\u001b[0m     y_pred \u001b[39m=\u001b[39m \u001b[39mself\u001b[39m\u001b[39m.\u001b[39mlinear(last_time_step)\n",
      "\u001b[0;31mRuntimeError\u001b[0m: shape '[1, 19, -1]' is invalid for input of size 3233999"
     ]
    }
   ],
   "source": [
    "epochs = 10\n",
    "pbar = tqdm(range(epochs))\n",
    "total_loss = []\n",
    "total_val_loss = []\n",
    "for epoch in pbar:\n",
    "        loss_list = []\n",
    "        val_loss_list = []\n",
    "        loss = training(epoch, model, train_dataloader)\n",
    "        valid_loss = testing(epoch, model, test_dataloader)\n",
    "        loss_list.append(loss)\n",
    "        val_loss_list.append(valid_loss)\n",
    "        print(f'Epoch{str(epoch).zfill(3)}\\t\\t loss : {round((np.mean(loss_list)), 3)}, valid loss : {round(np.mean(val_loss_list), 3)}')"
   ]
  },
  {
   "cell_type": "code",
   "execution_count": 28,
   "metadata": {},
   "outputs": [],
   "source": []
  },
  {
   "cell_type": "code",
   "execution_count": 41,
   "metadata": {},
   "outputs": [
    {
     "data": {
      "text/plain": [
       "<__main__.CustomDataset at 0x29359c940>"
      ]
     },
     "execution_count": 41,
     "metadata": {},
     "output_type": "execute_result"
    }
   ],
   "source": [
    "train_dataset"
   ]
  },
  {
   "cell_type": "code",
   "execution_count": 8,
   "metadata": {},
   "outputs": [],
   "source": [
    "# 검증할 때 렉 현상에 관해서\n",
    "def generate_time_lags(df, n_lags):\n",
    "    df_n = df.copy()\n",
    "    for n in range(1, n_lags + 1):\n",
    "        df_n[f\"lag{n}\"] = df_n[\"value\"].shift(n)\n",
    "    df_n = df_n.iloc[n_lags:]\n",
    "    return df_n"
   ]
  },
  {
   "cell_type": "code",
   "execution_count": 9,
   "metadata": {},
   "outputs": [],
   "source": [
    "from sklearn.preprocessing import MinMaxScaler, StandardScaler, MaxAbsScaler, RobustScaler\n",
    "\n",
    "def get_scaler(scaler):\n",
    "    scalers = {\n",
    "        \"minmax\": MinMaxScaler,\n",
    "        \"standard\": StandardScaler,\n",
    "        \"maxabs\": MaxAbsScaler,\n",
    "        \"robust\": RobustScaler,\n",
    "    }\n",
    "    return scalers.get(scaler.lower())()\n",
    "    \n",
    "scaler = get_scaler('robust')"
   ]
  }
 ],
 "metadata": {
  "kernelspec": {
   "display_name": "Python 3.8.13 64-bit ('dl_env')",
   "language": "python",
   "name": "python3"
  },
  "language_info": {
   "codemirror_mode": {
    "name": "ipython",
    "version": 3
   },
   "file_extension": ".py",
   "mimetype": "text/x-python",
   "name": "python",
   "nbconvert_exporter": "python",
   "pygments_lexer": "ipython3",
   "version": "3.8.13"
  },
  "orig_nbformat": 4,
  "vscode": {
   "interpreter": {
    "hash": "3b7f90f3ffd1b2a60fee91aee39c73355e94a75c9e00035a66944cc7ed4c1221"
   }
  }
 },
 "nbformat": 4,
 "nbformat_minor": 2
}
