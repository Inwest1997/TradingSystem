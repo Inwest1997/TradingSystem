{
 "cells": [
  {
   "cell_type": "code",
   "execution_count": 1,
   "metadata": {},
   "outputs": [],
   "source": [
    "from src.data_loader import *"
   ]
  },
  {
   "cell_type": "code",
   "execution_count": 2,
   "metadata": {},
   "outputs": [
    {
     "name": "stderr",
     "output_type": "stream",
     "text": [
      "100%|██████████| 4440/4440 [1:06:10<00:00,  1.12it/s]\n"
     ]
    },
    {
     "name": "stdout",
     "output_type": "stream",
     "text": [
      "DB 연동 성공\n",
      "DB 저장 완료\n"
     ]
    }
   ],
   "source": [
    "daily_csv = DataGenerator('csv', db_info = info, interval = 'day')\n",
    "daily_csv.stock_data_generator(all = True)\n",
    "daily_csv.creat_table(exist = 'replace')\n",
    "daily_csv.new.to_csv('./Dataset/daily_stock.csv')"
   ]
  },
  {
   "cell_type": "code",
   "execution_count": 3,
   "metadata": {},
   "outputs": [
    {
     "name": "stderr",
     "output_type": "stream",
     "text": [
      "100%|██████████| 4440/4440 [24:17<00:00,  3.05it/s]\n"
     ]
    },
    {
     "ename": "ValueError",
     "evalue": "No objects to concatenate",
     "output_type": "error",
     "traceback": [
      "\u001b[0;31m---------------------------------------------------------------------------\u001b[0m",
      "\u001b[0;31mValueError\u001b[0m                                Traceback (most recent call last)",
      "Cell \u001b[0;32mIn [3], line 2\u001b[0m\n\u001b[1;32m      1\u001b[0m min_csv \u001b[39m=\u001b[39m DataGenerator(\u001b[39m'\u001b[39m\u001b[39mcsv\u001b[39m\u001b[39m'\u001b[39m, db_info \u001b[39m=\u001b[39m info, interval \u001b[39m=\u001b[39m \u001b[39m'\u001b[39m\u001b[39mmin\u001b[39m\u001b[39m'\u001b[39m)\n\u001b[0;32m----> 2\u001b[0m min_csv\u001b[39m.\u001b[39;49mstock_data_generator(\u001b[39mall\u001b[39;49m \u001b[39m=\u001b[39;49m \u001b[39mTrue\u001b[39;49;00m)\n\u001b[1;32m      3\u001b[0m min_csv\u001b[39m.\u001b[39mcreat_table(exist \u001b[39m=\u001b[39m \u001b[39m'\u001b[39m\u001b[39mreplace\u001b[39m\u001b[39m'\u001b[39m)\n\u001b[1;32m      4\u001b[0m min_csv\u001b[39m.\u001b[39mnew\u001b[39m.\u001b[39mto_csv(\u001b[39m'\u001b[39m\u001b[39m./Dataset/tick_stock.csv\u001b[39m\u001b[39m'\u001b[39m)\n",
      "File \u001b[0;32m~/Documents/vs_workspace/fintech/TradingSystem/src/data_loader.py:98\u001b[0m, in \u001b[0;36mDataGenerator.stock_data_generator\u001b[0;34m(self, error_list, stock_list, all)\u001b[0m\n\u001b[1;32m     96\u001b[0m         \u001b[39mprint\u001b[39m(\u001b[39m'\u001b[39m\u001b[39mERROR!\u001b[39m\u001b[39m'\u001b[39m)\n\u001b[1;32m     97\u001b[0m         \u001b[39mcontinue\u001b[39;00m\n\u001b[0;32m---> 98\u001b[0m \u001b[39mself\u001b[39m\u001b[39m.\u001b[39mnew \u001b[39m=\u001b[39m pd\u001b[39m.\u001b[39;49mconcat(total_df_list)\n\u001b[1;32m     99\u001b[0m \u001b[39mif\u001b[39;00m error_list \u001b[39m==\u001b[39m \u001b[39mTrue\u001b[39;00m:\n\u001b[1;32m    100\u001b[0m     \u001b[39mreturn\u001b[39;00m error_stock\n",
      "File \u001b[0;32m~/opt/anaconda3/envs/dl_env/lib/python3.8/site-packages/pandas/util/_decorators.py:311\u001b[0m, in \u001b[0;36mdeprecate_nonkeyword_arguments.<locals>.decorate.<locals>.wrapper\u001b[0;34m(*args, **kwargs)\u001b[0m\n\u001b[1;32m    305\u001b[0m \u001b[39mif\u001b[39;00m \u001b[39mlen\u001b[39m(args) \u001b[39m>\u001b[39m num_allow_args:\n\u001b[1;32m    306\u001b[0m     warnings\u001b[39m.\u001b[39mwarn(\n\u001b[1;32m    307\u001b[0m         msg\u001b[39m.\u001b[39mformat(arguments\u001b[39m=\u001b[39marguments),\n\u001b[1;32m    308\u001b[0m         \u001b[39mFutureWarning\u001b[39;00m,\n\u001b[1;32m    309\u001b[0m         stacklevel\u001b[39m=\u001b[39mstacklevel,\n\u001b[1;32m    310\u001b[0m     )\n\u001b[0;32m--> 311\u001b[0m \u001b[39mreturn\u001b[39;00m func(\u001b[39m*\u001b[39;49margs, \u001b[39m*\u001b[39;49m\u001b[39m*\u001b[39;49mkwargs)\n",
      "File \u001b[0;32m~/opt/anaconda3/envs/dl_env/lib/python3.8/site-packages/pandas/core/reshape/concat.py:347\u001b[0m, in \u001b[0;36mconcat\u001b[0;34m(objs, axis, join, ignore_index, keys, levels, names, verify_integrity, sort, copy)\u001b[0m\n\u001b[1;32m    143\u001b[0m \u001b[39m@deprecate_nonkeyword_arguments\u001b[39m(version\u001b[39m=\u001b[39m\u001b[39mNone\u001b[39;00m, allowed_args\u001b[39m=\u001b[39m[\u001b[39m\"\u001b[39m\u001b[39mobjs\u001b[39m\u001b[39m\"\u001b[39m])\n\u001b[1;32m    144\u001b[0m \u001b[39mdef\u001b[39;00m \u001b[39mconcat\u001b[39m(\n\u001b[1;32m    145\u001b[0m     objs: Iterable[NDFrame] \u001b[39m|\u001b[39m Mapping[Hashable, NDFrame],\n\u001b[0;32m   (...)\u001b[0m\n\u001b[1;32m    154\u001b[0m     copy: \u001b[39mbool\u001b[39m \u001b[39m=\u001b[39m \u001b[39mTrue\u001b[39;00m,\n\u001b[1;32m    155\u001b[0m ) \u001b[39m-\u001b[39m\u001b[39m>\u001b[39m DataFrame \u001b[39m|\u001b[39m Series:\n\u001b[1;32m    156\u001b[0m     \u001b[39m\"\"\"\u001b[39;00m\n\u001b[1;32m    157\u001b[0m \u001b[39m    Concatenate pandas objects along a particular axis with optional set logic\u001b[39;00m\n\u001b[1;32m    158\u001b[0m \u001b[39m    along the other axes.\u001b[39;00m\n\u001b[0;32m   (...)\u001b[0m\n\u001b[1;32m    345\u001b[0m \u001b[39m    ValueError: Indexes have overlapping values: ['a']\u001b[39;00m\n\u001b[1;32m    346\u001b[0m \u001b[39m    \"\"\"\u001b[39;00m\n\u001b[0;32m--> 347\u001b[0m     op \u001b[39m=\u001b[39m _Concatenator(\n\u001b[1;32m    348\u001b[0m         objs,\n\u001b[1;32m    349\u001b[0m         axis\u001b[39m=\u001b[39;49maxis,\n\u001b[1;32m    350\u001b[0m         ignore_index\u001b[39m=\u001b[39;49mignore_index,\n\u001b[1;32m    351\u001b[0m         join\u001b[39m=\u001b[39;49mjoin,\n\u001b[1;32m    352\u001b[0m         keys\u001b[39m=\u001b[39;49mkeys,\n\u001b[1;32m    353\u001b[0m         levels\u001b[39m=\u001b[39;49mlevels,\n\u001b[1;32m    354\u001b[0m         names\u001b[39m=\u001b[39;49mnames,\n\u001b[1;32m    355\u001b[0m         verify_integrity\u001b[39m=\u001b[39;49mverify_integrity,\n\u001b[1;32m    356\u001b[0m         copy\u001b[39m=\u001b[39;49mcopy,\n\u001b[1;32m    357\u001b[0m         sort\u001b[39m=\u001b[39;49msort,\n\u001b[1;32m    358\u001b[0m     )\n\u001b[1;32m    360\u001b[0m     \u001b[39mreturn\u001b[39;00m op\u001b[39m.\u001b[39mget_result()\n",
      "File \u001b[0;32m~/opt/anaconda3/envs/dl_env/lib/python3.8/site-packages/pandas/core/reshape/concat.py:404\u001b[0m, in \u001b[0;36m_Concatenator.__init__\u001b[0;34m(self, objs, axis, join, keys, levels, names, ignore_index, verify_integrity, copy, sort)\u001b[0m\n\u001b[1;32m    401\u001b[0m     objs \u001b[39m=\u001b[39m \u001b[39mlist\u001b[39m(objs)\n\u001b[1;32m    403\u001b[0m \u001b[39mif\u001b[39;00m \u001b[39mlen\u001b[39m(objs) \u001b[39m==\u001b[39m \u001b[39m0\u001b[39m:\n\u001b[0;32m--> 404\u001b[0m     \u001b[39mraise\u001b[39;00m \u001b[39mValueError\u001b[39;00m(\u001b[39m\"\u001b[39m\u001b[39mNo objects to concatenate\u001b[39m\u001b[39m\"\u001b[39m)\n\u001b[1;32m    406\u001b[0m \u001b[39mif\u001b[39;00m keys \u001b[39mis\u001b[39;00m \u001b[39mNone\u001b[39;00m:\n\u001b[1;32m    407\u001b[0m     objs \u001b[39m=\u001b[39m \u001b[39mlist\u001b[39m(com\u001b[39m.\u001b[39mnot_none(\u001b[39m*\u001b[39mobjs))\n",
      "\u001b[0;31mValueError\u001b[0m: No objects to concatenate"
     ]
    }
   ],
   "source": [
    "min_csv = DataGenerator('csv', db_info = info, interval = 'min')\n",
    "min_csv.stock_data_generator(all = True)\n",
    "min_csv.creat_table(exist = 'replace')\n",
    "min_csv.new.to_csv('./Dataset/tick_stock.csv')"
   ]
  },
  {
   "cell_type": "code",
   "execution_count": 6,
   "metadata": {},
   "outputs": [
    {
     "data": {
      "text/html": [
       "<div>\n",
       "<style scoped>\n",
       "    .dataframe tbody tr th:only-of-type {\n",
       "        vertical-align: middle;\n",
       "    }\n",
       "\n",
       "    .dataframe tbody tr th {\n",
       "        vertical-align: top;\n",
       "    }\n",
       "\n",
       "    .dataframe thead th {\n",
       "        text-align: right;\n",
       "    }\n",
       "</style>\n",
       "<table border=\"1\" class=\"dataframe\">\n",
       "  <thead>\n",
       "    <tr style=\"text-align: right;\">\n",
       "      <th></th>\n",
       "      <th>Datetime</th>\n",
       "      <th>Open</th>\n",
       "      <th>High</th>\n",
       "      <th>Low</th>\n",
       "      <th>Close</th>\n",
       "      <th>Adj Close</th>\n",
       "      <th>Volume</th>\n",
       "      <th>Ticker</th>\n",
       "    </tr>\n",
       "  </thead>\n",
       "  <tbody>\n",
       "    <tr>\n",
       "      <th>0</th>\n",
       "      <td>2008-01-29</td>\n",
       "      <td>9.50</td>\n",
       "      <td>9.99</td>\n",
       "      <td>8.57</td>\n",
       "      <td>8.75</td>\n",
       "      <td>0.702589</td>\n",
       "      <td>1489000</td>\n",
       "      <td>AACG</td>\n",
       "    </tr>\n",
       "    <tr>\n",
       "      <th>1</th>\n",
       "      <td>2008-01-30</td>\n",
       "      <td>8.75</td>\n",
       "      <td>9.15</td>\n",
       "      <td>8.30</td>\n",
       "      <td>8.50</td>\n",
       "      <td>0.682515</td>\n",
       "      <td>219000</td>\n",
       "      <td>AACG</td>\n",
       "    </tr>\n",
       "    <tr>\n",
       "      <th>2</th>\n",
       "      <td>2008-01-31</td>\n",
       "      <td>8.49</td>\n",
       "      <td>10.30</td>\n",
       "      <td>8.49</td>\n",
       "      <td>9.55</td>\n",
       "      <td>0.766826</td>\n",
       "      <td>182300</td>\n",
       "      <td>AACG</td>\n",
       "    </tr>\n",
       "    <tr>\n",
       "      <th>3</th>\n",
       "      <td>2008-02-01</td>\n",
       "      <td>9.93</td>\n",
       "      <td>9.94</td>\n",
       "      <td>9.50</td>\n",
       "      <td>9.51</td>\n",
       "      <td>0.763614</td>\n",
       "      <td>28200</td>\n",
       "      <td>AACG</td>\n",
       "    </tr>\n",
       "    <tr>\n",
       "      <th>4</th>\n",
       "      <td>2008-02-04</td>\n",
       "      <td>9.50</td>\n",
       "      <td>9.71</td>\n",
       "      <td>9.50</td>\n",
       "      <td>9.50</td>\n",
       "      <td>0.762811</td>\n",
       "      <td>8300</td>\n",
       "      <td>AACG</td>\n",
       "    </tr>\n",
       "    <tr>\n",
       "      <th>...</th>\n",
       "      <td>...</td>\n",
       "      <td>...</td>\n",
       "      <td>...</td>\n",
       "      <td>...</td>\n",
       "      <td>...</td>\n",
       "      <td>...</td>\n",
       "      <td>...</td>\n",
       "      <td>...</td>\n",
       "    </tr>\n",
       "    <tr>\n",
       "      <th>6913</th>\n",
       "      <td>2022-10-19</td>\n",
       "      <td>4.23</td>\n",
       "      <td>4.35</td>\n",
       "      <td>4.23</td>\n",
       "      <td>4.29</td>\n",
       "      <td>4.290000</td>\n",
       "      <td>7500</td>\n",
       "      <td>AATC</td>\n",
       "    </tr>\n",
       "    <tr>\n",
       "      <th>6914</th>\n",
       "      <td>2022-10-20</td>\n",
       "      <td>4.30</td>\n",
       "      <td>4.39</td>\n",
       "      <td>4.27</td>\n",
       "      <td>4.35</td>\n",
       "      <td>4.350000</td>\n",
       "      <td>3800</td>\n",
       "      <td>AATC</td>\n",
       "    </tr>\n",
       "    <tr>\n",
       "      <th>6915</th>\n",
       "      <td>2022-10-21</td>\n",
       "      <td>4.40</td>\n",
       "      <td>4.40</td>\n",
       "      <td>4.36</td>\n",
       "      <td>4.36</td>\n",
       "      <td>4.360000</td>\n",
       "      <td>6800</td>\n",
       "      <td>AATC</td>\n",
       "    </tr>\n",
       "    <tr>\n",
       "      <th>6916</th>\n",
       "      <td>2022-10-24</td>\n",
       "      <td>4.39</td>\n",
       "      <td>4.40</td>\n",
       "      <td>4.35</td>\n",
       "      <td>4.35</td>\n",
       "      <td>4.350000</td>\n",
       "      <td>2700</td>\n",
       "      <td>AATC</td>\n",
       "    </tr>\n",
       "    <tr>\n",
       "      <th>6917</th>\n",
       "      <td>2022-10-25</td>\n",
       "      <td>4.39</td>\n",
       "      <td>4.36</td>\n",
       "      <td>4.36</td>\n",
       "      <td>4.36</td>\n",
       "      <td>4.360000</td>\n",
       "      <td>36</td>\n",
       "      <td>AATC</td>\n",
       "    </tr>\n",
       "  </tbody>\n",
       "</table>\n",
       "<p>41524 rows × 8 columns</p>\n",
       "</div>"
      ],
      "text/plain": [
       "       Datetime  Open   High   Low  Close  Adj Close   Volume Ticker\n",
       "0    2008-01-29  9.50   9.99  8.57   8.75   0.702589  1489000   AACG\n",
       "1    2008-01-30  8.75   9.15  8.30   8.50   0.682515   219000   AACG\n",
       "2    2008-01-31  8.49  10.30  8.49   9.55   0.766826   182300   AACG\n",
       "3    2008-02-01  9.93   9.94  9.50   9.51   0.763614    28200   AACG\n",
       "4    2008-02-04  9.50   9.71  9.50   9.50   0.762811     8300   AACG\n",
       "...         ...   ...    ...   ...    ...        ...      ...    ...\n",
       "6913 2022-10-19  4.23   4.35  4.23   4.29   4.290000     7500   AATC\n",
       "6914 2022-10-20  4.30   4.39  4.27   4.35   4.350000     3800   AATC\n",
       "6915 2022-10-21  4.40   4.40  4.36   4.36   4.360000     6800   AATC\n",
       "6916 2022-10-24  4.39   4.40  4.35   4.35   4.350000     2700   AATC\n",
       "6917 2022-10-25  4.39   4.36  4.36   4.36   4.360000       36   AATC\n",
       "\n",
       "[41524 rows x 8 columns]"
      ]
     },
     "execution_count": 6,
     "metadata": {},
     "output_type": "execute_result"
    }
   ],
   "source": []
  },
  {
   "cell_type": "code",
   "execution_count": null,
   "metadata": {},
   "outputs": [],
   "source": []
  }
 ],
 "metadata": {
  "kernelspec": {
   "display_name": "Python 3.8.13 64-bit ('dl_env')",
   "language": "python",
   "name": "python3"
  },
  "language_info": {
   "codemirror_mode": {
    "name": "ipython",
    "version": 3
   },
   "file_extension": ".py",
   "mimetype": "text/x-python",
   "name": "python",
   "nbconvert_exporter": "python",
   "pygments_lexer": "ipython3",
   "version": "3.8.13"
  },
  "orig_nbformat": 4,
  "vscode": {
   "interpreter": {
    "hash": "3b7f90f3ffd1b2a60fee91aee39c73355e94a75c9e00035a66944cc7ed4c1221"
   }
  }
 },
 "nbformat": 4,
 "nbformat_minor": 2
}
