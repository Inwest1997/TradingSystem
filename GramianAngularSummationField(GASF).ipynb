{
 "cells": [
  {
   "cell_type": "code",
   "execution_count": 1,
   "metadata": {},
   "outputs": [
    {
     "name": "stderr",
     "output_type": "stream",
     "text": [
      "/Users/junginseo/opt/anaconda3/envs/dl_env/lib/python3.8/site-packages/scipy/__init__.py:146: UserWarning: A NumPy version >=1.16.5 and <1.23.0 is required for this version of SciPy (detected version 1.23.4\n",
      "  warnings.warn(f\"A NumPy version >={np_minversion} and <{np_maxversion}\"\n"
     ]
    }
   ],
   "source": [
    "import os\n",
    "import pandas as pd\n",
    "import numpy as np\n",
    "import matplotlib.pyplot as plt\n",
    "from pyts.image import GramianAngularField\n",
    "\n",
    "from src.data_loader import *"
   ]
  },
  {
   "cell_type": "code",
   "execution_count": 2,
   "metadata": {},
   "outputs": [
    {
     "name": "stdout",
     "output_type": "stream",
     "text": [
      "기존 데이터 불러오기 성공\n"
     ]
    }
   ],
   "source": [
    "df = DataGenerator(data_type = 'db').data_search(ticker = 'AAPL')\n",
    "df.sort_index(inplace=True)"
   ]
  },
  {
   "cell_type": "code",
   "execution_count": 3,
   "metadata": {},
   "outputs": [
    {
     "data": {
      "text/html": [
       "<div>\n",
       "<style scoped>\n",
       "    .dataframe tbody tr th:only-of-type {\n",
       "        vertical-align: middle;\n",
       "    }\n",
       "\n",
       "    .dataframe tbody tr th {\n",
       "        vertical-align: top;\n",
       "    }\n",
       "\n",
       "    .dataframe thead th {\n",
       "        text-align: right;\n",
       "    }\n",
       "</style>\n",
       "<table border=\"1\" class=\"dataframe\">\n",
       "  <thead>\n",
       "    <tr style=\"text-align: right;\">\n",
       "      <th></th>\n",
       "      <th>Open</th>\n",
       "      <th>High</th>\n",
       "      <th>Low</th>\n",
       "      <th>Close</th>\n",
       "      <th>Adj Close</th>\n",
       "      <th>Volume</th>\n",
       "    </tr>\n",
       "    <tr>\n",
       "      <th>Datetime</th>\n",
       "      <th></th>\n",
       "      <th></th>\n",
       "      <th></th>\n",
       "      <th></th>\n",
       "      <th></th>\n",
       "      <th></th>\n",
       "    </tr>\n",
       "  </thead>\n",
       "  <tbody>\n",
       "    <tr>\n",
       "      <th>1992-12-11</th>\n",
       "      <td>0.511161</td>\n",
       "      <td>0.520089</td>\n",
       "      <td>0.511161</td>\n",
       "      <td>0.513393</td>\n",
       "      <td>0.422182</td>\n",
       "      <td>120187200.0</td>\n",
       "    </tr>\n",
       "    <tr>\n",
       "      <th>1992-12-14</th>\n",
       "      <td>0.513393</td>\n",
       "      <td>0.515625</td>\n",
       "      <td>0.506696</td>\n",
       "      <td>0.511161</td>\n",
       "      <td>0.420346</td>\n",
       "      <td>110510400.0</td>\n",
       "    </tr>\n",
       "    <tr>\n",
       "      <th>1992-12-15</th>\n",
       "      <td>0.506696</td>\n",
       "      <td>0.508929</td>\n",
       "      <td>0.495536</td>\n",
       "      <td>0.503348</td>\n",
       "      <td>0.413921</td>\n",
       "      <td>182537600.0</td>\n",
       "    </tr>\n",
       "    <tr>\n",
       "      <th>1992-12-16</th>\n",
       "      <td>0.502232</td>\n",
       "      <td>0.508929</td>\n",
       "      <td>0.486607</td>\n",
       "      <td>0.491071</td>\n",
       "      <td>0.403825</td>\n",
       "      <td>225926400.0</td>\n",
       "    </tr>\n",
       "    <tr>\n",
       "      <th>1992-12-17</th>\n",
       "      <td>0.493304</td>\n",
       "      <td>0.513393</td>\n",
       "      <td>0.493304</td>\n",
       "      <td>0.507813</td>\n",
       "      <td>0.417593</td>\n",
       "      <td>233867200.0</td>\n",
       "    </tr>\n",
       "    <tr>\n",
       "      <th>...</th>\n",
       "      <td>...</td>\n",
       "      <td>...</td>\n",
       "      <td>...</td>\n",
       "      <td>...</td>\n",
       "      <td>...</td>\n",
       "      <td>...</td>\n",
       "    </tr>\n",
       "    <tr>\n",
       "      <th>2022-10-28</th>\n",
       "      <td>148.199997</td>\n",
       "      <td>157.500000</td>\n",
       "      <td>147.820007</td>\n",
       "      <td>155.740005</td>\n",
       "      <td>155.740005</td>\n",
       "      <td>164762400.0</td>\n",
       "    </tr>\n",
       "    <tr>\n",
       "      <th>2022-10-31</th>\n",
       "      <td>153.160004</td>\n",
       "      <td>154.240005</td>\n",
       "      <td>151.919998</td>\n",
       "      <td>153.339996</td>\n",
       "      <td>153.339996</td>\n",
       "      <td>97943200.0</td>\n",
       "    </tr>\n",
       "    <tr>\n",
       "      <th>2022-11-01</th>\n",
       "      <td>155.080002</td>\n",
       "      <td>155.449997</td>\n",
       "      <td>149.130005</td>\n",
       "      <td>150.649994</td>\n",
       "      <td>150.649994</td>\n",
       "      <td>80379300.0</td>\n",
       "    </tr>\n",
       "    <tr>\n",
       "      <th>2022-11-02</th>\n",
       "      <td>148.949997</td>\n",
       "      <td>152.169998</td>\n",
       "      <td>145.000000</td>\n",
       "      <td>145.029999</td>\n",
       "      <td>145.029999</td>\n",
       "      <td>93604600.0</td>\n",
       "    </tr>\n",
       "    <tr>\n",
       "      <th>2022-11-03</th>\n",
       "      <td>142.059998</td>\n",
       "      <td>142.800003</td>\n",
       "      <td>138.750000</td>\n",
       "      <td>138.880005</td>\n",
       "      <td>138.880005</td>\n",
       "      <td>97572100.0</td>\n",
       "    </tr>\n",
       "  </tbody>\n",
       "</table>\n",
       "<p>7530 rows × 6 columns</p>\n",
       "</div>"
      ],
      "text/plain": [
       "                  Open        High         Low       Close   Adj Close  \\\n",
       "Datetime                                                                 \n",
       "1992-12-11    0.511161    0.520089    0.511161    0.513393    0.422182   \n",
       "1992-12-14    0.513393    0.515625    0.506696    0.511161    0.420346   \n",
       "1992-12-15    0.506696    0.508929    0.495536    0.503348    0.413921   \n",
       "1992-12-16    0.502232    0.508929    0.486607    0.491071    0.403825   \n",
       "1992-12-17    0.493304    0.513393    0.493304    0.507813    0.417593   \n",
       "...                ...         ...         ...         ...         ...   \n",
       "2022-10-28  148.199997  157.500000  147.820007  155.740005  155.740005   \n",
       "2022-10-31  153.160004  154.240005  151.919998  153.339996  153.339996   \n",
       "2022-11-01  155.080002  155.449997  149.130005  150.649994  150.649994   \n",
       "2022-11-02  148.949997  152.169998  145.000000  145.029999  145.029999   \n",
       "2022-11-03  142.059998  142.800003  138.750000  138.880005  138.880005   \n",
       "\n",
       "                 Volume  \n",
       "Datetime                 \n",
       "1992-12-11  120187200.0  \n",
       "1992-12-14  110510400.0  \n",
       "1992-12-15  182537600.0  \n",
       "1992-12-16  225926400.0  \n",
       "1992-12-17  233867200.0  \n",
       "...                 ...  \n",
       "2022-10-28  164762400.0  \n",
       "2022-10-31   97943200.0  \n",
       "2022-11-01   80379300.0  \n",
       "2022-11-02   93604600.0  \n",
       "2022-11-03   97572100.0  \n",
       "\n",
       "[7530 rows x 6 columns]"
      ]
     },
     "execution_count": 3,
     "metadata": {},
     "output_type": "execute_result"
    }
   ],
   "source": [
    "df"
   ]
  },
  {
   "cell_type": "code",
   "execution_count": 4,
   "metadata": {},
   "outputs": [],
   "source": [
    "df['position'] = [-1 if df.shift(-1)['Adj Close'].iloc[i]< df['Adj Close'].iloc[i] and df.shift(1)['Adj Close'].iloc[i]< df['Adj Close'].iloc[i] \n",
    "              else 1 if df.shift(-1)['Adj Close'].iloc[i]> df['Adj Close'].iloc[i] and df.shift(1)['Adj Close'].iloc[i]> df['Adj Close'].iloc[i] \n",
    "              else 0 for i in range(len(df))]"
   ]
  },
  {
   "cell_type": "code",
   "execution_count": 5,
   "metadata": {},
   "outputs": [
    {
     "data": {
      "text/plain": [
       "Datetime\n",
       "1992-12-11          NaN\n",
       "1992-12-14    -0.001835\n",
       "1992-12-15    -0.006425\n",
       "1992-12-16    -0.010096\n",
       "1992-12-17     0.013768\n",
       "                ...    \n",
       "2022-10-28    10.940002\n",
       "2022-10-31    -2.400009\n",
       "2022-11-01    -2.690002\n",
       "2022-11-02    -5.619995\n",
       "2022-11-03    -6.149994\n",
       "Name: Adj Close, Length: 7530, dtype: float64"
      ]
     },
     "execution_count": 5,
     "metadata": {},
     "output_type": "execute_result"
    }
   ],
   "source": [
    "df['Adj Close'].diff()"
   ]
  },
  {
   "cell_type": "code",
   "execution_count": 6,
   "metadata": {},
   "outputs": [],
   "source": [
    "df['trend'] = [1 if df['Adj Close'].diff().iloc[i] > 0 else 0 for i in range(len(df))]"
   ]
  },
  {
   "cell_type": "code",
   "execution_count": 7,
   "metadata": {},
   "outputs": [
    {
     "data": {
      "text/plain": [
       "1    3832\n",
       "0    3698\n",
       "Name: trend, dtype: int64"
      ]
     },
     "execution_count": 7,
     "metadata": {},
     "output_type": "execute_result"
    }
   ],
   "source": [
    "df['trend'].value_counts()"
   ]
  },
  {
   "cell_type": "code",
   "execution_count": 8,
   "metadata": {},
   "outputs": [
    {
     "data": {
      "text/plain": [
       "Text(0.5, 1.0, 'Price')"
      ]
     },
     "execution_count": 8,
     "metadata": {},
     "output_type": "execute_result"
    },
    {
     "data": {
      "image/png": "[encoded data removed]",
      "text/plain": [
       "<Figure size 1500x800 with 1 Axes>"
      ]
     },
     "metadata": {},
     "output_type": "display_data"
    }
   ],
   "source": [
    "dummy_df = df.iloc[-50:]\n",
    "# 그림 사이즈 설정\n",
    "plt.figure(figsize=( 15,8))\n",
    "\n",
    "# 종가 기준으로 차트를 그림\n",
    "dummy_df['Adj Close'].plot(grid=True)\n",
    "\n",
    "# position이 1 인경우 초록색으로 해당 종가에 표시\n",
    "plt.scatter(dummy_df.loc[df.position == 1].index, dummy_df['Adj Close'][dummy_df.position == 1],\n",
    "            color='green', \n",
    "            label='Buy', \n",
    "            marker = '^', \n",
    "            alpha=1)\n",
    "\n",
    "# position이 -1 인경우 빨간색으로 해당 종가에 표시\n",
    "plt.scatter(dummy_df.loc[dummy_df.position == -1].index, dummy_df['Adj Close'][dummy_df.position == -1],\n",
    "            color='red', \n",
    "            label='Sell', \n",
    "            marker = '^', \n",
    "            alpha=1)\n",
    "\n",
    "# # trend이 1 인경우 초록색으로 해당 종가에 표시\n",
    "# plt.scatter(dummy_df.loc[df.trend == 1].index, dummy_df['Adj Close'][dummy_df.trend == 1],\n",
    "#             color='pink', \n",
    "#             label='up', \n",
    "#             marker = 'o', \n",
    "#             alpha=0.5)\n",
    "\n",
    "# # position이 -1 인경우 빨간색으로 해당 종가에 표시\n",
    "# plt.scatter(dummy_df.loc[dummy_df.trend == 0].index, dummy_df['Adj Close'][dummy_df.trend == 0],\n",
    "#             color='blue', \n",
    "#             label='down', \n",
    "#             marker = 'o', \n",
    "#             alpha=0.5)\n",
    "\n",
    "\n",
    "plt.ylabel('Price ($)')\n",
    "plt.xlabel('Date')\n",
    "plt.title('Price')"
   ]
  },
  {
   "cell_type": "code",
   "execution_count": 9,
   "metadata": {},
   "outputs": [],
   "source": [
    "from src import candlestick2img\n",
    "\n"
   ]
  },
  {
   "cell_type": "code",
   "execution_count": 10,
   "metadata": {},
   "outputs": [
    {
     "name": "stdout",
     "output_type": "stream",
     "text": [
      "기존 데이터 불러오기 성공\n"
     ]
    }
   ],
   "source": [
    "aapl = DataGenerator('db').data_search('AAPL')\n",
    "aapl.sort_index(inplace=True)"
   ]
  },
  {
   "cell_type": "code",
   "execution_count": 11,
   "metadata": {},
   "outputs": [
    {
     "name": "stderr",
     "output_type": "stream",
     "text": [
      "100%|██████████| 7529/7529 [00:02<00:00, 2838.65it/s]\n"
     ]
    },
    {
     "name": "stdout",
     "output_type": "stream",
     "text": [
      "[ Info ] : detecting evening star\n"
     ]
    },
    {
     "name": "stderr",
     "output_type": "stream",
     "text": [
      "100%|██████████| 134/134 [00:00<00:00, 15186.08it/s]\n"
     ]
    },
    {
     "name": "stdout",
     "output_type": "stream",
     "text": [
      "[ Info ] : detecting morning star\n"
     ]
    },
    {
     "name": "stderr",
     "output_type": "stream",
     "text": [
      "100%|█████████▉| 3226/3227 [00:00<00:00, 16064.86it/s]\n"
     ]
    },
    {
     "name": "stdout",
     "output_type": "stream",
     "text": [
      "[ Info ] : detecting shooting star\n"
     ]
    },
    {
     "name": "stderr",
     "output_type": "stream",
     "text": [
      "100%|██████████| 134/134 [00:00<00:00, 18434.08it/s]\n"
     ]
    },
    {
     "name": "stdout",
     "output_type": "stream",
     "text": [
      "[ Info ] : detecting hanging man\n"
     ]
    },
    {
     "name": "stderr",
     "output_type": "stream",
     "text": [
      "100%|██████████| 134/134 [00:00<00:00, 33827.07it/s]\n"
     ]
    },
    {
     "name": "stdout",
     "output_type": "stream",
     "text": [
      "[ Info ] : detecting bullish engulfing\n"
     ]
    },
    {
     "name": "stderr",
     "output_type": "stream",
     "text": [
      "100%|█████████▉| 3226/3227 [00:00<00:00, 26623.11it/s]\n"
     ]
    },
    {
     "name": "stdout",
     "output_type": "stream",
     "text": [
      "[ Info ] : detecting bearish engulfing\n"
     ]
    },
    {
     "name": "stderr",
     "output_type": "stream",
     "text": [
      "100%|██████████| 134/134 [00:00<00:00, 27640.24it/s]\n"
     ]
    },
    {
     "name": "stdout",
     "output_type": "stream",
     "text": [
      "[ Info ] : detecting hammer\n"
     ]
    },
    {
     "name": "stderr",
     "output_type": "stream",
     "text": [
      "100%|██████████| 3227/3227 [00:00<00:00, 38254.08it/s]\n"
     ]
    },
    {
     "name": "stdout",
     "output_type": "stream",
     "text": [
      "[ Info ] : detecting inverted hammer\n"
     ]
    },
    {
     "name": "stderr",
     "output_type": "stream",
     "text": [
      "100%|█████████▉| 3226/3227 [00:00<00:00, 19350.98it/s]\n"
     ]
    },
    {
     "name": "stdout",
     "output_type": "stream",
     "text": [
      "[ Info ] : detecting bullish harami\n"
     ]
    },
    {
     "name": "stderr",
     "output_type": "stream",
     "text": [
      "100%|█████████▉| 3226/3227 [00:00<00:00, 14051.20it/s]\n"
     ]
    },
    {
     "name": "stdout",
     "output_type": "stream",
     "text": [
      "[ Info ] : detecting bearish harami\n"
     ]
    },
    {
     "name": "stderr",
     "output_type": "stream",
     "text": [
      "100%|██████████| 134/134 [00:00<00:00, 13248.08it/s]"
     ]
    },
    {
     "name": "stdout",
     "output_type": "stream",
     "text": [
      "\n",
      "[ Info ] : number of evening star is 1\n",
      "[ Info ] : number of morning star is 3\n",
      "[ Info ] : number of shooting star is 1\n",
      "[ Info ] : number of hanging man is 2\n",
      "[ Info ] : number of bullish engulfing is 2\n",
      "[ Info ] : number of bearish engulfing is 0\n",
      "[ Info ] : number of hammer is 2\n",
      "[ Info ] : number of inverted hammer is 3\n",
      "[ Info ] : number of bullish harami is 0\n",
      "[ Info ] : number of bearish harami is 2\n"
     ]
    },
    {
     "name": "stderr",
     "output_type": "stream",
     "text": [
      "\n"
     ]
    }
   ],
   "source": [
    "\n",
    "# TASLS_LS = [detect_evening_star, detect_morning_star, detect_shooting_star, \n",
    "#             detect_hanging_man, detect_bullish_engulfing, detect_bearish_engulfing,\n",
    "#             detect_hammer, detect_inverted_hammer, detect_bullish_harami,\n",
    "#             detect_bearish_harami]\n",
    "\n",
    "# load raw ohlc data\n",
    "# data = pd.read_csv('./data/eurusd_2010_2017_raw.csv')\n",
    "data = candlestick2img.rename(aapl)\n",
    "\n",
    "# calculate features & slope\n",
    "data = candlestick2img.process_data(data, slope=True)\n",
    "\n",
    "# calculate trend (depend on slopes)\n",
    "data = candlestick2img.process_data(data, slope=False)\n",
    "\n",
    "# save current data\n",
    "# data.to_csv('./data/eurusd_2010_2017_process.csv', index=False)\n",
    "\n",
    "# detect with customized rules\n",
    "data = candlestick2img.detect_all(data, pro_num=4)\n",
    "# data.to_csv('./data/eurusd_2010_2017_patterns.csv', index=False)\n",
    "candlestick2img.detection_result(data)"
   ]
  },
  {
   "cell_type": "code",
   "execution_count": 18,
   "metadata": {},
   "outputs": [
    {
     "data": {
      "text/html": [
       "<div>\n",
       "<style scoped>\n",
       "    .dataframe tbody tr th:only-of-type {\n",
       "        vertical-align: middle;\n",
       "    }\n",
       "\n",
       "    .dataframe tbody tr th {\n",
       "        vertical-align: top;\n",
       "    }\n",
       "\n",
       "    .dataframe thead th {\n",
       "        text-align: right;\n",
       "    }\n",
       "</style>\n",
       "<table border=\"1\" class=\"dataframe\">\n",
       "  <thead>\n",
       "    <tr style=\"text-align: right;\">\n",
       "      <th></th>\n",
       "      <th>open</th>\n",
       "      <th>high</th>\n",
       "      <th>low</th>\n",
       "      <th>close</th>\n",
       "      <th>adj close</th>\n",
       "      <th>volume</th>\n",
       "      <th>diff</th>\n",
       "      <th>direction</th>\n",
       "      <th>ushadow_width</th>\n",
       "      <th>lshadow_width</th>\n",
       "      <th>...</th>\n",
       "      <th>evening</th>\n",
       "      <th>morning</th>\n",
       "      <th>shooting_star</th>\n",
       "      <th>hanging_man</th>\n",
       "      <th>bullish_engulfing</th>\n",
       "      <th>bearish_engulfing</th>\n",
       "      <th>hammer</th>\n",
       "      <th>inverted_hammer</th>\n",
       "      <th>bullish_harami</th>\n",
       "      <th>bearish_harami</th>\n",
       "    </tr>\n",
       "  </thead>\n",
       "  <tbody>\n",
       "    <tr>\n",
       "      <th>6</th>\n",
       "      <td>0.520089</td>\n",
       "      <td>0.535714</td>\n",
       "      <td>0.517857</td>\n",
       "      <td>0.532366</td>\n",
       "      <td>0.437784</td>\n",
       "      <td>256065600.0</td>\n",
       "      <td>-0.082305</td>\n",
       "      <td>-1.0</td>\n",
       "      <td>0.015625</td>\n",
       "      <td>0.014509</td>\n",
       "      <td>...</td>\n",
       "      <td>0</td>\n",
       "      <td>0</td>\n",
       "      <td>0</td>\n",
       "      <td>0</td>\n",
       "      <td>0</td>\n",
       "      <td>0</td>\n",
       "      <td>0</td>\n",
       "      <td>0</td>\n",
       "      <td>0</td>\n",
       "      <td>0</td>\n",
       "    </tr>\n",
       "    <tr>\n",
       "      <th>7</th>\n",
       "      <td>0.533482</td>\n",
       "      <td>0.546875</td>\n",
       "      <td>0.533482</td>\n",
       "      <td>0.541295</td>\n",
       "      <td>0.445126</td>\n",
       "      <td>280168000.0</td>\n",
       "      <td>-0.088356</td>\n",
       "      <td>-1.0</td>\n",
       "      <td>0.013393</td>\n",
       "      <td>0.007813</td>\n",
       "      <td>...</td>\n",
       "      <td>0</td>\n",
       "      <td>0</td>\n",
       "      <td>0</td>\n",
       "      <td>0</td>\n",
       "      <td>0</td>\n",
       "      <td>0</td>\n",
       "      <td>0</td>\n",
       "      <td>0</td>\n",
       "      <td>0</td>\n",
       "      <td>0</td>\n",
       "    </tr>\n",
       "    <tr>\n",
       "      <th>8</th>\n",
       "      <td>0.537946</td>\n",
       "      <td>0.540179</td>\n",
       "      <td>0.529018</td>\n",
       "      <td>0.533482</td>\n",
       "      <td>0.438701</td>\n",
       "      <td>112336000.0</td>\n",
       "      <td>-0.099245</td>\n",
       "      <td>-1.0</td>\n",
       "      <td>0.002233</td>\n",
       "      <td>0.004464</td>\n",
       "      <td>...</td>\n",
       "      <td>0</td>\n",
       "      <td>0</td>\n",
       "      <td>0</td>\n",
       "      <td>0</td>\n",
       "      <td>0</td>\n",
       "      <td>0</td>\n",
       "      <td>0</td>\n",
       "      <td>0</td>\n",
       "      <td>0</td>\n",
       "      <td>0</td>\n",
       "    </tr>\n",
       "    <tr>\n",
       "      <th>9</th>\n",
       "      <td>0.535714</td>\n",
       "      <td>0.535714</td>\n",
       "      <td>0.526786</td>\n",
       "      <td>0.526786</td>\n",
       "      <td>0.433195</td>\n",
       "      <td>45964800.0</td>\n",
       "      <td>-0.102519</td>\n",
       "      <td>-1.0</td>\n",
       "      <td>0.000000</td>\n",
       "      <td>0.000000</td>\n",
       "      <td>...</td>\n",
       "      <td>0</td>\n",
       "      <td>0</td>\n",
       "      <td>0</td>\n",
       "      <td>0</td>\n",
       "      <td>0</td>\n",
       "      <td>0</td>\n",
       "      <td>0</td>\n",
       "      <td>0</td>\n",
       "      <td>0</td>\n",
       "      <td>0</td>\n",
       "    </tr>\n",
       "    <tr>\n",
       "      <th>10</th>\n",
       "      <td>0.529018</td>\n",
       "      <td>0.533482</td>\n",
       "      <td>0.529018</td>\n",
       "      <td>0.531250</td>\n",
       "      <td>0.436866</td>\n",
       "      <td>70448000.0</td>\n",
       "      <td>-0.092152</td>\n",
       "      <td>-1.0</td>\n",
       "      <td>0.004464</td>\n",
       "      <td>0.002232</td>\n",
       "      <td>...</td>\n",
       "      <td>0</td>\n",
       "      <td>0</td>\n",
       "      <td>0</td>\n",
       "      <td>0</td>\n",
       "      <td>0</td>\n",
       "      <td>0</td>\n",
       "      <td>0</td>\n",
       "      <td>0</td>\n",
       "      <td>0</td>\n",
       "      <td>0</td>\n",
       "    </tr>\n",
       "    <tr>\n",
       "      <th>...</th>\n",
       "      <td>...</td>\n",
       "      <td>...</td>\n",
       "      <td>...</td>\n",
       "      <td>...</td>\n",
       "      <td>...</td>\n",
       "      <td>...</td>\n",
       "      <td>...</td>\n",
       "      <td>...</td>\n",
       "      <td>...</td>\n",
       "      <td>...</td>\n",
       "      <td>...</td>\n",
       "      <td>...</td>\n",
       "      <td>...</td>\n",
       "      <td>...</td>\n",
       "      <td>...</td>\n",
       "      <td>...</td>\n",
       "      <td>...</td>\n",
       "      <td>...</td>\n",
       "      <td>...</td>\n",
       "      <td>...</td>\n",
       "      <td>...</td>\n",
       "    </tr>\n",
       "    <tr>\n",
       "      <th>7524</th>\n",
       "      <td>148.199997</td>\n",
       "      <td>157.500000</td>\n",
       "      <td>147.820007</td>\n",
       "      <td>155.740005</td>\n",
       "      <td>155.740005</td>\n",
       "      <td>164762400.0</td>\n",
       "      <td>7.540009</td>\n",
       "      <td>1.0</td>\n",
       "      <td>1.759995</td>\n",
       "      <td>0.379990</td>\n",
       "      <td>...</td>\n",
       "      <td>0</td>\n",
       "      <td>0</td>\n",
       "      <td>0</td>\n",
       "      <td>0</td>\n",
       "      <td>0</td>\n",
       "      <td>0</td>\n",
       "      <td>0</td>\n",
       "      <td>0</td>\n",
       "      <td>0</td>\n",
       "      <td>0</td>\n",
       "    </tr>\n",
       "    <tr>\n",
       "      <th>7525</th>\n",
       "      <td>153.160004</td>\n",
       "      <td>154.240005</td>\n",
       "      <td>151.919998</td>\n",
       "      <td>153.339996</td>\n",
       "      <td>153.339996</td>\n",
       "      <td>97943200.0</td>\n",
       "      <td>0.179993</td>\n",
       "      <td>1.0</td>\n",
       "      <td>0.900009</td>\n",
       "      <td>1.240005</td>\n",
       "      <td>...</td>\n",
       "      <td>0</td>\n",
       "      <td>0</td>\n",
       "      <td>0</td>\n",
       "      <td>0</td>\n",
       "      <td>0</td>\n",
       "      <td>0</td>\n",
       "      <td>0</td>\n",
       "      <td>0</td>\n",
       "      <td>0</td>\n",
       "      <td>0</td>\n",
       "    </tr>\n",
       "    <tr>\n",
       "      <th>7526</th>\n",
       "      <td>155.080002</td>\n",
       "      <td>155.449997</td>\n",
       "      <td>149.130005</td>\n",
       "      <td>150.649994</td>\n",
       "      <td>150.649994</td>\n",
       "      <td>80379300.0</td>\n",
       "      <td>-4.430008</td>\n",
       "      <td>-1.0</td>\n",
       "      <td>0.369995</td>\n",
       "      <td>1.519989</td>\n",
       "      <td>...</td>\n",
       "      <td>0</td>\n",
       "      <td>0</td>\n",
       "      <td>0</td>\n",
       "      <td>0</td>\n",
       "      <td>0</td>\n",
       "      <td>0</td>\n",
       "      <td>0</td>\n",
       "      <td>0</td>\n",
       "      <td>0</td>\n",
       "      <td>0</td>\n",
       "    </tr>\n",
       "    <tr>\n",
       "      <th>7527</th>\n",
       "      <td>148.949997</td>\n",
       "      <td>152.169998</td>\n",
       "      <td>145.000000</td>\n",
       "      <td>145.029999</td>\n",
       "      <td>145.029999</td>\n",
       "      <td>93604600.0</td>\n",
       "      <td>-3.919998</td>\n",
       "      <td>-1.0</td>\n",
       "      <td>3.220001</td>\n",
       "      <td>0.029999</td>\n",
       "      <td>...</td>\n",
       "      <td>0</td>\n",
       "      <td>0</td>\n",
       "      <td>0</td>\n",
       "      <td>0</td>\n",
       "      <td>0</td>\n",
       "      <td>0</td>\n",
       "      <td>0</td>\n",
       "      <td>0</td>\n",
       "      <td>0</td>\n",
       "      <td>0</td>\n",
       "    </tr>\n",
       "    <tr>\n",
       "      <th>7528</th>\n",
       "      <td>142.059998</td>\n",
       "      <td>142.800003</td>\n",
       "      <td>138.750000</td>\n",
       "      <td>138.880005</td>\n",
       "      <td>138.880005</td>\n",
       "      <td>97572100.0</td>\n",
       "      <td>-3.179993</td>\n",
       "      <td>-1.0</td>\n",
       "      <td>0.740005</td>\n",
       "      <td>0.130005</td>\n",
       "      <td>...</td>\n",
       "      <td>0</td>\n",
       "      <td>0</td>\n",
       "      <td>0</td>\n",
       "      <td>0</td>\n",
       "      <td>0</td>\n",
       "      <td>0</td>\n",
       "      <td>0</td>\n",
       "      <td>0</td>\n",
       "      <td>0</td>\n",
       "      <td>0</td>\n",
       "    </tr>\n",
       "  </tbody>\n",
       "</table>\n",
       "<p>7523 rows × 26 columns</p>\n",
       "</div>"
      ],
      "text/plain": [
       "            open        high         low       close   adj close       volume  \\\n",
       "6       0.520089    0.535714    0.517857    0.532366    0.437784  256065600.0   \n",
       "7       0.533482    0.546875    0.533482    0.541295    0.445126  280168000.0   \n",
       "8       0.537946    0.540179    0.529018    0.533482    0.438701  112336000.0   \n",
       "9       0.535714    0.535714    0.526786    0.526786    0.433195   45964800.0   \n",
       "10      0.529018    0.533482    0.529018    0.531250    0.436866   70448000.0   \n",
       "...          ...         ...         ...         ...         ...          ...   \n",
       "7524  148.199997  157.500000  147.820007  155.740005  155.740005  164762400.0   \n",
       "7525  153.160004  154.240005  151.919998  153.339996  153.339996   97943200.0   \n",
       "7526  155.080002  155.449997  149.130005  150.649994  150.649994   80379300.0   \n",
       "7527  148.949997  152.169998  145.000000  145.029999  145.029999   93604600.0   \n",
       "7528  142.059998  142.800003  138.750000  138.880005  138.880005   97572100.0   \n",
       "\n",
       "          diff  direction  ushadow_width  lshadow_width  ...  evening  \\\n",
       "6    -0.082305       -1.0       0.015625       0.014509  ...        0   \n",
       "7    -0.088356       -1.0       0.013393       0.007813  ...        0   \n",
       "8    -0.099245       -1.0       0.002233       0.004464  ...        0   \n",
       "9    -0.102519       -1.0       0.000000       0.000000  ...        0   \n",
       "10   -0.092152       -1.0       0.004464       0.002232  ...        0   \n",
       "...        ...        ...            ...            ...  ...      ...   \n",
       "7524  7.540009        1.0       1.759995       0.379990  ...        0   \n",
       "7525  0.179993        1.0       0.900009       1.240005  ...        0   \n",
       "7526 -4.430008       -1.0       0.369995       1.519989  ...        0   \n",
       "7527 -3.919998       -1.0       3.220001       0.029999  ...        0   \n",
       "7528 -3.179993       -1.0       0.740005       0.130005  ...        0   \n",
       "\n",
       "      morning  shooting_star  hanging_man  bullish_engulfing  \\\n",
       "6           0              0            0                  0   \n",
       "7           0              0            0                  0   \n",
       "8           0              0            0                  0   \n",
       "9           0              0            0                  0   \n",
       "10          0              0            0                  0   \n",
       "...       ...            ...          ...                ...   \n",
       "7524        0              0            0                  0   \n",
       "7525        0              0            0                  0   \n",
       "7526        0              0            0                  0   \n",
       "7527        0              0            0                  0   \n",
       "7528        0              0            0                  0   \n",
       "\n",
       "      bearish_engulfing  hammer  inverted_hammer  bullish_harami  \\\n",
       "6                     0       0                0               0   \n",
       "7                     0       0                0               0   \n",
       "8                     0       0                0               0   \n",
       "9                     0       0                0               0   \n",
       "10                    0       0                0               0   \n",
       "...                 ...     ...              ...             ...   \n",
       "7524                  0       0                0               0   \n",
       "7525                  0       0                0               0   \n",
       "7526                  0       0                0               0   \n",
       "7527                  0       0                0               0   \n",
       "7528                  0       0                0               0   \n",
       "\n",
       "      bearish_harami  \n",
       "6                  0  \n",
       "7                  0  \n",
       "8                  0  \n",
       "9                  0  \n",
       "10                 0  \n",
       "...              ...  \n",
       "7524               0  \n",
       "7525               0  \n",
       "7526               0  \n",
       "7527               0  \n",
       "7528               0  \n",
       "\n",
       "[7523 rows x 26 columns]"
      ]
     },
     "execution_count": 18,
     "metadata": {},
     "output_type": "execute_result"
    }
   ],
   "source": [
    "data"
   ]
  },
  {
   "cell_type": "code",
   "execution_count": null,
   "metadata": {},
   "outputs": [],
   "source": [
    "from keras.models import load_model\n",
    "import pandas as pd\n",
    "import numpy as np\n",
    "\n",
    "# customized utilities\n",
    "\n",
    "\n",
    "def save_csv(gen_imgs, idx):\n",
    "    # inverse to time-series\n",
    "    temp = np.zeros((gen_imgs.shape[0], 10, 4))\n",
    "    for i in range(gen_imgs.shape[0]):\n",
    "        for c in range(gen_imgs.shape[-1]):\n",
    "            gen_imgs_each = gasf2ts(gen_imgs[i, :, :, c])\n",
    "            temp[i, :, c] = gen_imgs_each\n",
    "    gen_imgs = temp\n",
    "\n",
    "    candle_open = (gen_imgs[:, :, 0]).tolist()\n",
    "    candle_high = (gen_imgs[:, :, 1]).tolist()\n",
    "    candle_low = (gen_imgs[:, :, 2]).tolist()\n",
    "    candle_close = (gen_imgs[:, :, 3]).tolist()\n",
    "    \n",
    "    df = pd.DataFrame(columns = ['open', 'high', 'low', 'close'])\n",
    "    for i in range(len(candle_open)):\n",
    "        zippedList =  list(zip(candle_open[i], candle_high[i], candle_low[i], candle_close[i]))\n",
    "        df1 = pd.DataFrame(zippedList, columns = ['open', 'high', 'low', 'close']) \n",
    "        df = pd.concat([df, df1], axis=0)\n",
    "\n",
    "    if idx == 1:\n",
    "        global all_df\n",
    "        all_df = df\n",
    "    else:\n",
    "        all_df = pd.concat([all_df, df], axis=0)\n",
    "\n",
    "    if idx == 8:\n",
    "        # all_df.to_excel('new_data/cvae_label_data.xlsx', index=False)\n",
    "        all_df.to_excel('new_data/adversarial_fakedata.xlsx', index=False)\n",
    "\n",
    "\n",
    "def sample_images(label, decoder):\n",
    "        v = np.zeros((50, 101))\n",
    "        z = np.random.normal(size=(50, 100))\n",
    "        v[:, :100] = z\n",
    "        v[:, -1] = label\n",
    "        gen_imgs = decoder.predict(v)\n",
    "        gen_imgs = gen_imgs.reshape(gen_imgs.shape[0], 10, 10, 4)\n",
    "        save_csv(gen_imgs, label)\n",
    "\n",
    "\n",
    "def main(params):\n",
    "    decoder = load_model(params['cvae_decoder'])\n",
    "    for label in range(1, 9):\n",
    "        sample_images(label, decoder)\n",
    "\n",
    "\n",
    "if __name__ == '__main__':\n",
    "    PARAMS = dict()\n",
    "    PARAMS['cvae_decoder'] = './models/cvae_decoder.h5'\n",
    "\n",
    "    main(PARAMS)"
   ]
  }
 ],
 "metadata": {
  "kernelspec": {
   "display_name": "Python 3.8.13 64-bit ('dl_env')",
   "language": "python",
   "name": "python3"
  },
  "language_info": {
   "codemirror_mode": {
    "name": "ipython",
    "version": 3
   },
   "file_extension": ".py",
   "mimetype": "text/x-python",
   "name": "python",
   "nbconvert_exporter": "python",
   "pygments_lexer": "ipython3",
   "version": "3.8.13"
  },
  "orig_nbformat": 4,
  "vscode": {
   "interpreter": {
    "hash": "3b7f90f3ffd1b2a60fee91aee39c73355e94a75c9e00035a66944cc7ed4c1221"
   }
  }
 },
 "nbformat": 4,
 "nbformat_minor": 2
}
